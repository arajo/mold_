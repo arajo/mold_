{
 "cells": [
  {
   "cell_type": "code",
   "execution_count": 1,
   "metadata": {},
   "outputs": [],
   "source": [
    "\"\"\"\n",
    "DCGAN(Deep convolutional Generative Adbersarial Networks)을 이용한 센서 데이터 augmentation\n",
    "\"\"\""
   ]
  },
  {
   "cell_type": "code",
   "execution_count": 2,
   "metadata": {},
   "outputs": [],
   "source": [
    "import tensorflow as tf\n",
    "import numpy as np\n",
    "import pandas as pd\n",
    "import os\n",
    "import math"
   ]
  },
  {
   "cell_type": "code",
   "execution_count": 3,
   "metadata": {
    "scrolled": true
   },
   "outputs": [
    {
     "name": "stdout",
     "output_type": "stream",
     "text": [
      "(4818, 272)\n",
      "(4818,)\n"
     ]
    }
   ],
   "source": [
    "##################\n",
    "# 데이터 load\n",
    "##################\n",
    "\"\"\"\n",
    " Original DataSet\n",
    " -- data.shape : (33727, 27) / 'Y': 500개\n",
    " --  data_X.shape : (20631,24)\n",
    "\"\"\"\n",
    "\"\"\"\n",
    "ori_train = pd.read_csv('./data/train_FD0001_true5.csv',encoding= 'cp949')\n",
    "ori_test = pd.read_csv('./data/test_FD0001_true5.csv',encoding= 'cp949')\n",
    "#data = pd.concat([ori_train,ori_test], axis = 0)\n",
    "#data_X = data.iloc[:,:-1].values.tolist()\n",
    "data = ori_train\n",
    "data_X = data.iloc[:,2:-1].values.tolist()\n",
    "data_y = data['label']\n",
    "data_y = pd.get_dummies(data_y)\n",
    "data_y\n",
    "\"\"\"\n",
    "data_X = np.load('X_train_pad.npy')\n",
    "data_Y = np.load('y_train2.npy')\n",
    "\n",
    "data_X = np.reshape(data_X, (data_X.shape[0], data_X.shape[1]* data_X.shape[2]))\n",
    "print(data_X.shape)\n",
    "\n",
    "data_Y = np.reshape(data_Y, (data_Y.shape[0]))\n",
    "print(data_Y.shape)"
   ]
  },
  {
   "cell_type": "code",
   "execution_count": 4,
   "metadata": {},
   "outputs": [],
   "source": [
    "##################\n",
    "# 옵션 설정\n",
    "##################\n",
    "total_epoch = 50\n",
    "batch_size = 512\n",
    "n_hidden = 64\n",
    "n_input = data_X.shape[1]\n",
    "n_noise = 64\n",
    "learning_rate = 0.01\n",
    "n_class = len(np.unique(data_Y))\n",
    "n_multiply = 8 # data 부풀릴 양\n"
   ]
  },
  {
   "cell_type": "code",
   "execution_count": 5,
   "metadata": {
    "scrolled": true
   },
   "outputs": [],
   "source": [
    "data_y = tf.one_hot(data_Y,depth = n_class, dtype=tf.float32)"
   ]
  },
  {
   "cell_type": "code",
   "execution_count": 6,
   "metadata": {},
   "outputs": [],
   "source": [
    "dataset = tf.data.Dataset.from_tensor_slices((data_X, data_y))\n",
    "dataset = dataset.shuffle(batch_size).repeat().batch(batch_size)"
   ]
  },
  {
   "cell_type": "code",
   "execution_count": 7,
   "metadata": {},
   "outputs": [],
   "source": [
    "##################\n",
    "# 신경망 모델 구성\n",
    "##################\n",
    "X = tf.placeholder(tf.float32, [None, n_input], name='X')\n",
    "# 노이즈와 실제 이미지에, 그에 해당하는 숫자에 대한 정보를 넣어주기 위해 사용합니다.\n",
    "Y = tf.placeholder(tf.float32, [None, n_class], name='Y')\n",
    "Z = tf.placeholder(tf.float32, [None, n_noise], name='Z')"
   ]
  },
  {
   "cell_type": "code",
   "execution_count": 8,
   "metadata": {},
   "outputs": [],
   "source": [
    "def generator(noise, labels):\n",
    "    with tf.variable_scope('generator'):\n",
    "        # noise 값에 labels 정보를 추가합니다.\n",
    "        inputs = tf.concat([noise, labels], 1)\n",
    "        \n",
    "        \"\"\"\n",
    "        #@@@@@ dcgan\n",
    "        # TensorFlow 에서 제공하는 유틸리티 함수를 이용해 신경망을 매우 간단하게 구성할 수 있습니다.     \n",
    "        x = tf.layers.dense(inputs, n_hidden, activation=tf.nn.tanh)\n",
    "        x = tf.reshape(x, shape=[-1, 1, 1, n_hidden])\n",
    "        # Deconvolution\n",
    "        x = tf.layers.conv2d_transpose(x, 16, 4, strides = 2)\n",
    "        x = tf.layers.batch_normalization(x)\n",
    "        x = tf.nn.relu(x)\n",
    "        x = tf.layers.conv2d(x, n_input, 4, strides = 2)\n",
    "        x = tf.nn.relu(x)\n",
    "        output = tf.reshape(x, shape = [-1, n_input])\n",
    "        \"\"\"\n",
    "        hidden = tf.layers.dense(inputs, n_hidden, activation = tf.nn.relu)\n",
    "        hidden = tf.layers.dense(hidden, 32, activation = tf.nn.relu) \n",
    "        output = tf.layers.dense(hidden, n_input, activation=tf.nn.tanh)\n",
    "\n",
    "    return output\n",
    "\n",
    "\n",
    "def discriminator(inputs, labels, reuse=None):\n",
    "    with tf.variable_scope('discriminator') as scope:\n",
    "        # 노이즈에서 생성한 이미지와 실제 이미지를 판별하는 모델의 변수를 동일하게 하기 위해,\n",
    "        # 이전에 사용되었던 변수를 재사용하도록 합니다.\n",
    "        if reuse:\n",
    "            scope.reuse_variables()\n",
    "        inputs = tf.concat([inputs, labels], 1)        \n",
    "        x = tf.layers.dense(inputs, n_hidden, activation=tf.nn.relu)\n",
    "        x = tf.layers.dense(x, 32, activation=tf.nn.relu)\n",
    "        output = tf.layers.dense(x, 1, activation=tf.nn.sigmoid)\n",
    "\n",
    "    return output\n",
    "\n",
    "\n",
    "def get_noise(batch_size, n_noise):\n",
    "    return np.random.randn(batch_size, n_noise)\n",
    "\n",
    "# 생성 모델과 판별 모델에 Y 즉, labels 정보를 추가하여\n",
    "# labels 정보에 해당하는 이미지를 생성할 수 있도록 유도합니다.\n",
    "G = generator(Z, Y)\n",
    "D_real = discriminator(X, Y)\n",
    "D_gene = discriminator(G, Y, True)\n",
    "\n",
    "# 손실함수는 다음을 참고하여 GAN 논문에 나온 방식과는 약간 다르게 작성하였습니다.\n",
    "# http://bamos.github.io/2016/08/09/deep-completion/\n",
    "# 진짜 이미지를 판별하는 D_real 값은 1에 가깝도록,\n",
    "# 가짜 이미지를 판별하는 D_gene 값은 0에 가깝도록 하는 손실 함수입니다.\n",
    "loss_D_real = tf.reduce_mean(\n",
    "                    tf.nn.sigmoid_cross_entropy_with_logits(\n",
    "                        logits=D_real, labels=tf.ones_like(D_real)))\n",
    "loss_D_gene = tf.reduce_mean(\n",
    "                    tf.nn.sigmoid_cross_entropy_with_logits(\n",
    "                        logits=D_gene, labels=tf.zeros_like(D_gene)))\n",
    "\n",
    "# loss_D_real 과 loss_D_gene 을 더한 뒤 이 값을 최소화 하도록 최적화합니다.\n",
    "loss_D = loss_D_real + loss_D_gene\n",
    "\n",
    "# 가짜 이미지를 진짜에 가깝게 만들도록 생성망을 학습시키기 위해, D_gene 을 최대한 1에 가깝도록 만드는 손실함수입니다.\n",
    "loss_G = tf.reduce_mean(\n",
    "                    tf.nn.sigmoid_cross_entropy_with_logits(\n",
    "                        logits=D_gene, labels=tf.ones_like(D_gene)))\n",
    "\n",
    "# TensorFlow 에서 제공하는 유틸리티 함수를 이용해\n",
    "# discriminator 와 generator scope 에서 사용된 변수들을 쉽게 가져올 수 있습니다.\n",
    "vars_D = tf.get_collection(tf.GraphKeys.TRAINABLE_VARIABLES,\n",
    "                           scope='discriminator')\n",
    "vars_G = tf.get_collection(tf.GraphKeys.TRAINABLE_VARIABLES,\n",
    "                           scope='generator')\n",
    "\n",
    "train_D = tf.train.AdamOptimizer(learning_rate).minimize(loss_D, var_list=vars_D)\n",
    "train_G = tf.train.AdamOptimizer(learning_rate).minimize(loss_G, var_list=vars_G)"
   ]
  },
  {
   "cell_type": "code",
   "execution_count": 9,
   "metadata": {},
   "outputs": [
    {
     "name": "stdout",
     "output_type": "stream",
     "text": [
      "Epoch: 0000 D loss: 1.216 G loss: 0.5562\n",
      "Epoch: 0010 D loss: 1.006 G loss: 0.6931\n",
      "Epoch: 0020 D loss: 1.006 G loss: 0.6931\n",
      "Epoch: 0030 D loss: 1.006 G loss: 0.6931\n",
      "Epoch: 0040 D loss: 1.006 G loss: 0.6931\n",
      "최적화 완료!\n"
     ]
    }
   ],
   "source": [
    "#########\n",
    "# 신경망 모델 학습\n",
    "######\n",
    "generator_saver = tf.train.Saver()\n",
    "\n",
    "with tf.Session() as sess:\n",
    "    sess.run(tf.global_variables_initializer())\n",
    "    # 편향 초기화\n",
    "    loss_val_D, loss_val_G = 0, 0\n",
    "\n",
    "    for epoch in range(total_epoch):\n",
    "        \n",
    "        iterator = dataset.make_one_shot_iterator()\n",
    "        batch_xs, batch_ys = iterator.get_next()\n",
    "        \n",
    "        for _ in range(math.ceil(len(data_X)/batch_size)):\n",
    "            xs, ys = sess.run([batch_xs, batch_ys])\n",
    "            noise = get_noise(len(ys), n_noise)\n",
    "            _, loss_val_D = sess.run([train_D, loss_D],\n",
    "                                     feed_dict={X: xs, Y: ys, Z: noise})\n",
    "            _, loss_val_G = sess.run([train_G, loss_G],\n",
    "                                     feed_dict={Y: ys, Z: noise})\n",
    "\n",
    "        if epoch % 10 == 0:    \n",
    "            print('Epoch:', '%04d' % epoch,\n",
    "                  'D loss: {:.4}'.format(loss_val_D),\n",
    "                  'G loss: {:.4}'.format(loss_val_G))\n",
    "\n",
    "    generator_saver.save(sess, './model/model.ckpt')\n",
    "print('최적화 완료!')"
   ]
  },
  {
   "cell_type": "code",
   "execution_count": 10,
   "metadata": {},
   "outputs": [
    {
     "name": "stdout",
     "output_type": "stream",
     "text": [
      "<class 'tensorflow.python.training.checkpoint_state_pb2.CheckpointState'>\n"
     ]
    }
   ],
   "source": [
    "ckpt_state = tf.train.get_checkpoint_state(\"./model/\")\n",
    "print(type(ckpt_state))"
   ]
  },
  {
   "cell_type": "code",
   "execution_count": 11,
   "metadata": {},
   "outputs": [
    {
     "name": "stdout",
     "output_type": "stream",
     "text": [
      "첫번째 정보 사용법: ./model/model.ckpt\n",
      "두번째 정보 사용법: ['./model/model.ckpt']\n"
     ]
    }
   ],
   "source": [
    "print(\"첫번째 정보 사용법:\", ckpt_state.model_checkpoint_path)\n",
    "print(\"두번째 정보 사용법:\", ckpt_state.all_model_checkpoint_paths)"
   ]
  },
  {
   "cell_type": "code",
   "execution_count": 12,
   "metadata": {},
   "outputs": [],
   "source": [
    "from sklearn.preprocessing import OneHotEncoder\n",
    "ohe = OneHotEncoder(categories='auto')\n",
    "\n",
    "###################\n",
    "# 테스트\n",
    "###################\n",
    "\"\"\"\n",
    "ori_test = pd.read_csv('./data/test_FD0001_true5.csv',encoding= 'cp949')\n",
    "test_X = ori_test.iloc[:,2:-1].values.tolist()\n",
    "\n",
    "# 꺼지기전 5개일 때\n",
    "test_y = ori_test.iloc[:,-1]\n",
    "test_y = test_y.replace('N',0)\n",
    "test_y = test_y.replace('Y',1)\n",
    "\n",
    "test_y = ori_test.iloc[:,0]\n",
    "test_y = pd.get_dummies(test_y)\n",
    "\"\"\"\n",
    "data_Y = pd.get_dummies(data_Y)"
   ]
  },
  {
   "cell_type": "code",
   "execution_count": 13,
   "metadata": {},
   "outputs": [],
   "source": [
    "data_N = data_Y[data_Y[1] == 1]"
   ]
  },
  {
   "cell_type": "code",
   "execution_count": 14,
   "metadata": {},
   "outputs": [],
   "source": [
    "fake_X_N = []"
   ]
  },
  {
   "cell_type": "code",
   "execution_count": 15,
   "metadata": {},
   "outputs": [],
   "source": [
    "with tf.Session() as sess:\n",
    "    sess.run(tf.global_variables_initializer())    \n",
    "    sample_size = data_N.shape[0]\n",
    "    noise = get_noise(sample_size, n_noise)\n",
    "    for _ in range(n_multiply):    \n",
    "        samples = sess.run(G, feed_dict={Y: data_N, Z: get_noise(sample_size, n_noise)})\n",
    "        fake_X_N.append(np.reshape(samples, (samples.shape[0], 16, 17)))\n",
    "    #samples = sess.run(G, feed_dict={Y: test_y.iloc[0,:], Z: get_noise(sample_size, n_noise)})"
   ]
  },
  {
   "cell_type": "code",
   "execution_count": 16,
   "metadata": {},
   "outputs": [],
   "source": [
    "fake_X_N = np.asarray(fake_X_N)"
   ]
  },
  {
   "cell_type": "code",
   "execution_count": 17,
   "metadata": {},
   "outputs": [
    {
     "data": {
      "text/plain": [
       "(8, 400, 16, 17)"
      ]
     },
     "execution_count": 17,
     "metadata": {},
     "output_type": "execute_result"
    }
   ],
   "source": [
    "fake_X_N.shape"
   ]
  },
  {
   "cell_type": "code",
   "execution_count": 18,
   "metadata": {},
   "outputs": [],
   "source": [
    "np.save('fake_X_N', fake_X_N)"
   ]
  },
  {
   "cell_type": "code",
   "execution_count": null,
   "metadata": {},
   "outputs": [],
   "source": []
  }
 ],
 "metadata": {
  "kernelspec": {
   "display_name": "Python 3",
   "language": "python",
   "name": "python3"
  },
  "language_info": {
   "codemirror_mode": {
    "name": "ipython",
    "version": 3
   },
   "file_extension": ".py",
   "mimetype": "text/x-python",
   "name": "python",
   "nbconvert_exporter": "python",
   "pygments_lexer": "ipython3",
   "version": "3.6.8"
  }
 },
 "nbformat": 4,
 "nbformat_minor": 2
}
