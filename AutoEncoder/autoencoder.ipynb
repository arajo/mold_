{
 "cells": [
  {
   "cell_type": "code",
   "execution_count": 3,
   "metadata": {},
   "outputs": [],
   "source": [
    "#이미지 경로 저장\n",
    "import glob\n",
    "images = glob.glob('C:/Users/ARA/graph/*.png')"
   ]
  },
  {
   "cell_type": "code",
   "execution_count": 4,
   "metadata": {},
   "outputs": [
    {
     "data": {
      "text/plain": [
       "['C:/Users/ARA/graph\\\\graph1.png',\n",
       " 'C:/Users/ARA/graph\\\\graph2.png',\n",
       " 'C:/Users/ARA/graph\\\\graph3.png',\n",
       " 'C:/Users/ARA/graph\\\\graph4.png']"
      ]
     },
     "execution_count": 4,
     "metadata": {},
     "output_type": "execute_result"
    }
   ],
   "source": [
    "images"
   ]
  },
  {
   "cell_type": "code",
   "execution_count": 6,
   "metadata": {},
   "outputs": [],
   "source": [
    "import cv2"
   ]
  },
  {
   "cell_type": "code",
   "execution_count": 7,
   "metadata": {
    "scrolled": true
   },
   "outputs": [],
   "source": [
    "#이미지 데이터 저장\n",
    "train_data=[]\n",
    "for fname in images:\n",
    "    fimage = cv2.imread(fname, cv2.IMREAD_GRAYSCALE)\n",
    "    cv2.imshow('img', fimage)\n",
    "    train_data.append(fimage)\n",
    "    \n",
    "    cv2.waitKey(0)\n",
    "    cv2.destroyAllWindows()"
   ]
  },
  {
   "cell_type": "code",
   "execution_count": 8,
   "metadata": {},
   "outputs": [
    {
     "data": {
      "text/plain": [
       "(4, 238, 356)"
      ]
     },
     "execution_count": 8,
     "metadata": {},
     "output_type": "execute_result"
    }
   ],
   "source": [
    "import numpy as np\n",
    "X_train = np.array(train_data)\n",
    "X_train.shape"
   ]
  },
  {
   "cell_type": "code",
   "execution_count": 95,
   "metadata": {},
   "outputs": [
    {
     "data": {
      "text/plain": [
       "array([255, 255, 255, 255, 255, 255, 255, 255, 255, 255, 255, 255, 255,\n",
       "       255, 255, 255, 255, 255, 255, 255, 255, 255, 255, 255, 255, 255,\n",
       "       255, 255, 255, 255, 255, 255, 255, 255, 255, 255, 255, 255, 255,\n",
       "       255, 255, 255, 255, 255, 255, 255, 255, 255, 255, 255, 255, 255,\n",
       "       255, 255, 255, 255, 255, 255, 255, 255, 255, 255, 255, 255, 255,\n",
       "       255, 255, 255, 255, 255, 255, 255, 255, 255, 255, 255, 255, 255,\n",
       "       255, 255, 255, 255, 255, 255, 255, 255, 255, 255, 255, 255, 255,\n",
       "       255, 255, 255, 255, 255, 255, 255, 255, 255, 255, 255, 255, 255,\n",
       "       255, 255, 255, 255, 255, 255, 255, 255, 255, 255, 255, 255, 255,\n",
       "       255, 255, 255, 255, 255, 255, 255, 255, 255, 255, 255, 255, 255,\n",
       "       255, 255, 255, 255, 255, 255, 255, 255, 255, 255, 255, 255, 255,\n",
       "       255, 255, 255, 255, 255, 255, 255, 255, 255, 255, 255, 255, 255,\n",
       "       255, 255, 255, 255, 255, 255, 255, 255, 255, 255, 255, 255, 255,\n",
       "       255, 255, 255, 255, 255, 255, 255, 255, 255, 255, 255, 255, 255,\n",
       "       255, 255, 255, 255, 255, 255, 255, 255, 255, 255, 255, 255, 255,\n",
       "       255, 255, 255, 255, 255, 255, 255, 255, 255, 255, 255, 255, 255,\n",
       "       255, 255, 255, 255, 255, 255, 255, 255, 255, 255, 255, 255, 255,\n",
       "       255, 255, 255, 255, 255, 255, 255, 255, 255, 255, 255, 255, 255,\n",
       "       255, 255, 255, 255, 255, 255, 255, 255, 255, 255, 255, 255, 255,\n",
       "       255, 255, 255, 255, 255, 255, 255, 255, 255, 255, 255, 255, 255,\n",
       "       255, 255, 255, 255, 255, 255, 255, 255, 255, 255, 255, 255, 255,\n",
       "       255, 255, 255, 255, 255, 255, 255, 255, 255, 255, 255, 255, 255,\n",
       "       255, 255, 255, 255, 255, 255, 255, 255, 255, 255, 255, 255, 255,\n",
       "       255, 255, 255, 255, 255, 255, 255, 255, 255, 255, 255, 255, 255,\n",
       "       255, 255, 255, 255, 255, 255, 255, 255, 255, 255, 255, 255, 255,\n",
       "       255, 255, 255, 255, 255, 255, 255, 255, 255, 255, 255, 255, 255,\n",
       "       255, 255, 255, 255, 255, 255, 255, 255, 255, 255, 255, 255, 255,\n",
       "       255, 255, 255, 255, 255], dtype=uint8)"
      ]
     },
     "execution_count": 95,
     "metadata": {},
     "output_type": "execute_result"
    }
   ],
   "source": [
    "X_train[1][1]"
   ]
  },
  {
   "cell_type": "code",
   "execution_count": 1,
   "metadata": {},
   "outputs": [],
   "source": [
    "import tensorflow"
   ]
  },
  {
   "cell_type": "code",
   "execution_count": 72,
   "metadata": {},
   "outputs": [],
   "source": [
    "# Building the model\n",
    "from keras.models import Model, load_model\n",
    "from keras.layers import Input, Dense\n",
    "from keras.callbacks import ModelCheckpoint, TensorBoard\n",
    "from keras import regularizers\n",
    "input_dim1 = X_train.shape[1]\n",
    "input_dim2 = X_train.shape[2]\n",
    "input_dim = input_dim1 * input_dim2\n",
    "encoding_dim = 128\n"
   ]
  },
  {
   "cell_type": "code",
   "execution_count": 73,
   "metadata": {},
   "outputs": [
    {
     "data": {
      "text/plain": [
       "(4, 238, 356)"
      ]
     },
     "execution_count": 73,
     "metadata": {},
     "output_type": "execute_result"
    }
   ],
   "source": [
    "X_train.shape"
   ]
  },
  {
   "cell_type": "code",
   "execution_count": 74,
   "metadata": {},
   "outputs": [
    {
     "data": {
      "text/plain": [
       "(4, 84728)"
      ]
     },
     "execution_count": 74,
     "metadata": {},
     "output_type": "execute_result"
    }
   ],
   "source": [
    "X_train_re= X_train.reshape(4, input_dim)\n",
    "X_train_re.shape"
   ]
  },
  {
   "cell_type": "code",
   "execution_count": 75,
   "metadata": {},
   "outputs": [],
   "source": [
    "input_layer = Input(shape=(input_dim,))"
   ]
  },
  {
   "cell_type": "code",
   "execution_count": 76,
   "metadata": {},
   "outputs": [],
   "source": [
    "encoder = Dense(encoding_dim, activation=\"tanh\", \n",
    "                activity_regularizer=regularizers.l1(10e-5))(input_layer)\n",
    "encoder = Dense(int(encoding_dim / 2), activation=\"relu\")(encoder)\n",
    "decoder = Dense(int(encoding_dim / 2), activation='tanh')(encoder)\n",
    "decoder = Dense(input_dim, activation='relu')(decoder)\n",
    "autoencoder = Model(inputs=input_layer, outputs=decoder)"
   ]
  },
  {
   "cell_type": "code",
   "execution_count": 81,
   "metadata": {},
   "outputs": [],
   "source": [
    "nb_epoch = 30\n",
    "batch_size = 4\n",
    "autoencoder.compile(optimizer='adam', \n",
    "                    loss='binary_crossentropy', \n",
    "                    metrics=['accuracy'])"
   ]
  },
  {
   "cell_type": "code",
   "execution_count": 82,
   "metadata": {},
   "outputs": [],
   "source": [
    "checkpointer = ModelCheckpoint(filepath=\"model.h5\",\n",
    "                               verbose=0,\n",
    "                               save_best_only=True)"
   ]
  },
  {
   "cell_type": "code",
   "execution_count": 83,
   "metadata": {},
   "outputs": [
    {
     "name": "stdout",
     "output_type": "stream",
     "text": [
      "Train on 4 samples, validate on 4 samples\n",
      "Epoch 1/30\n",
      "4/4 [==============================] - 1s 161ms/step - loss: -1266.2845 - acc: 0.0000e+00 - val_loss: -1268.6514 - val_acc: 0.0000e+00\n",
      "Epoch 2/30\n",
      "4/4 [==============================] - 0s 96ms/step - loss: -1268.6514 - acc: 0.0000e+00 - val_loss: -1270.0675 - val_acc: 0.0000e+00\n",
      "Epoch 3/30\n",
      "4/4 [==============================] - 0s 91ms/step - loss: -1270.0675 - acc: 0.0000e+00 - val_loss: -1271.2538 - val_acc: 0.0000e+00\n",
      "Epoch 4/30\n",
      "4/4 [==============================] - 0s 91ms/step - loss: -1271.2538 - acc: 0.0000e+00 - val_loss: -1272.3469 - val_acc: 0.0000e+00\n",
      "Epoch 5/30\n",
      "4/4 [==============================] - 0s 93ms/step - loss: -1272.3468 - acc: 0.0000e+00 - val_loss: -1273.5756 - val_acc: 0.0000e+00\n",
      "Epoch 6/30\n",
      "4/4 [==============================] - 0s 97ms/step - loss: -1273.5756 - acc: 0.0000e+00 - val_loss: -1275.6437 - val_acc: 0.0000e+00\n",
      "Epoch 7/30\n",
      "4/4 [==============================] - 0s 91ms/step - loss: -1275.6438 - acc: 0.0000e+00 - val_loss: -1278.9415 - val_acc: 0.0000e+00\n",
      "Epoch 8/30\n",
      "4/4 [==============================] - 0s 88ms/step - loss: -1278.9415 - acc: 0.0000e+00 - val_loss: -1283.0294 - val_acc: 0.0000e+00\n",
      "Epoch 9/30\n",
      "4/4 [==============================] - 0s 92ms/step - loss: -1283.0294 - acc: 0.0000e+00 - val_loss: -1288.3495 - val_acc: 0.0000e+00\n",
      "Epoch 10/30\n",
      "4/4 [==============================] - 0s 92ms/step - loss: -1288.3495 - acc: 0.0000e+00 - val_loss: -1293.0619 - val_acc: 0.0000e+00\n",
      "Epoch 11/30\n",
      "4/4 [==============================] - 0s 92ms/step - loss: -1293.0619 - acc: 0.0000e+00 - val_loss: -1296.4746 - val_acc: 0.0000e+00\n",
      "Epoch 12/30\n",
      "4/4 [==============================] - 0s 94ms/step - loss: -1296.4746 - acc: 0.0000e+00 - val_loss: -1298.3983 - val_acc: 0.0000e+00\n",
      "Epoch 13/30\n",
      "4/4 [==============================] - 0s 102ms/step - loss: -1298.3983 - acc: 0.0000e+00 - val_loss: -1299.3834 - val_acc: 0.0000e+00\n",
      "Epoch 14/30\n",
      "4/4 [==============================] - 0s 103ms/step - loss: -1299.3834 - acc: 0.0000e+00 - val_loss: -1300.0421 - val_acc: 0.0000e+00\n",
      "Epoch 15/30\n",
      "4/4 [==============================] - 0s 92ms/step - loss: -1300.0421 - acc: 0.0000e+00 - val_loss: -1300.4441 - val_acc: 0.0000e+00\n",
      "Epoch 16/30\n",
      "4/4 [==============================] - 0s 89ms/step - loss: -1300.4441 - acc: 0.0000e+00 - val_loss: -1300.7810 - val_acc: 0.0000e+00\n",
      "Epoch 17/30\n",
      "4/4 [==============================] - 0s 92ms/step - loss: -1300.7810 - acc: 0.0000e+00 - val_loss: -1301.0768 - val_acc: 0.0000e+00\n",
      "Epoch 18/30\n",
      "4/4 [==============================] - 0s 99ms/step - loss: -1301.0768 - acc: 0.0000e+00 - val_loss: -1301.2777 - val_acc: 0.0000e+00\n",
      "Epoch 19/30\n",
      "4/4 [==============================] - 0s 96ms/step - loss: -1301.2777 - acc: 0.0000e+00 - val_loss: -1301.4585 - val_acc: 0.0000e+00\n",
      "Epoch 20/30\n",
      "4/4 [==============================] - 0s 94ms/step - loss: -1301.4585 - acc: 0.0000e+00 - val_loss: -1301.6251 - val_acc: 0.0000e+00\n",
      "Epoch 21/30\n",
      "4/4 [==============================] - 0s 102ms/step - loss: -1301.6251 - acc: 0.0000e+00 - val_loss: -1301.8282 - val_acc: 0.0000e+00\n",
      "Epoch 22/30\n",
      "4/4 [==============================] - 0s 96ms/step - loss: -1301.8282 - acc: 0.0000e+00 - val_loss: -1302.0975 - val_acc: 0.0000e+00\n",
      "Epoch 23/30\n",
      "4/4 [==============================] - 0s 100ms/step - loss: -1302.0975 - acc: 0.0000e+00 - val_loss: -1302.3075 - val_acc: 0.0000e+00\n",
      "Epoch 24/30\n",
      "4/4 [==============================] - 0s 100ms/step - loss: -1302.3075 - acc: 0.0000e+00 - val_loss: -1302.5594 - val_acc: 0.0000e+00\n",
      "Epoch 25/30\n",
      "4/4 [==============================] - 0s 97ms/step - loss: -1302.5594 - acc: 0.0000e+00 - val_loss: -1302.8470 - val_acc: 0.0000e+00\n",
      "Epoch 26/30\n",
      "4/4 [==============================] - 0s 109ms/step - loss: -1302.8470 - acc: 0.0000e+00 - val_loss: -1303.2661 - val_acc: 0.0000e+00\n",
      "Epoch 27/30\n",
      "4/4 [==============================] - 0s 106ms/step - loss: -1303.2661 - acc: 0.0000e+00 - val_loss: -1304.0883 - val_acc: 0.0000e+00\n",
      "Epoch 28/30\n",
      "4/4 [==============================] - 0s 115ms/step - loss: -1304.0883 - acc: 0.0000e+00 - val_loss: -1305.1832 - val_acc: 0.0000e+00\n",
      "Epoch 29/30\n",
      "4/4 [==============================] - 0s 104ms/step - loss: -1305.1831 - acc: 0.0000e+00 - val_loss: -1307.2649 - val_acc: 0.0000e+00\n",
      "Epoch 30/30\n",
      "4/4 [==============================] - 0s 99ms/step - loss: -1307.2648 - acc: 0.0000e+00 - val_loss: -1310.7875 - val_acc: 0.0000e+00\n"
     ]
    }
   ],
   "source": [
    "tensorboard = TensorBoard(log_dir='./logs',\n",
    "                          histogram_freq=0,\n",
    "                          write_graph=True,\n",
    "                          write_images=True)\n",
    "history = autoencoder.fit(X_train_re, X_train_re,\n",
    "                    epochs=nb_epoch,\n",
    "                    batch_size=batch_size,\n",
    "                    shuffle=True,\n",
    "                    validation_data=(X_train_re, X_train_re),\n",
    "                    verbose=1,\n",
    "                    callbacks=[checkpointer, tensorboard]).history"
   ]
  },
  {
   "cell_type": "code",
   "execution_count": 91,
   "metadata": {},
   "outputs": [
    {
     "name": "stdout",
     "output_type": "stream",
     "text": [
      "Epoch 1/10\n",
      "4/4 [==============================] - 0s 96ms/step - loss: -1310.7875 - acc: 0.0000e+00\n",
      "Epoch 2/10\n",
      "4/4 [==============================] - 0s 88ms/step - loss: -1315.4529 - acc: 0.0000e+00\n",
      "Epoch 3/10\n",
      "4/4 [==============================] - 0s 86ms/step - loss: -1320.9386 - acc: 0.0000e+00\n",
      "Epoch 4/10\n",
      "4/4 [==============================] - 0s 99ms/step - loss: -1326.2355 - acc: 0.0000e+00\n",
      "Epoch 5/10\n",
      "4/4 [==============================] - 0s 99ms/step - loss: -1329.7985 - acc: 0.0000e+00\n",
      "Epoch 6/10\n",
      "4/4 [==============================] - 0s 87ms/step - loss: -1332.0468 - acc: 0.0000e+00\n",
      "Epoch 7/10\n",
      "4/4 [==============================] - 0s 103ms/step - loss: -1333.3024 - acc: 0.0000e+00\n",
      "Epoch 8/10\n",
      "4/4 [==============================] - 0s 100ms/step - loss: -1334.1017 - acc: 0.0000e+00\n",
      "Epoch 9/10\n",
      "4/4 [==============================] - 0s 101ms/step - loss: -1334.7209 - acc: 0.0000e+00\n",
      "Epoch 10/10\n",
      "4/4 [==============================] - 0s 99ms/step - loss: -1335.1923 - acc: 0.0000e+00\n"
     ]
    },
    {
     "data": {
      "text/plain": [
       "<keras.callbacks.History at 0x18d809e3c18>"
      ]
     },
     "execution_count": 91,
     "metadata": {},
     "output_type": "execute_result"
    }
   ],
   "source": [
    "autoencoder.fit(X_train_re, X_train_re, epochs=10, batch_size=4, shuffle=True)"
   ]
  },
  {
   "cell_type": "code",
   "execution_count": 92,
   "metadata": {},
   "outputs": [
    {
     "ename": "AttributeError",
     "evalue": "'Tensor' object has no attribute 'predict'",
     "output_type": "error",
     "traceback": [
      "\u001b[1;31m---------------------------------------------------------------------------\u001b[0m",
      "\u001b[1;31mAttributeError\u001b[0m                            Traceback (most recent call last)",
      "\u001b[1;32m<ipython-input-92-71aef43d91d0>\u001b[0m in \u001b[0;36m<module>\u001b[1;34m\u001b[0m\n\u001b[0;32m      1\u001b[0m \u001b[1;31m# encode and decode some digits\u001b[0m\u001b[1;33m\u001b[0m\u001b[1;33m\u001b[0m\u001b[1;33m\u001b[0m\u001b[0m\n\u001b[0;32m      2\u001b[0m \u001b[1;31m# note that we take them from the *test* set\u001b[0m\u001b[1;33m\u001b[0m\u001b[1;33m\u001b[0m\u001b[1;33m\u001b[0m\u001b[0m\n\u001b[1;32m----> 3\u001b[1;33m \u001b[0mencoded_imgs\u001b[0m \u001b[1;33m=\u001b[0m \u001b[0mencoder\u001b[0m\u001b[1;33m.\u001b[0m\u001b[0mpredict\u001b[0m\u001b[1;33m(\u001b[0m\u001b[0mX_train_re\u001b[0m\u001b[1;33m)\u001b[0m\u001b[1;33m\u001b[0m\u001b[1;33m\u001b[0m\u001b[0m\n\u001b[0m\u001b[0;32m      4\u001b[0m \u001b[0mdecoded_imgs\u001b[0m \u001b[1;33m=\u001b[0m \u001b[0mdecoder\u001b[0m\u001b[1;33m.\u001b[0m\u001b[0mpredict\u001b[0m\u001b[1;33m(\u001b[0m\u001b[0mencoded_imgs\u001b[0m\u001b[1;33m)\u001b[0m\u001b[1;33m\u001b[0m\u001b[1;33m\u001b[0m\u001b[0m\n",
      "\u001b[1;31mAttributeError\u001b[0m: 'Tensor' object has no attribute 'predict'"
     ]
    }
   ],
   "source": [
    "# encode and decode some digits\n",
    "# note that we take them from the *test* set\n",
    "encoded_imgs = encoder.predict(X_train_re)\n",
    "decoded_imgs = decoder.predict(encoded_imgs)"
   ]
  },
  {
   "cell_type": "code",
   "execution_count": 93,
   "metadata": {},
   "outputs": [],
   "source": [
    "decoded_imgs = autoencoder.predict(X_train_re)"
   ]
  },
  {
   "cell_type": "code",
   "execution_count": 94,
   "metadata": {},
   "outputs": [
    {
     "data": {
      "image/png": "[encoded data removed]",
      "text/plain": [
       "<Figure size 1440x288 with 8 Axes>"
      ]
     },
     "metadata": {
      "needs_background": "light"
     },
     "output_type": "display_data"
    }
   ],
   "source": [
    "# use Matplotlib (don't ask)\n",
    "import matplotlib.pyplot as plt\n",
    "\n",
    "n = 4  # how many digits we will display\n",
    "plt.figure(figsize=(20, 4))\n",
    "for i in range(n):\n",
    "    # display original\n",
    "    ax = plt.subplot(2, n, i + 1)\n",
    "    plt.imshow(X_train_re[i].reshape(input_dim1, input_dim2))\n",
    "    plt.gray()\n",
    "    ax.get_xaxis().set_visible(False)\n",
    "    ax.get_yaxis().set_visible(False)\n",
    "\n",
    "    # display reconstruction\n",
    "    ax = plt.subplot(2, n, i + 1 + n)\n",
    "    plt.imshow(decoded_imgs[i].reshape(input_dim1, input_dim2))\n",
    "    plt.gray()\n",
    "    ax.get_xaxis().set_visible(False)\n",
    "    ax.get_yaxis().set_visible(False)\n",
    "plt.show()"
   ]
  },
  {
   "cell_type": "code",
   "execution_count": null,
   "metadata": {},
   "outputs": [],
   "source": []
  }
 ],
 "metadata": {
  "kernelspec": {
   "display_name": "Python 3",
   "language": "python",
   "name": "python3"
  },
  "language_info": {
   "codemirror_mode": {
    "name": "ipython",
    "version": 3
   },
   "file_extension": ".py",
   "mimetype": "text/x-python",
   "name": "python",
   "nbconvert_exporter": "python",
   "pygments_lexer": "ipython3",
   "version": "3.6.8"
  }
 },
 "nbformat": 4,
 "nbformat_minor": 2
}
