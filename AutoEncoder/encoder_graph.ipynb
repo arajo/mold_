{
 "cells": [
  {
   "cell_type": "code",
   "execution_count": 1,
   "metadata": {},
   "outputs": [],
   "source": [
    "import pandas as pd\n",
    "import numpy as np\n",
    "from sklearn.externals import joblib\n",
    "import matplotlib.pyplot as plt"
   ]
  },
  {
   "cell_type": "code",
   "execution_count": 48,
   "metadata": {},
   "outputs": [],
   "source": [
    "path = 'C:/Users/JIHYEON/Documents/01.금형/03.python/data/haitian-kashui_13.xlsx'\n",
    "kashui = pd.read_excel(path)"
   ]
  },
  {
   "cell_type": "code",
   "execution_count": 49,
   "metadata": {},
   "outputs": [],
   "source": [
    "x = kashui.iloc[:,1:-3]\n",
    "y = kashui.iloc[:,:-1]\n",
    "x_arr = np.array(x)"
   ]
  },
  {
   "cell_type": "code",
   "execution_count": 6,
   "metadata": {},
   "outputs": [],
   "source": [
    "# k-means label\n",
    "# y = pd.Series(np.load('./result/kashui_kmeans_label.npy'))"
   ]
  },
  {
   "cell_type": "code",
   "execution_count": 54,
   "metadata": {},
   "outputs": [],
   "source": [
    "from sklearn.preprocessing import StandardScaler, MinMaxScaler\n",
    "x_scaler = StandardScaler().fit_transform(x_arr)"
   ]
  },
  {
   "cell_type": "code",
   "execution_count": 70,
   "metadata": {},
   "outputs": [],
   "source": [
    "from sklearn.model_selection import train_test_split\n",
    "X_train, X_test, y_train, y_test = train_test_split(x_scaler,y,test_size=0.3,random_state=4)"
   ]
  },
  {
   "cell_type": "code",
   "execution_count": 71,
   "metadata": {},
   "outputs": [],
   "source": [
    "h=1\n",
    "w=12\n",
    "x_train = np.reshape(X_train,(len(X_train),h,w,1))\n",
    "x_test = np.reshape(X_test,(len(X_test),h,w,1))"
   ]
  },
  {
   "cell_type": "code",
   "execution_count": 72,
   "metadata": {},
   "outputs": [
    {
     "data": {
      "text/plain": [
       "(210, 1, 12, 1)"
      ]
     },
     "execution_count": 72,
     "metadata": {},
     "output_type": "execute_result"
    }
   ],
   "source": [
    "np.shape(x_train)"
   ]
  },
  {
   "cell_type": "code",
   "execution_count": 73,
   "metadata": {},
   "outputs": [
    {
     "data": {
      "text/plain": [
       "(90, 1, 12, 1)"
      ]
     },
     "execution_count": 73,
     "metadata": {},
     "output_type": "execute_result"
    }
   ],
   "source": [
    "np.shape(x_test)"
   ]
  },
  {
   "cell_type": "code",
   "execution_count": 98,
   "metadata": {},
   "outputs": [],
   "source": [
    "from keras.layers import Input, Convolution2D, MaxPooling2D, UpSampling2D\n",
    "from keras.models import Model\n",
    "from keras import backend as K\n",
    "input_img = Input(shape=(h, w, 1)) # 1ch=black&white, 224 x 224\n",
    "\n",
    "chanuel1 = 4\n",
    "chanuel2 = 2"
   ]
  },
  {
   "cell_type": "code",
   "execution_count": 103,
   "metadata": {},
   "outputs": [
    {
     "name": "stdout",
     "output_type": "stream",
     "text": [
      "(?, 1, 12, 4)\n",
      "(?, 1, 6, 4)\n",
      "(?, 1, 6, 2)\n",
      "(?, 1, 3, 2)\n",
      "(?, 1, 3, 1)\n",
      "(?, 1, 2, 1)\n"
     ]
    },
    {
     "name": "stderr",
     "output_type": "stream",
     "text": [
      "C:\\Users\\JIHYEON\\Anaconda3\\lib\\site-packages\\ipykernel_launcher.py:1: UserWarning: Update your `Conv2D` call to the Keras 2 API: `Conv2D(4, (1, 3), activation=\"relu\", padding=\"same\")`\n",
      "  \"\"\"Entry point for launching an IPython kernel.\n",
      "C:\\Users\\JIHYEON\\Anaconda3\\lib\\site-packages\\ipykernel_launcher.py:4: UserWarning: Update your `MaxPooling2D` call to the Keras 2 API: `MaxPooling2D((1, 2), padding=\"same\")`\n",
      "  after removing the cwd from sys.path.\n",
      "C:\\Users\\JIHYEON\\Anaconda3\\lib\\site-packages\\ipykernel_launcher.py:7: UserWarning: Update your `Conv2D` call to the Keras 2 API: `Conv2D(2, (1, 2), activation=\"relu\", padding=\"same\")`\n",
      "  import sys\n",
      "C:\\Users\\JIHYEON\\Anaconda3\\lib\\site-packages\\ipykernel_launcher.py:10: UserWarning: Update your `MaxPooling2D` call to the Keras 2 API: `MaxPooling2D((1, 2), padding=\"same\")`\n",
      "  # Remove the CWD from sys.path while we load stuff.\n",
      "C:\\Users\\JIHYEON\\Anaconda3\\lib\\site-packages\\ipykernel_launcher.py:13: UserWarning: Update your `Conv2D` call to the Keras 2 API: `Conv2D(1, (1, 2), activation=\"sigmoid\", padding=\"same\")`\n",
      "  del sys.path[0]\n",
      "C:\\Users\\JIHYEON\\Anaconda3\\lib\\site-packages\\ipykernel_launcher.py:16: UserWarning: Update your `MaxPooling2D` call to the Keras 2 API: `MaxPooling2D((1, 2), padding=\"same\")`\n",
      "  app.launch_new_instance()\n"
     ]
    }
   ],
   "source": [
    "x = Convolution2D(chanuel1, 1, 3, activation='relu', border_mode='same')(input_img) #nb_filter, nb_row, nb_col\n",
    "print(np.shape(x))\n",
    "\n",
    "x = MaxPooling2D((1, 2), border_mode='same')(x)\n",
    "print(np.shape(x))\n",
    "\n",
    "x = Convolution2D(chanuel2, 1, 2, activation='relu', border_mode='same')(x)\n",
    "print(np.shape(x))\n",
    "\n",
    "x = MaxPooling2D((1, 2), border_mode='same')(x)\n",
    "print(np.shape(x))\n",
    "\n",
    "x = Convolution2D(1, 1, 2, activation='sigmoid', border_mode='same')(x)\n",
    "print(np.shape(x))\n",
    "\n",
    "encoded = MaxPooling2D((1, 2), border_mode='same')(x)\n",
    "print(np.shape(encoded))"
   ]
  },
  {
   "cell_type": "code",
   "execution_count": 104,
   "metadata": {
    "scrolled": true
   },
   "outputs": [
    {
     "name": "stdout",
     "output_type": "stream",
     "text": [
      "(?, 1, 2, 2)\n",
      "(?, 1, 6, 2)\n",
      "(?, 1, 6, 4)\n",
      "(?, 1, 6, 4)\n",
      "(?, 1, 6, 1)\n",
      "(?, 1, 12, 1)\n",
      "(?, 1, 12, 1)\n"
     ]
    },
    {
     "name": "stderr",
     "output_type": "stream",
     "text": [
      "C:\\Users\\JIHYEON\\Anaconda3\\lib\\site-packages\\ipykernel_launcher.py:1: UserWarning: Update your `Conv2D` call to the Keras 2 API: `Conv2D(2, (1, 2), activation=\"relu\", padding=\"same\")`\n",
      "  \"\"\"Entry point for launching an IPython kernel.\n",
      "C:\\Users\\JIHYEON\\Anaconda3\\lib\\site-packages\\ipykernel_launcher.py:7: UserWarning: Update your `Conv2D` call to the Keras 2 API: `Conv2D(4, (1, 2), activation=\"relu\", padding=\"same\")`\n",
      "  import sys\n",
      "C:\\Users\\JIHYEON\\Anaconda3\\lib\\site-packages\\ipykernel_launcher.py:13: UserWarning: Update your `Conv2D` call to the Keras 2 API: `Conv2D(1, (1, 2), activation=\"relu\", padding=\"same\")`\n",
      "  del sys.path[0]\n",
      "C:\\Users\\JIHYEON\\Anaconda3\\lib\\site-packages\\ipykernel_launcher.py:19: UserWarning: Update your `Conv2D` call to the Keras 2 API: `Conv2D(1, (1, 3), activation=\"sigmoid\", padding=\"same\")`\n"
     ]
    }
   ],
   "source": [
    "x = Convolution2D(chanuel2, 1, 2, activation='relu', border_mode='same')(encoded)\n",
    "print(np.shape(x))\n",
    "\n",
    "x = UpSampling2D((1, 3))(x)\n",
    "print(np.shape(x))\n",
    "\n",
    "x = Convolution2D(chanuel1, 1, 2, activation='relu', border_mode='same')(x)\n",
    "print(np.shape(x))\n",
    "\n",
    "x = UpSampling2D((1, 1))(x)\n",
    "print(np.shape(x))\n",
    "\n",
    "x = Convolution2D(1, 1, 2, activation='relu', border_mode='same')(x)\n",
    "print(np.shape(x))\n",
    "\n",
    "x = UpSampling2D((1, 2))(x)\n",
    "print(np.shape(x))\n",
    "\n",
    "decoded = Convolution2D(1, 1, 3, activation='sigmoid', border_mode='same')(x)\n",
    "print(np.shape(x))"
   ]
  },
  {
   "cell_type": "code",
   "execution_count": 105,
   "metadata": {
    "collapsed": true
   },
   "outputs": [
    {
     "name": "stderr",
     "output_type": "stream",
     "text": [
      "C:\\Users\\JIHYEON\\Anaconda3\\lib\\site-packages\\ipykernel_launcher.py:6: UserWarning: The `nb_epoch` argument in `fit` has been renamed `epochs`.\n",
      "  \n"
     ]
    },
    {
     "name": "stdout",
     "output_type": "stream",
     "text": [
      "Train on 210 samples, validate on 90 samples\n",
      "Epoch 1/50\n",
      "210/210 [==============================] - 2s 8ms/step - loss: 0.6768 - val_loss: 0.6571\n",
      "Epoch 2/50\n",
      "210/210 [==============================] - 0s 1ms/step - loss: 0.6425 - val_loss: 0.6203\n",
      "Epoch 3/50\n",
      "210/210 [==============================] - 0s 1ms/step - loss: 0.6082 - val_loss: 0.5837\n",
      "Epoch 4/50\n",
      "210/210 [==============================] - ETA: 0s - loss: 0.581 - 0s 1ms/step - loss: 0.5747 - val_loss: 0.5483\n",
      "Epoch 5/50\n",
      "210/210 [==============================] - 0s 1ms/step - loss: 0.5424 - val_loss: 0.5143\n",
      "Epoch 6/50\n",
      "210/210 [==============================] - 0s 1ms/step - loss: 0.5121 - val_loss: 0.4829\n",
      "Epoch 7/50\n",
      "210/210 [==============================] - 0s 1ms/step - loss: 0.4843 - val_loss: 0.4538\n",
      "Epoch 8/50\n",
      "210/210 [==============================] - 0s 2ms/step - loss: 0.4582 - val_loss: 0.4260\n",
      "Epoch 9/50\n",
      "210/210 [==============================] - 0s 1ms/step - loss: 0.4335 - val_loss: 0.3999\n",
      "Epoch 10/50\n",
      "210/210 [==============================] - 0s 1ms/step - loss: 0.4107 - val_loss: 0.3759\n",
      "Epoch 11/50\n",
      "210/210 [==============================] - 0s 1ms/step - loss: 0.3895 - val_loss: 0.3529\n",
      "Epoch 12/50\n",
      "210/210 [==============================] - 0s 1ms/step - loss: 0.3696 - val_loss: 0.3316\n",
      "Epoch 13/50\n",
      "210/210 [==============================] - 0s 1ms/step - loss: 0.3509 - val_loss: 0.3114\n",
      "Epoch 14/50\n",
      "210/210 [==============================] - 0s 1ms/step - loss: 0.3339 - val_loss: 0.2932\n",
      "Epoch 15/50\n",
      "210/210 [==============================] - 0s 1ms/step - loss: 0.3182 - val_loss: 0.2759\n",
      "Epoch 16/50\n",
      "210/210 [==============================] - 0s 1ms/step - loss: 0.3033 - val_loss: 0.2597\n",
      "Epoch 17/50\n",
      "210/210 [==============================] - 0s 1ms/step - loss: 0.2897 - val_loss: 0.2447\n",
      "Epoch 18/50\n",
      "210/210 [==============================] - 0s 2ms/step - loss: 0.2771 - val_loss: 0.2306\n",
      "Epoch 19/50\n",
      "210/210 [==============================] - 0s 2ms/step - loss: 0.2652 - val_loss: 0.2173\n",
      "Epoch 20/50\n",
      "210/210 [==============================] - 0s 2ms/step - loss: 0.2545 - val_loss: 0.2057\n",
      "Epoch 21/50\n",
      "210/210 [==============================] - 0s 2ms/step - loss: 0.2451 - val_loss: 0.1949\n",
      "Epoch 22/50\n",
      "210/210 [==============================] - 0s 2ms/step - loss: 0.2360 - val_loss: 0.1842\n",
      "Epoch 23/50\n",
      "210/210 [==============================] - 0s 1ms/step - loss: 0.2272 - val_loss: 0.1743\n",
      "Epoch 24/50\n",
      "210/210 [==============================] - 0s 1ms/step - loss: 0.2190 - val_loss: 0.1644\n",
      "Epoch 25/50\n",
      "210/210 [==============================] - 0s 1ms/step - loss: 0.2113 - val_loss: 0.1553\n",
      "Epoch 26/50\n",
      "210/210 [==============================] - 0s 1ms/step - loss: 0.2039 - val_loss: 0.1465\n",
      "Epoch 27/50\n",
      "210/210 [==============================] - 0s 1ms/step - loss: 0.1969 - val_loss: 0.1382\n",
      "Epoch 28/50\n",
      "210/210 [==============================] - 0s 1ms/step - loss: 0.1904 - val_loss: 0.1304\n",
      "Epoch 29/50\n",
      "210/210 [==============================] - 0s 1ms/step - loss: 0.1846 - val_loss: 0.1232\n",
      "Epoch 30/50\n",
      "210/210 [==============================] - 0s 1ms/step - loss: 0.1790 - val_loss: 0.1164\n",
      "Epoch 31/50\n",
      "210/210 [==============================] - 0s 1ms/step - loss: 0.1737 - val_loss: 0.1100\n",
      "Epoch 32/50\n",
      "210/210 [==============================] - 0s 2ms/step - loss: 0.1688 - val_loss: 0.1039\n",
      "Epoch 33/50\n",
      "210/210 [==============================] - 0s 2ms/step - loss: 0.1642 - val_loss: 0.0977\n",
      "Epoch 34/50\n",
      "210/210 [==============================] - 0s 2ms/step - loss: 0.1596 - val_loss: 0.0917\n",
      "Epoch 35/50\n",
      "210/210 [==============================] - 0s 1ms/step - loss: 0.1550 - val_loss: 0.0858\n",
      "Epoch 36/50\n",
      "210/210 [==============================] - 0s 1ms/step - loss: 0.1508 - val_loss: 0.0803\n",
      "Epoch 37/50\n",
      "210/210 [==============================] - 0s 1ms/step - loss: 0.1466 - val_loss: 0.0748\n",
      "Epoch 38/50\n",
      "210/210 [==============================] - 0s 1ms/step - loss: 0.1426 - val_loss: 0.0697\n",
      "Epoch 39/50\n",
      "210/210 [==============================] - 0s 1ms/step - loss: 0.1389 - val_loss: 0.0645\n",
      "Epoch 40/50\n",
      "210/210 [==============================] - 0s 1ms/step - loss: 0.1355 - val_loss: 0.0599\n",
      "Epoch 41/50\n",
      "210/210 [==============================] - 0s 1ms/step - loss: 0.1323 - val_loss: 0.0552\n",
      "Epoch 42/50\n",
      "210/210 [==============================] - 0s 1ms/step - loss: 0.1288 - val_loss: 0.0504\n",
      "Epoch 43/50\n",
      "210/210 [==============================] - 0s 1ms/step - loss: 0.1255 - val_loss: 0.0460\n",
      "Epoch 44/50\n",
      "210/210 [==============================] - 0s 1ms/step - loss: 0.1223 - val_loss: 0.0418\n",
      "Epoch 45/50\n",
      "210/210 [==============================] - 0s 1ms/step - loss: 0.1195 - val_loss: 0.0376\n",
      "Epoch 46/50\n",
      "210/210 [==============================] - 0s 1ms/step - loss: 0.1164 - val_loss: 0.0340\n",
      "Epoch 47/50\n",
      "210/210 [==============================] - 0s 1ms/step - loss: 0.1138 - val_loss: 0.0293\n",
      "Epoch 48/50\n",
      "210/210 [==============================] - 0s 1ms/step - loss: 0.1110 - val_loss: 0.0252\n",
      "Epoch 49/50\n",
      "210/210 [==============================] - 0s 1ms/step - loss: 0.1083 - val_loss: 0.0214\n",
      "Epoch 50/50\n",
      "210/210 [==============================] - 0s 1ms/step - loss: 0.1058 - val_loss: 0.0178\n"
     ]
    },
    {
     "data": {
      "text/plain": [
       "<keras.callbacks.History at 0x227e4c617f0>"
      ]
     },
     "execution_count": 105,
     "metadata": {},
     "output_type": "execute_result"
    }
   ],
   "source": [
    "autoencoder = Model(input_img, decoded)\n",
    "autoencoder.compile(optimizer='adadelta', loss='binary_crossentropy')\n",
    "\n",
    "\n",
    "autoencoder.fit(x_train, x_train, nb_epoch= 50, batch_size=3,             # nb_epoch 높으면 오래걸리니까 일단 2 나중에 50\n",
    "               shuffle=True, validation_data=(x_test, x_test), verbose=1) "
   ]
  },
  {
   "cell_type": "code",
   "execution_count": 89,
   "metadata": {},
   "outputs": [],
   "source": [
    "encoder = Model(input_img, encoded)\n",
    "encoder.compile(optimizer='adadelta', loss='binary_crossentropy')\n",
    "# encoder.save('./result/encoder.h5')\n",
    "\n",
    "enco_train_pred = encoder.predict(x_train)\n",
    "enco_test_pred = encoder.predict(x_test)\n",
    "\n",
    "enco_train_re = np.reshape(enco_train_pred,(len(enco_train_pred),2))\n",
    "enco_test_re = np.reshape(enco_test_pred,(len(enco_test_pred),2))\n",
    "enco_merge = np.concatenate((enco_train_re,enco_test_re), axis = 0)\n",
    "\n",
    "X_reduce = pd.DataFrame()\n",
    "X_reduce['x'] = [enco_merge[x][0] for x in range(0,len(enco_merge))]\n",
    "X_reduce['y'] = [enco_merge[x][1] for x in range(0,len(enco_merge))]"
   ]
  },
  {
   "cell_type": "code",
   "execution_count": null,
   "metadata": {},
   "outputs": [],
   "source": [
    "# 상무님 라벨\n",
    "\n",
    "# true label\n",
    "y = kashui.iloc[:,-1]\n",
    "\n",
    "label1 = 1\n",
    "label2 = 2\n",
    "label3 = 3\n",
    "\n",
    "# 전체\n",
    "plt.title(\"all score\")\n",
    "# plt.xlim(-0.65, -0.3)\n",
    "# plt.ylim(-3.5, -0.5)\n",
    "\n",
    "b1 = plt.scatter(X_reduce['x'], X_reduce['y'], c='green',s=20)\n",
    "\n",
    "plt.show()"
   ]
  },
  {
   "cell_type": "code",
   "execution_count": 137,
   "metadata": {},
   "outputs": [
    {
     "data": {
      "image/png": "[encoded data removed]",
      "text/plain": [
       "<Figure size 432x288 with 1 Axes>"
      ]
     },
     "metadata": {
      "needs_background": "light"
     },
     "output_type": "display_data"
    }
   ],
   "source": [
    "# 라벨별\n",
    "idx_1 = y[y == label1 ].index.tolist()\n",
    "idx_2 = y[y == label2 ].index.tolist()\n",
    "idx_3 = y[y == label3 ].index.tolist()\n",
    "\n",
    "plt.title(\"label score\")\n",
    "# plt.xlim(-0.65, -0.3)\n",
    "# plt.ylim(-3.5, -0.5)\n",
    "\n",
    "b1 = plt.scatter(X_reduce.iloc[idx_1,0], X_reduce.iloc[idx_1,1], c='yellow',s=20)\n",
    "b1 = plt.scatter(X_reduce.iloc[idx_2,0], X_reduce.iloc[idx_2,1], c='blue',s=20)\n",
    "b1 = plt.scatter(X_reduce.iloc[idx_3,0], X_reduce.iloc[idx_3,1], c='red',s=20)\n",
    "\n",
    "plt.show()"
   ]
  },
  {
   "cell_type": "code",
   "execution_count": null,
   "metadata": {},
   "outputs": [],
   "source": [
    "# k-means 라벨\n",
    "\n",
    "# true label\n",
    "y = pd.Series(np.load('./result/kashui_kmeans_label.npy'))\n",
    "\n",
    "label1 = 0\n",
    "label2 = 1\n",
    "label3 = 2\n",
    "\n",
    "# 라벨별\n",
    "idx_1 = y[y == label1 ].index.tolist()\n",
    "idx_2 = y[y == label2 ].index.tolist()\n",
    "idx_3 = y[y == label3 ].index.tolist()\n",
    "\n",
    "plt.title(\"label score\")\n",
    "# plt.xlim(-0.65, -0.3)\n",
    "# plt.ylim(-3.5, -0.5)\n",
    "\n",
    "b1 = plt.scatter(X_reduce.iloc[idx_1,0], X_reduce.iloc[idx_1,1], c='yellow',s=20)\n",
    "b1 = plt.scatter(X_reduce.iloc[idx_2,0], X_reduce.iloc[idx_2,1], c='blue',s=20)\n",
    "b1 = plt.scatter(X_reduce.iloc[idx_3,0], X_reduce.iloc[idx_3,1], c='red',s=20)\n",
    "\n",
    "plt.show()"
   ]
  },
  {
   "cell_type": "code",
   "execution_count": null,
   "metadata": {},
   "outputs": [],
   "source": []
  }
 ],
 "metadata": {
  "kernelspec": {
   "display_name": "Python 3",
   "language": "python",
   "name": "python3"
  },
  "language_info": {
   "codemirror_mode": {
    "name": "ipython",
    "version": 3
   },
   "file_extension": ".py",
   "mimetype": "text/x-python",
   "name": "python",
   "nbconvert_exporter": "python",
   "pygments_lexer": "ipython3",
   "version": "3.6.8"
  }
 },
 "nbformat": 4,
 "nbformat_minor": 2
}
