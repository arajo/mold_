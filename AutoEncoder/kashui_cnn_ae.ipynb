{
 "cells": [
  {
   "cell_type": "code",
   "execution_count": 1,
   "metadata": {},
   "outputs": [
    {
     "name": "stderr",
     "output_type": "stream",
     "text": [
      "Using TensorFlow backend.\n"
     ]
    }
   ],
   "source": [
    "import numpy as np\n",
    "import pandas as pd\n",
    "from sklearn.model_selection import train_test_split\n",
    "from sklearn import preprocessing\n",
    "from keras.layers import Input, Dense, Conv1D\n",
    "from keras.models import Model, Sequential\n",
    "from keras.layers import Dense, Conv2D, Flatten\n",
    "from matplotlib import pyplot as plt\n",
    "from sklearn.metrics import mean_squared_error\n"
   ]
  },
  {
   "cell_type": "code",
   "execution_count": 2,
   "metadata": {},
   "outputs": [
    {
     "name": "stderr",
     "output_type": "stream",
     "text": [
      "C:\\Users\\ARA\\Anaconda3\\envs\\tensorflow\\lib\\site-packages\\sklearn\\preprocessing\\data.py:625: DataConversionWarning: Data with input dtype int64, float64 were all converted to float64 by StandardScaler.\n",
      "  return self.partial_fit(X, y)\n",
      "C:\\Users\\ARA\\Anaconda3\\envs\\tensorflow\\lib\\site-packages\\sklearn\\base.py:462: DataConversionWarning: Data with input dtype int64, float64 were all converted to float64 by StandardScaler.\n",
      "  return self.fit(X, **fit_params).transform(X)\n"
     ]
    }
   ],
   "source": [
    "\"\"\"\n",
    "### sensor_data_increased load\n",
    "root_path = './data/'\n",
    "\n",
    "dataset = pd.read_excel(''.join([root_path,'haitian-kashui.xlsx']), encoding = 'CP94')\n",
    "dataset = dataset[['CurrentTemp1','CurrentTemp2','CurrentTemp3', 'CurrentTemp4','CurrentTemp5','InjEndPosi','ClpOpnTime','ClpClsTime','ChargeTime','CycleTime','TurnPosi',\n",
    "                    'TurnPress','label']]\n",
    "\n",
    "X = dataset.iloc[:,:-1]\n",
    "y = dataset.iloc[:,-1]\n",
    "\"\"\""
   ]
  },
  {
   "cell_type": "code",
   "execution_count": 3,
   "metadata": {},
   "outputs": [],
   "source": [
    "##################\n",
    "# 데이터 load\n",
    "##################\n",
    "\"\"\"\n",
    " Original DataSet\n",
    " -- data.shape : (33727, 27) / 'Y': 500개\n",
    " --  data_X.shape : (20631,24)\n",
    "\"\"\"\n",
    "\n",
    "ori_train = pd.read_csv('./data/train_FD0001_true5.csv',encoding= 'cp949')\n",
    "ori_test = pd.read_csv('./data/test_FD0001_true5.csv',encoding= 'cp949')\n",
    "#data = pd.concat([ori_train,ori_test], axis = 0)\n",
    "#data_X = data.iloc[:,:-1].values.tolist()\n",
    "data = ori_train\n",
    "X = data.iloc[:,2:-1].values.tolist()\n",
    "y = data.iloc[:,-1]"
   ]
  },
  {
   "cell_type": "code",
   "execution_count": 4,
   "metadata": {},
   "outputs": [],
   "source": [
    "###  scaling\n",
    "scaled_X = preprocessing.StandardScaler().fit_transform(X)\n",
    "\n",
    "# train, test split\n",
    "X_train, X_test, y_train, y_test = train_test_split(scaled_X, y, test_size=0.2, random_state=42)"
   ]
  },
  {
   "cell_type": "code",
   "execution_count": 15,
   "metadata": {},
   "outputs": [
    {
     "name": "stdout",
     "output_type": "stream",
     "text": [
      "(16504, 24, 1)\n",
      "(4127, 24, 1)\n"
     ]
    }
   ],
   "source": [
    "X_train = np.expand_dims(X_train, axis=2)\n",
    "print(X_train.shape)\n",
    "X_test = np.expand_dims(X_test, axis=2)\n",
    "print(X_test.shape)"
   ]
  },
  {
   "cell_type": "code",
   "execution_count": 13,
   "metadata": {
    "scrolled": true
   },
   "outputs": [
    {
     "name": "stderr",
     "output_type": "stream",
     "text": [
      "C:\\Users\\ARA\\Anaconda3\\envs\\tensorflow\\lib\\site-packages\\ipykernel_launcher.py:10: UserWarning: Update your `Conv2D` call to the Keras 2 API: `Conv2D(4, (1, 3), activation=\"relu\", padding=\"same\")`\n",
      "  # Remove the CWD from sys.path while we load stuff.\n",
      "C:\\Users\\ARA\\Anaconda3\\envs\\tensorflow\\lib\\site-packages\\ipykernel_launcher.py:11: UserWarning: Update your `MaxPooling2D` call to the Keras 2 API: `MaxPooling2D((1, 2), padding=\"same\")`\n",
      "  # This is added back by InteractiveShellApp.init_path()\n",
      "C:\\Users\\ARA\\Anaconda3\\envs\\tensorflow\\lib\\site-packages\\ipykernel_launcher.py:12: UserWarning: Update your `Conv2D` call to the Keras 2 API: `Conv2D(2, (1, 2), activation=\"relu\", padding=\"same\")`\n",
      "  if sys.path[0] == '':\n",
      "C:\\Users\\ARA\\Anaconda3\\envs\\tensorflow\\lib\\site-packages\\ipykernel_launcher.py:13: UserWarning: Update your `MaxPooling2D` call to the Keras 2 API: `MaxPooling2D((1, 2), padding=\"same\")`\n",
      "  del sys.path[0]\n",
      "C:\\Users\\ARA\\Anaconda3\\envs\\tensorflow\\lib\\site-packages\\ipykernel_launcher.py:14: UserWarning: Update your `Conv2D` call to the Keras 2 API: `Conv2D(1, (1, 2), activation=\"sigmoid\", padding=\"same\")`\n",
      "  \n",
      "C:\\Users\\ARA\\Anaconda3\\envs\\tensorflow\\lib\\site-packages\\ipykernel_launcher.py:15: UserWarning: Update your `MaxPooling2D` call to the Keras 2 API: `MaxPooling2D((1, 2), padding=\"same\")`\n",
      "  from ipykernel import kernelapp as app\n",
      "C:\\Users\\ARA\\Anaconda3\\envs\\tensorflow\\lib\\site-packages\\ipykernel_launcher.py:17: UserWarning: Update your `Conv2D` call to the Keras 2 API: `Conv2D(2, (1, 2), activation=\"relu\", padding=\"same\")`\n",
      "C:\\Users\\ARA\\Anaconda3\\envs\\tensorflow\\lib\\site-packages\\ipykernel_launcher.py:19: UserWarning: Update your `Conv2D` call to the Keras 2 API: `Conv2D(4, (1, 2), activation=\"relu\", padding=\"same\")`\n",
      "C:\\Users\\ARA\\Anaconda3\\envs\\tensorflow\\lib\\site-packages\\ipykernel_launcher.py:21: UserWarning: Update your `Conv2D` call to the Keras 2 API: `Conv2D(1, (1, 2), activation=\"relu\", padding=\"same\")`\n",
      "C:\\Users\\ARA\\Anaconda3\\envs\\tensorflow\\lib\\site-packages\\ipykernel_launcher.py:23: UserWarning: Update your `Conv2D` call to the Keras 2 API: `Conv2D(1, (1, 3), activation=\"sigmoid\", padding=\"same\")`\n",
      "C:\\Users\\ARA\\Anaconda3\\envs\\tensorflow\\lib\\site-packages\\ipykernel_launcher.py:31: UserWarning: The `nb_epoch` argument in `fit` has been renamed `epochs`.\n"
     ]
    },
    {
     "ename": "ValueError",
     "evalue": "Error when checking target: expected conv2d_7 to have shape (1, 18, 1) but got array with shape (1, 24, 1)",
     "output_type": "error",
     "traceback": [
      "\u001b[1;31m---------------------------------------------------------------------------\u001b[0m",
      "\u001b[1;31mValueError\u001b[0m                                Traceback (most recent call last)",
      "\u001b[1;32m<ipython-input-13-fb85c318dabe>\u001b[0m in \u001b[0;36m<module>\u001b[1;34m\u001b[0m\n\u001b[0;32m     29\u001b[0m \u001b[1;33m\u001b[0m\u001b[0m\n\u001b[0;32m     30\u001b[0m autoencoder.fit(x_train, x_train, nb_epoch= 50, batch_size=50,             # nb_epoch 높으면 오래걸리니까 일단 2 나중에 50\n\u001b[1;32m---> 31\u001b[1;33m                shuffle=True, validation_data=(x_test, x_test), verbose=1) \n\u001b[0m",
      "\u001b[1;32m~\\Anaconda3\\envs\\tensorflow\\lib\\site-packages\\keras\\engine\\training.py\u001b[0m in \u001b[0;36mfit\u001b[1;34m(self, x, y, batch_size, epochs, verbose, callbacks, validation_split, validation_data, shuffle, class_weight, sample_weight, initial_epoch, steps_per_epoch, validation_steps, **kwargs)\u001b[0m\n\u001b[0;32m    950\u001b[0m             \u001b[0msample_weight\u001b[0m\u001b[1;33m=\u001b[0m\u001b[0msample_weight\u001b[0m\u001b[1;33m,\u001b[0m\u001b[1;33m\u001b[0m\u001b[1;33m\u001b[0m\u001b[0m\n\u001b[0;32m    951\u001b[0m             \u001b[0mclass_weight\u001b[0m\u001b[1;33m=\u001b[0m\u001b[0mclass_weight\u001b[0m\u001b[1;33m,\u001b[0m\u001b[1;33m\u001b[0m\u001b[1;33m\u001b[0m\u001b[0m\n\u001b[1;32m--> 952\u001b[1;33m             batch_size=batch_size)\n\u001b[0m\u001b[0;32m    953\u001b[0m         \u001b[1;31m# Prepare validation data.\u001b[0m\u001b[1;33m\u001b[0m\u001b[1;33m\u001b[0m\u001b[1;33m\u001b[0m\u001b[0m\n\u001b[0;32m    954\u001b[0m         \u001b[0mdo_validation\u001b[0m \u001b[1;33m=\u001b[0m \u001b[1;32mFalse\u001b[0m\u001b[1;33m\u001b[0m\u001b[1;33m\u001b[0m\u001b[0m\n",
      "\u001b[1;32m~\\Anaconda3\\envs\\tensorflow\\lib\\site-packages\\keras\\engine\\training.py\u001b[0m in \u001b[0;36m_standardize_user_data\u001b[1;34m(self, x, y, sample_weight, class_weight, check_array_lengths, batch_size)\u001b[0m\n\u001b[0;32m    787\u001b[0m                 \u001b[0mfeed_output_shapes\u001b[0m\u001b[1;33m,\u001b[0m\u001b[1;33m\u001b[0m\u001b[1;33m\u001b[0m\u001b[0m\n\u001b[0;32m    788\u001b[0m                 \u001b[0mcheck_batch_axis\u001b[0m\u001b[1;33m=\u001b[0m\u001b[1;32mFalse\u001b[0m\u001b[1;33m,\u001b[0m  \u001b[1;31m# Don't enforce the batch size.\u001b[0m\u001b[1;33m\u001b[0m\u001b[1;33m\u001b[0m\u001b[0m\n\u001b[1;32m--> 789\u001b[1;33m                 exception_prefix='target')\n\u001b[0m\u001b[0;32m    790\u001b[0m \u001b[1;33m\u001b[0m\u001b[0m\n\u001b[0;32m    791\u001b[0m             \u001b[1;31m# Generate sample-wise weight values given the `sample_weight` and\u001b[0m\u001b[1;33m\u001b[0m\u001b[1;33m\u001b[0m\u001b[1;33m\u001b[0m\u001b[0m\n",
      "\u001b[1;32m~\\Anaconda3\\envs\\tensorflow\\lib\\site-packages\\keras\\engine\\training_utils.py\u001b[0m in \u001b[0;36mstandardize_input_data\u001b[1;34m(data, names, shapes, check_batch_axis, exception_prefix)\u001b[0m\n\u001b[0;32m    136\u001b[0m                             \u001b[1;34m': expected '\u001b[0m \u001b[1;33m+\u001b[0m \u001b[0mnames\u001b[0m\u001b[1;33m[\u001b[0m\u001b[0mi\u001b[0m\u001b[1;33m]\u001b[0m \u001b[1;33m+\u001b[0m \u001b[1;34m' to have shape '\u001b[0m \u001b[1;33m+\u001b[0m\u001b[1;33m\u001b[0m\u001b[1;33m\u001b[0m\u001b[0m\n\u001b[0;32m    137\u001b[0m                             \u001b[0mstr\u001b[0m\u001b[1;33m(\u001b[0m\u001b[0mshape\u001b[0m\u001b[1;33m)\u001b[0m \u001b[1;33m+\u001b[0m \u001b[1;34m' but got array with shape '\u001b[0m \u001b[1;33m+\u001b[0m\u001b[1;33m\u001b[0m\u001b[1;33m\u001b[0m\u001b[0m\n\u001b[1;32m--> 138\u001b[1;33m                             str(data_shape))\n\u001b[0m\u001b[0;32m    139\u001b[0m     \u001b[1;32mreturn\u001b[0m \u001b[0mdata\u001b[0m\u001b[1;33m\u001b[0m\u001b[1;33m\u001b[0m\u001b[0m\n\u001b[0;32m    140\u001b[0m \u001b[1;33m\u001b[0m\u001b[0m\n",
      "\u001b[1;31mValueError\u001b[0m: Error when checking target: expected conv2d_7 to have shape (1, 18, 1) but got array with shape (1, 24, 1)"
     ]
    }
   ],
   "source": [
    "from keras.layers import Input, Convolution2D, MaxPooling2D, UpSampling2D\n",
    "from keras.models import Model\n",
    "from keras import backend as K\n",
    "\n",
    "input_img = Input(shape=(h, w, 1)) # 1ch=black&white\n",
    "\n",
    "filter1 = 16\n",
    "filter2 = 4\n",
    "filter3 = 4\n",
    "\n",
    "x = Convolution2D(filter1, kernel_size= (1, 3), activation='relu', border_mode='same')(input_img) \n",
    "x = MaxPooling2D((1, 2), border_mode='same')(x)\n",
    "x = Convolution2D(filter2, 1, 2, activation='relu', border_mode='same')(x)\n",
    "x = MaxPooling2D((1, 2), border_mode='same')(x)\n",
    "x = Convolution2D(1, 1, 2, activation='sigmoid', border_mode='same')(x)\n",
    "encoded = MaxPooling2D((1, 2), border_mode='same')(x)\n",
    "\n",
    "x = Convolution2D(chanuel2, 1, 2, activation='relu', border_mode='same')(encoded)\n",
    "x = UpSampling2D((1, 3))(x)\n",
    "x = Convolution2D(chanuel1, 1, 2, activation='relu', border_mode='same')(x)\n",
    "x = UpSampling2D((1, 1))(x)\n",
    "x = Convolution2D(1, 1, 2, activation='relu', border_mode='same')(x)\n",
    "x = UpSampling2D((1, 2))(x)\n",
    "decoded = Convolution2D(1, 1, 3, activation='sigmoid', border_mode='same')(x)\n",
    "\n",
    "\n",
    "autoencoder = Model(input_img, decoded)\n",
    "autoencoder.compile(optimizer='adadelta', loss='mse', metrics = ['mse'])\n",
    "\n",
    "\n",
    "autoencoder.fit(x_train, x_train, nb_epoch= 50, batch_size=50,             # nb_epoch 높으면 오래걸리니까 일단 2 나중에 50\n",
    "               shuffle=True, validation_data=(x_test, x_test), verbose=1) "
   ]
  },
  {
   "cell_type": "code",
   "execution_count": 37,
   "metadata": {},
   "outputs": [],
   "source": [
    "encoder = Model(input_img, encoded)\n",
    "encoder.compile(optimizer='adadelta', loss='mse')\n",
    "# encoder.save('./result/encoder.h5')\n",
    "\n",
    "enco_train_pred = encoder.predict(x_train)\n",
    "enco_test_pred = encoder.predict(x_test)\n",
    "\n",
    "enco_train_re = np.reshape(enco_train_pred,(len(enco_train_pred),2))\n",
    "enco_test_re = np.reshape(enco_test_pred,(len(enco_test_pred),2))\n",
    "enco_merge = np.concatenate((enco_train_re,enco_test_re), axis = 0)\n",
    "\n",
    "X_reduce = pd.DataFrame()\n",
    "X_reduce['x'] = [enco_merge[x][0] for x in range(0,len(enco_merge))]\n",
    "X_reduce['y'] = [enco_merge[x][1] for x in range(0,len(enco_merge))]"
   ]
  },
  {
   "cell_type": "code",
   "execution_count": 38,
   "metadata": {},
   "outputs": [
    {
     "data": {
      "text/plain": [
       "<matplotlib.collections.PathCollection at 0x16021d0d5c0>"
      ]
     },
     "execution_count": 38,
     "metadata": {},
     "output_type": "execute_result"
    },
    {
     "data": {
      "image/png": "[encoded data removed]",
      "text/plain": [
       "<Figure size 432x288 with 1 Axes>"
      ]
     },
     "metadata": {
      "needs_background": "light"
     },
     "output_type": "display_data"
    }
   ],
   "source": [
    "plt.scatter(X_reduce['x'], X_reduce['y'])"
   ]
  },
  {
   "cell_type": "code",
   "execution_count": 39,
   "metadata": {},
   "outputs": [],
   "source": [
    "cnn_predict = autoencoder.predict(x_scaled)"
   ]
  },
  {
   "cell_type": "code",
   "execution_count": 40,
   "metadata": {},
   "outputs": [
    {
     "name": "stdout",
     "output_type": "stream",
     "text": [
      "(300, 12)\n"
     ]
    }
   ],
   "source": [
    "cnn_predict = cnn_predict.reshape(cnn_predict.shape[0],cnn_predict.shape[2])\n",
    "print(cnn_predict.shape)"
   ]
  },
  {
   "cell_type": "code",
   "execution_count": 41,
   "metadata": {},
   "outputs": [
    {
     "data": {
      "text/plain": [
       "(300, 12)"
      ]
     },
     "execution_count": 41,
     "metadata": {},
     "output_type": "execute_result"
    }
   ],
   "source": [
    "scaled_X.shape"
   ]
  },
  {
   "cell_type": "code",
   "execution_count": 42,
   "metadata": {},
   "outputs": [
    {
     "data": {
      "text/plain": [
       "(300,)"
      ]
     },
     "execution_count": 42,
     "metadata": {},
     "output_type": "execute_result"
    }
   ],
   "source": [
    "### calculate MSE\n",
    "mse = mean_squared_error(scaled_X.T, cnn_predict.T, multioutput='raw_values')\n",
    "mse.shape"
   ]
  },
  {
   "cell_type": "code",
   "execution_count": 43,
   "metadata": {},
   "outputs": [
    {
     "data": {
      "text/plain": [
       "(5.403606562894333, 0.09350234194884548, 1.0519300555211597)"
      ]
     },
     "execution_count": 43,
     "metadata": {},
     "output_type": "execute_result"
    }
   ],
   "source": [
    "np.max(mse), np.min(mse) , np.mean(mse)"
   ]
  },
  {
   "cell_type": "code",
   "execution_count": 58,
   "metadata": {},
   "outputs": [
    {
     "name": "stdout",
     "output_type": "stream",
     "text": [
      "285\n",
      "15\n"
     ]
    }
   ],
   "source": [
    "### labeling\n",
    "# mse < border\n",
    "border = 4.5\n",
    "label= [0 if  mse[x] < border else 1 for x in range(0,len(mse)) ]\n",
    "X_reduce['label'] = label\n",
    "idx_0 = X_reduce[X_reduce.label == 0].index\n",
    "idx_1 = X_reduce[X_reduce.label == 1].index\n",
    "print(len(idx_0))\n",
    "print(len(idx_1))"
   ]
  },
  {
   "cell_type": "code",
   "execution_count": 59,
   "metadata": {
    "scrolled": true
   },
   "outputs": [
    {
     "data": {
      "image/png": "[encoded data removed]",
      "text/plain": [
       "<Figure size 432x288 with 1 Axes>"
      ]
     },
     "metadata": {
      "needs_background": "light"
     },
     "output_type": "display_data"
    }
   ],
   "source": [
    "plt.title(\"label score\")\n",
    "# plt.xlim(-0.65, -0.3)\n",
    "# plt.ylim(-3.5, -0.5)\n",
    "\n",
    "\n",
    "b1 = plt.scatter(X_reduce['x'][X_reduce.label == 0], X_reduce['y'][X_reduce.label == 0], c='yellow',s=20)\n",
    "b1 = plt.scatter(X_reduce['x'][X_reduce.label == 1], X_reduce['y'][X_reduce.label == 1], c='blue',s=20)\n",
    "\n",
    "plt.show()"
   ]
  },
  {
   "cell_type": "code",
   "execution_count": 60,
   "metadata": {
    "scrolled": true
   },
   "outputs": [
    {
     "name": "stdout",
     "output_type": "stream",
     "text": [
      "Epoch 1/50\n",
      "285/285 [==============================] - 0s 316us/step - loss: 0.8087 - mean_squared_error: 0.8087\n",
      "Epoch 2/50\n",
      "285/285 [==============================] - 0s 323us/step - loss: 0.8087 - mean_squared_error: 0.8087\n",
      "Epoch 3/50\n",
      "285/285 [==============================] - 0s 351us/step - loss: 0.8086 - mean_squared_error: 0.8086\n",
      "Epoch 4/50\n",
      "285/285 [==============================] - 0s 326us/step - loss: 0.8085 - mean_squared_error: 0.8085\n",
      "Epoch 5/50\n",
      "285/285 [==============================] - 0s 305us/step - loss: 0.8084 - mean_squared_error: 0.8084\n",
      "Epoch 6/50\n",
      "285/285 [==============================] - 0s 316us/step - loss: 0.8084 - mean_squared_error: 0.8084\n",
      "Epoch 7/50\n",
      "285/285 [==============================] - 0s 309us/step - loss: 0.8083 - mean_squared_error: 0.8083\n",
      "Epoch 8/50\n",
      "285/285 [==============================] - 0s 326us/step - loss: 0.8082 - mean_squared_error: 0.8082\n",
      "Epoch 9/50\n",
      "285/285 [==============================] - 0s 316us/step - loss: 0.8082 - mean_squared_error: 0.8082\n",
      "Epoch 10/50\n",
      "285/285 [==============================] - 0s 312us/step - loss: 0.8081 - mean_squared_error: 0.8081\n",
      "Epoch 11/50\n",
      "285/285 [==============================] - 0s 305us/step - loss: 0.8081 - mean_squared_error: 0.8081\n",
      "Epoch 12/50\n",
      "285/285 [==============================] - 0s 309us/step - loss: 0.8080 - mean_squared_error: 0.8080\n",
      "Epoch 13/50\n",
      "285/285 [==============================] - 0s 365us/step - loss: 0.8080 - mean_squared_error: 0.8080\n",
      "Epoch 14/50\n",
      "285/285 [==============================] - 0s 379us/step - loss: 0.8079 - mean_squared_error: 0.8079\n",
      "Epoch 15/50\n",
      "285/285 [==============================] - 0s 368us/step - loss: 0.8079 - mean_squared_error: 0.8079\n",
      "Epoch 16/50\n",
      "285/285 [==============================] - 0s 316us/step - loss: 0.8078 - mean_squared_error: 0.8078\n",
      "Epoch 17/50\n",
      "285/285 [==============================] - 0s 319us/step - loss: 0.8078 - mean_squared_error: 0.8078\n",
      "Epoch 18/50\n",
      "285/285 [==============================] - 0s 347us/step - loss: 0.8077 - mean_squared_error: 0.8077\n",
      "Epoch 19/50\n",
      "285/285 [==============================] - 0s 333us/step - loss: 0.8077 - mean_squared_error: 0.8077\n",
      "Epoch 20/50\n",
      "285/285 [==============================] - 0s 316us/step - loss: 0.8077 - mean_squared_error: 0.8077\n",
      "Epoch 21/50\n",
      "285/285 [==============================] - 0s 365us/step - loss: 0.8076 - mean_squared_error: 0.8076\n",
      "Epoch 22/50\n",
      "285/285 [==============================] - 0s 326us/step - loss: 0.8076 - mean_squared_error: 0.8076\n",
      "Epoch 23/50\n",
      "285/285 [==============================] - 0s 323us/step - loss: 0.8075 - mean_squared_error: 0.8075\n",
      "Epoch 24/50\n",
      "285/285 [==============================] - 0s 323us/step - loss: 0.8075 - mean_squared_error: 0.8075\n",
      "Epoch 25/50\n",
      "285/285 [==============================] - 0s 312us/step - loss: 0.8075 - mean_squared_error: 0.8075\n",
      "Epoch 26/50\n",
      "285/285 [==============================] - 0s 337us/step - loss: 0.8074 - mean_squared_error: 0.8074\n",
      "Epoch 27/50\n",
      "285/285 [==============================] - 0s 319us/step - loss: 0.8074 - mean_squared_error: 0.8074\n",
      "Epoch 28/50\n",
      "285/285 [==============================] - 0s 347us/step - loss: 0.8074 - mean_squared_error: 0.8074\n",
      "Epoch 29/50\n",
      "285/285 [==============================] - 0s 316us/step - loss: 0.8073 - mean_squared_error: 0.8073\n",
      "Epoch 30/50\n",
      "285/285 [==============================] - 0s 316us/step - loss: 0.8073 - mean_squared_error: 0.8073\n",
      "Epoch 31/50\n",
      "285/285 [==============================] - 0s 312us/step - loss: 0.8073 - mean_squared_error: 0.8073\n",
      "Epoch 32/50\n",
      "285/285 [==============================] - 0s 316us/step - loss: 0.8073 - mean_squared_error: 0.8073\n",
      "Epoch 33/50\n",
      "285/285 [==============================] - 0s 340us/step - loss: 0.8072 - mean_squared_error: 0.8072\n",
      "Epoch 34/50\n",
      "285/285 [==============================] - 0s 316us/step - loss: 0.8072 - mean_squared_error: 0.8072\n",
      "Epoch 35/50\n",
      "285/285 [==============================] - 0s 312us/step - loss: 0.8072 - mean_squared_error: 0.8072\n",
      "Epoch 36/50\n",
      "285/285 [==============================] - 0s 309us/step - loss: 0.8071 - mean_squared_error: 0.8071\n",
      "Epoch 37/50\n",
      "285/285 [==============================] - 0s 309us/step - loss: 0.8071 - mean_squared_error: 0.8071\n",
      "Epoch 38/50\n",
      "285/285 [==============================] - 0s 319us/step - loss: 0.8071 - mean_squared_error: 0.8071\n",
      "Epoch 39/50\n",
      "285/285 [==============================] - 0s 319us/step - loss: 0.8071 - mean_squared_error: 0.8071\n",
      "Epoch 40/50\n",
      "285/285 [==============================] - 0s 319us/step - loss: 0.8070 - mean_squared_error: 0.8070\n",
      "Epoch 41/50\n",
      "285/285 [==============================] - 0s 337us/step - loss: 0.8070 - mean_squared_error: 0.8070\n",
      "Epoch 42/50\n",
      "285/285 [==============================] - 0s 344us/step - loss: 0.8070 - mean_squared_error: 0.8070\n",
      "Epoch 43/50\n",
      "285/285 [==============================] - 0s 319us/step - loss: 0.8070 - mean_squared_error: 0.8070\n",
      "Epoch 44/50\n",
      "285/285 [==============================] - 0s 326us/step - loss: 0.8069 - mean_squared_error: 0.8069\n",
      "Epoch 45/50\n",
      "285/285 [==============================] - 0s 330us/step - loss: 0.8069 - mean_squared_error: 0.8069\n",
      "Epoch 46/50\n",
      "285/285 [==============================] - 0s 302us/step - loss: 0.8069 - mean_squared_error: 0.8069\n",
      "Epoch 47/50\n",
      "285/285 [==============================] - 0s 305us/step - loss: 0.8069 - mean_squared_error: 0.8069\n",
      "Epoch 48/50\n",
      "285/285 [==============================] - 0s 312us/step - loss: 0.8069 - mean_squared_error: 0.8069\n",
      "Epoch 49/50\n",
      "285/285 [==============================] - 0s 305us/step - loss: 0.8068 - mean_squared_error: 0.8068\n",
      "Epoch 50/50\n",
      "285/285 [==============================] - 0s 305us/step - loss: 0.8068 - mean_squared_error: 0.8068\n"
     ]
    },
    {
     "data": {
      "text/plain": [
       "<keras.callbacks.History at 0x16021de5dd8>"
      ]
     },
     "execution_count": 60,
     "metadata": {},
     "output_type": "execute_result"
    }
   ],
   "source": [
    "### 정상 데이터(복원률 높은것)만 가지고 다시 training\n",
    "X_train2 = scaled_X[idx_0]\n",
    "X_train2 = np.reshape(X_train2,(len(X_train2),h,w,1))\n",
    "autoencoder.fit(X_train2, X_train2, epochs=50, batch_size=20, shuffle=True)"
   ]
  },
  {
   "cell_type": "code",
   "execution_count": 61,
   "metadata": {},
   "outputs": [],
   "source": [
    "# 전체 데이터셋을 대상으로 인코더로 특성 추출\n",
    "a = encoder.predict(x_scaled)\n",
    "a = a.reshape(a.shape[0], a.shape[2])\n",
    "pre_enco_X2 = pd.DataFrame(a)"
   ]
  },
  {
   "cell_type": "code",
   "execution_count": 62,
   "metadata": {},
   "outputs": [
    {
     "data": {
      "text/plain": [
       "<matplotlib.collections.PathCollection at 0x16021e3d6a0>"
      ]
     },
     "execution_count": 62,
     "metadata": {},
     "output_type": "execute_result"
    },
    {
     "data": {
      "image/png": "[encoded data removed]",
      "text/plain": [
       "<Figure size 432x288 with 1 Axes>"
      ]
     },
     "metadata": {
      "needs_background": "light"
     },
     "output_type": "display_data"
    }
   ],
   "source": [
    "plt.scatter(pre_enco_X2[0], pre_enco_X2[1])"
   ]
  },
  {
   "cell_type": "code",
   "execution_count": 63,
   "metadata": {},
   "outputs": [
    {
     "data": {
      "image/png": "[encoded data removed]",
      "text/plain": [
       "<Figure size 432x288 with 1 Axes>"
      ]
     },
     "metadata": {
      "needs_background": "light"
     },
     "output_type": "display_data"
    }
   ],
   "source": [
    "plt.title(\"label score\")\n",
    "# plt.xlim(-0.65, -0.3)\n",
    "# plt.ylim(-3.5, -0.5)\n",
    "\n",
    "b1 = plt.scatter(pre_enco_X2.iloc[idx_0,0], pre_enco_X2.iloc[idx_0,1], c='yellow',s=20)\n",
    "b1 = plt.scatter(pre_enco_X2.iloc[idx_1,0], pre_enco_X2.iloc[idx_1,1], c='blue',s=20)\n",
    "\n",
    "plt.show()"
   ]
  },
  {
   "cell_type": "code",
   "execution_count": null,
   "metadata": {},
   "outputs": [],
   "source": []
  }
 ],
 "metadata": {
  "kernelspec": {
   "display_name": "Python 3",
   "language": "python",
   "name": "python3"
  },
  "language_info": {
   "codemirror_mode": {
    "name": "ipython",
    "version": 3
   },
   "file_extension": ".py",
   "mimetype": "text/x-python",
   "name": "python",
   "nbconvert_exporter": "python",
   "pygments_lexer": "ipython3",
   "version": "3.6.8"
  }
 },
 "nbformat": 4,
 "nbformat_minor": 2
}
