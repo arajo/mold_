{
 "cells": [
  {
   "cell_type": "code",
   "execution_count": 2,
   "metadata": {
    "scrolled": true
   },
   "outputs": [],
   "source": [
    "import numpy as np\n",
    "import pandas as pd\n",
    "from sklearn import preprocessing\n",
    "from keras.layers import Input, Dense, Conv2D, Flatten\n",
    "from keras.models import Model, Sequential\n",
    "from matplotlib import pyplot as plt\n",
    "from sklearn.metrics import mean_squared_error\n",
    "%matplotlib inline"
   ]
  },
  {
   "cell_type": "code",
   "execution_count": 285,
   "metadata": {},
   "outputs": [],
   "source": [
    "###시계열 데이터 load\n",
    "\"\"\"\n",
    "train_seq = np.load('train_gen_seq.npy')\n",
    "train_seq_label = np.load('train_gen_seq_label.npy')\n",
    "test_seq = np.load('test_gen_seq.npy')\n",
    "test_seq_label = np.load('test_gen_seq_label.npy')\n",
    "\"\"\"\n",
    "train_seq = np.load('train_seq_30N_5out_mini_100w.npy')\n",
    "train_seq_label = np.load('train_seq_label_30N_5out_mini_100w.npy')"
   ]
  },
  {
   "cell_type": "code",
   "execution_count": 286,
   "metadata": {},
   "outputs": [],
   "source": [
    "# 정상 데이터만 학습\n",
    "i, = np.where(train_seq_label==0)\n",
    "X_train = train_seq[i]"
   ]
  },
  {
   "cell_type": "code",
   "execution_count": 287,
   "metadata": {},
   "outputs": [
    {
     "data": {
      "text/plain": [
       "(3008, 100, 17)"
      ]
     },
     "execution_count": 287,
     "metadata": {},
     "output_type": "execute_result"
    }
   ],
   "source": [
    "train_seq.shape"
   ]
  },
  {
   "cell_type": "code",
   "execution_count": 288,
   "metadata": {},
   "outputs": [],
   "source": [
    "a, = np.where(train_seq_label==1)"
   ]
  },
  {
   "cell_type": "code",
   "execution_count": 289,
   "metadata": {},
   "outputs": [
    {
     "data": {
      "text/plain": [
       "1500"
      ]
     },
     "execution_count": 289,
     "metadata": {},
     "output_type": "execute_result"
    }
   ],
   "source": [
    "np.sum(train_seq_label)"
   ]
  },
  {
   "cell_type": "code",
   "execution_count": 290,
   "metadata": {},
   "outputs": [
    {
     "data": {
      "text/plain": [
       "(1508, 100, 17)"
      ]
     },
     "execution_count": 290,
     "metadata": {},
     "output_type": "execute_result"
    }
   ],
   "source": [
    "X_train.shape"
   ]
  },
  {
   "cell_type": "code",
   "execution_count": 291,
   "metadata": {},
   "outputs": [],
   "source": [
    "from keras.models import Model\n",
    "from keras.layers import Input, LSTM, Dense, TimeDistributed, Dropout, RepeatVector\n",
    "from keras.utils import plot_model\n",
    "timestamp = X_train.shape[1]\n",
    "nb_features = X_train.shape[2]\n",
    "input_data = Input(shape=X_train.shape[1:])\n",
    "\n",
    "x = LSTM(input_shape = (timestamp, nb_features), units=100)(input_data)\n",
    "x = RepeatVector(timestamp)(x)\n",
    "\n",
    "x = LSTM(units=50, return_sequences=True)(x)\n",
    "decoded = TimeDistributed(Dense(units=17, activation='sigmoid'))(x)\n",
    "\n",
    "autoencoder = Model(input_data, decoded)\n",
    "autoencoder.compile(optimizer='adam', loss='mse')"
   ]
  },
  {
   "cell_type": "code",
   "execution_count": 292,
   "metadata": {},
   "outputs": [
    {
     "name": "stdout",
     "output_type": "stream",
     "text": [
      "_________________________________________________________________\n",
      "Layer (type)                 Output Shape              Param #   \n",
      "=================================================================\n",
      "input_13 (InputLayer)        (None, 100, 17)           0         \n",
      "_________________________________________________________________\n",
      "lstm_25 (LSTM)               (None, 100)               47200     \n",
      "_________________________________________________________________\n",
      "repeat_vector_13 (RepeatVect (None, 100, 100)          0         \n",
      "_________________________________________________________________\n",
      "lstm_26 (LSTM)               (None, 100, 50)           30200     \n",
      "_________________________________________________________________\n",
      "time_distributed_13 (TimeDis (None, 100, 17)           867       \n",
      "=================================================================\n",
      "Total params: 78,267\n",
      "Trainable params: 78,267\n",
      "Non-trainable params: 0\n",
      "_________________________________________________________________\n"
     ]
    }
   ],
   "source": [
    "autoencoder.summary()"
   ]
  },
  {
   "cell_type": "code",
   "execution_count": 293,
   "metadata": {},
   "outputs": [
    {
     "name": "stderr",
     "output_type": "stream",
     "text": [
      "C:\\Users\\ARA\\Anaconda3\\envs\\tensorflow\\lib\\site-packages\\ipykernel_launcher.py:1: UserWarning: The `nb_epoch` argument in `fit` has been renamed `epochs`.\n",
      "  \"\"\"Entry point for launching an IPython kernel.\n"
     ]
    },
    {
     "name": "stdout",
     "output_type": "stream",
     "text": [
      "Epoch 1/5\n",
      "1508/1508 [==============================] - 10s 7ms/step - loss: 1.1409\n",
      "Epoch 2/5\n",
      "1508/1508 [==============================] - 7s 5ms/step - loss: 1.0522\n",
      "Epoch 3/5\n",
      "1508/1508 [==============================] - 7s 5ms/step - loss: 0.9240\n",
      "Epoch 4/5\n",
      "1508/1508 [==============================] - 6s 4ms/step - loss: 0.8345\n",
      "Epoch 5/5\n",
      "1508/1508 [==============================] - 6s 4ms/step - loss: 0.7821\n"
     ]
    },
    {
     "data": {
      "text/plain": [
       "<keras.callbacks.History at 0x15939413f98>"
      ]
     },
     "execution_count": 293,
     "metadata": {},
     "output_type": "execute_result"
    }
   ],
   "source": [
    "autoencoder.fit(X_train, X_train, nb_epoch= 5, batch_size=256, shuffle=True, verbose=1) "
   ]
  },
  {
   "cell_type": "code",
   "execution_count": 294,
   "metadata": {},
   "outputs": [],
   "source": [
    "lstm_predict = autoencoder.predict(train_seq)"
   ]
  },
  {
   "cell_type": "code",
   "execution_count": 295,
   "metadata": {},
   "outputs": [
    {
     "data": {
      "text/plain": [
       "(3008, 1700)"
      ]
     },
     "execution_count": 295,
     "metadata": {},
     "output_type": "execute_result"
    }
   ],
   "source": [
    "lstm_predict = lstm_predict.reshape(lstm_predict.shape[0], lstm_predict.shape[1]* lstm_predict.shape[2])\n",
    "lstm_predict.shape"
   ]
  },
  {
   "cell_type": "code",
   "execution_count": 296,
   "metadata": {},
   "outputs": [
    {
     "data": {
      "text/plain": [
       "(3008, 1700)"
      ]
     },
     "execution_count": 296,
     "metadata": {},
     "output_type": "execute_result"
    }
   ],
   "source": [
    "train_seq2 = train_seq.reshape(train_seq.shape[0], train_seq.shape[1]* train_seq.shape[2])\n",
    "train_seq2.shape"
   ]
  },
  {
   "cell_type": "code",
   "execution_count": 297,
   "metadata": {},
   "outputs": [
    {
     "data": {
      "text/plain": [
       "(3008,)"
      ]
     },
     "execution_count": 297,
     "metadata": {},
     "output_type": "execute_result"
    }
   ],
   "source": [
    "### calculate MSE\n",
    "mse = mean_squared_error(train_seq2.T, lstm_predict.T, multioutput='raw_values')\n",
    "mse.shape"
   ]
  },
  {
   "cell_type": "code",
   "execution_count": 298,
   "metadata": {},
   "outputs": [
    {
     "data": {
      "text/plain": [
       "(2.004377758533543, 0.38543713508889604, 0.8160537598139843)"
      ]
     },
     "execution_count": 298,
     "metadata": {},
     "output_type": "execute_result"
    }
   ],
   "source": [
    "np.max(mse), np.min(mse) , np.mean(mse)"
   ]
  },
  {
   "cell_type": "code",
   "execution_count": 299,
   "metadata": {},
   "outputs": [
    {
     "name": "stdout",
     "output_type": "stream",
     "text": [
      "2255\n",
      "753\n"
     ]
    }
   ],
   "source": [
    "### labeling\n",
    "# mse < border\n",
    "border = 1.\n",
    "label= [0 if  mse[x] < border else 1 for x in range(0,len(mse)) ]\n",
    "X_reduce = pd.DataFrame()\n",
    "X_reduce['label'] = label\n",
    "idx_0 = X_reduce[X_reduce.label == 0].index\n",
    "idx_1 = X_reduce[X_reduce.label == 1].index\n",
    "print(len(idx_0))\n",
    "print(len(idx_1))"
   ]
  },
  {
   "cell_type": "code",
   "execution_count": 300,
   "metadata": {},
   "outputs": [
    {
     "data": {
      "text/plain": [
       "1500"
      ]
     },
     "execution_count": 300,
     "metadata": {},
     "output_type": "execute_result"
    }
   ],
   "source": [
    "np.sum(train_seq_label)"
   ]
  },
  {
   "cell_type": "code",
   "execution_count": 301,
   "metadata": {},
   "outputs": [
    {
     "data": {
      "text/plain": [
       "<matplotlib.axes._subplots.AxesSubplot at 0x1594cb298d0>"
      ]
     },
     "execution_count": 301,
     "metadata": {},
     "output_type": "execute_result"
    },
    {
     "data": {
      "image/png": "[encoded data removed]",
      "text/plain": [
       "<Figure size 720x504 with 2 Axes>"
      ]
     },
     "metadata": {
      "needs_background": "light"
     },
     "output_type": "display_data"
    }
   ],
   "source": [
    "### plot confusion matrix\n",
    "from sklearn.metrics import confusion_matrix\n",
    "import matplotlib.pyplot as plt\n",
    "import seaborn as sn\n",
    "%matplotlib inline\n",
    "\n",
    "df_cm = pd.DataFrame(confusion_matrix(train_seq_label, X_reduce['label']))\n",
    "plt.figure(figsize=(10,7))\n",
    "sn.heatmap(df_cm, annot=True, fmt='d')"
   ]
  },
  {
   "cell_type": "code",
   "execution_count": 302,
   "metadata": {},
   "outputs": [
    {
     "data": {
      "text/plain": [
       "0.612"
      ]
     },
     "execution_count": 302,
     "metadata": {},
     "output_type": "execute_result"
    }
   ],
   "source": [
    "918/(582+918)"
   ]
  },
  {
   "cell_type": "code",
   "execution_count": 164,
   "metadata": {},
   "outputs": [
    {
     "data": {
      "text/plain": [
       "array([1.38099585, 1.38827794, 1.38066364, 1.37398023, 1.41828121,\n",
       "       1.46789275, 1.46550679, 1.50616251, 1.50658919, 1.506455  ])"
      ]
     },
     "execution_count": 164,
     "metadata": {},
     "output_type": "execute_result"
    }
   ],
   "source": [
    "mse[80:90]"
   ]
  },
  {
   "cell_type": "code",
   "execution_count": 165,
   "metadata": {},
   "outputs": [
    {
     "data": {
      "text/plain": [
       "Int64Index([326, 330, 331, 419, 420, 485, 486, 487, 703, 704, 705, 706, 707,\n",
       "            708, 709, 710, 713, 714, 715, 717],\n",
       "           dtype='int64')"
      ]
     },
     "execution_count": 165,
     "metadata": {},
     "output_type": "execute_result"
    }
   ],
   "source": [
    "idx_1[20:40]"
   ]
  },
  {
   "cell_type": "code",
   "execution_count": 284,
   "metadata": {
    "scrolled": true
   },
   "outputs": [
    {
     "data": {
      "text/plain": [
       "Int64Index([ 81,  82,  83,  84,  85,  86,  87,  88,  89,  90,  91, 244, 245,\n",
       "            246, 247, 248, 249, 250, 251, 252],\n",
       "           dtype='int64')"
      ]
     },
     "execution_count": 284,
     "metadata": {},
     "output_type": "execute_result"
    }
   ],
   "source": [
    "idx_1[train_seq_label[idx_1]==0][20:40] #index +1: 엑셀로 볼 때"
   ]
  },
  {
   "cell_type": "code",
   "execution_count": null,
   "metadata": {},
   "outputs": [],
   "source": [
    "train_seq_label[]"
   ]
  }
 ],
 "metadata": {
  "kernelspec": {
   "display_name": "Python 3",
   "language": "python",
   "name": "python3"
  },
  "language_info": {
   "codemirror_mode": {
    "name": "ipython",
    "version": 3
   },
   "file_extension": ".py",
   "mimetype": "text/x-python",
   "name": "python",
   "nbconvert_exporter": "python",
   "pygments_lexer": "ipython3",
   "version": "3.6.8"
  }
 },
 "nbformat": 4,
 "nbformat_minor": 2
}
