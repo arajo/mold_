{
 "cells": [
  {
   "cell_type": "code",
   "execution_count": 1,
   "metadata": {},
   "outputs": [
    {
     "name": "stderr",
     "output_type": "stream",
     "text": [
      "Using TensorFlow backend.\n"
     ]
    }
   ],
   "source": [
    "import pandas as pd\n",
    "import numpy as np\n",
    "from sklearn.preprocessing import StandardScaler, MinMaxScaler, RobustScaler\n",
    "from keras.layers import Input, Conv1D, Conv2D, Conv2DTranspose\n",
    "from keras.models import Model\n",
    "from sklearn.metrics import mean_squared_error\n",
    "from keras import optimizers\n",
    "from sklearn.preprocessing import normalize\n",
    "from keras.callbacks import EarlyStopping"
   ]
  },
  {
   "cell_type": "code",
   "execution_count": 2,
   "metadata": {},
   "outputs": [
    {
     "data": {
      "text/html": [
       "<div>\n",
       "<style scoped>\n",
       "    .dataframe tbody tr th:only-of-type {\n",
       "        vertical-align: middle;\n",
       "    }\n",
       "\n",
       "    .dataframe tbody tr th {\n",
       "        vertical-align: top;\n",
       "    }\n",
       "\n",
       "    .dataframe thead th {\n",
       "        text-align: right;\n",
       "    }\n",
       "</style>\n",
       "<table border=\"1\" class=\"dataframe\">\n",
       "  <thead>\n",
       "    <tr style=\"text-align: right;\">\n",
       "      <th></th>\n",
       "      <th>0</th>\n",
       "      <th>1</th>\n",
       "      <th>2</th>\n",
       "      <th>3</th>\n",
       "      <th>4</th>\n",
       "      <th>5</th>\n",
       "      <th>6</th>\n",
       "      <th>7</th>\n",
       "      <th>8</th>\n",
       "      <th>9</th>\n",
       "      <th>...</th>\n",
       "      <th>17</th>\n",
       "      <th>18</th>\n",
       "      <th>19</th>\n",
       "      <th>20</th>\n",
       "      <th>21</th>\n",
       "      <th>22</th>\n",
       "      <th>23</th>\n",
       "      <th>24</th>\n",
       "      <th>25</th>\n",
       "      <th>label</th>\n",
       "    </tr>\n",
       "  </thead>\n",
       "  <tbody>\n",
       "    <tr>\n",
       "      <th>0</th>\n",
       "      <td>1</td>\n",
       "      <td>1</td>\n",
       "      <td>42.0049</td>\n",
       "      <td>0.8400</td>\n",
       "      <td>100.0</td>\n",
       "      <td>445.00</td>\n",
       "      <td>549.68</td>\n",
       "      <td>1343.43</td>\n",
       "      <td>1112.93</td>\n",
       "      <td>3.91</td>\n",
       "      <td>...</td>\n",
       "      <td>2387.99</td>\n",
       "      <td>8074.83</td>\n",
       "      <td>9.3335</td>\n",
       "      <td>0.02</td>\n",
       "      <td>330</td>\n",
       "      <td>2212</td>\n",
       "      <td>100.00</td>\n",
       "      <td>10.62</td>\n",
       "      <td>6.3670</td>\n",
       "      <td>0</td>\n",
       "    </tr>\n",
       "    <tr>\n",
       "      <th>1</th>\n",
       "      <td>1</td>\n",
       "      <td>2</td>\n",
       "      <td>20.0020</td>\n",
       "      <td>0.7002</td>\n",
       "      <td>100.0</td>\n",
       "      <td>491.19</td>\n",
       "      <td>606.07</td>\n",
       "      <td>1477.61</td>\n",
       "      <td>1237.50</td>\n",
       "      <td>9.35</td>\n",
       "      <td>...</td>\n",
       "      <td>2387.73</td>\n",
       "      <td>8046.13</td>\n",
       "      <td>9.1913</td>\n",
       "      <td>0.02</td>\n",
       "      <td>361</td>\n",
       "      <td>2324</td>\n",
       "      <td>100.00</td>\n",
       "      <td>24.37</td>\n",
       "      <td>14.6552</td>\n",
       "      <td>0</td>\n",
       "    </tr>\n",
       "    <tr>\n",
       "      <th>2</th>\n",
       "      <td>1</td>\n",
       "      <td>3</td>\n",
       "      <td>42.0038</td>\n",
       "      <td>0.8409</td>\n",
       "      <td>100.0</td>\n",
       "      <td>445.00</td>\n",
       "      <td>548.95</td>\n",
       "      <td>1343.12</td>\n",
       "      <td>1117.05</td>\n",
       "      <td>3.91</td>\n",
       "      <td>...</td>\n",
       "      <td>2387.97</td>\n",
       "      <td>8066.62</td>\n",
       "      <td>9.4007</td>\n",
       "      <td>0.02</td>\n",
       "      <td>329</td>\n",
       "      <td>2212</td>\n",
       "      <td>100.00</td>\n",
       "      <td>10.48</td>\n",
       "      <td>6.4213</td>\n",
       "      <td>0</td>\n",
       "    </tr>\n",
       "    <tr>\n",
       "      <th>3</th>\n",
       "      <td>1</td>\n",
       "      <td>4</td>\n",
       "      <td>42.0000</td>\n",
       "      <td>0.8400</td>\n",
       "      <td>100.0</td>\n",
       "      <td>445.00</td>\n",
       "      <td>548.70</td>\n",
       "      <td>1341.24</td>\n",
       "      <td>1118.03</td>\n",
       "      <td>3.91</td>\n",
       "      <td>...</td>\n",
       "      <td>2388.02</td>\n",
       "      <td>8076.05</td>\n",
       "      <td>9.3369</td>\n",
       "      <td>0.02</td>\n",
       "      <td>328</td>\n",
       "      <td>2212</td>\n",
       "      <td>100.00</td>\n",
       "      <td>10.54</td>\n",
       "      <td>6.4176</td>\n",
       "      <td>0</td>\n",
       "    </tr>\n",
       "    <tr>\n",
       "      <th>4</th>\n",
       "      <td>1</td>\n",
       "      <td>5</td>\n",
       "      <td>25.0063</td>\n",
       "      <td>0.6207</td>\n",
       "      <td>60.0</td>\n",
       "      <td>462.54</td>\n",
       "      <td>536.10</td>\n",
       "      <td>1255.23</td>\n",
       "      <td>1033.59</td>\n",
       "      <td>7.05</td>\n",
       "      <td>...</td>\n",
       "      <td>2028.08</td>\n",
       "      <td>7865.80</td>\n",
       "      <td>10.8366</td>\n",
       "      <td>0.02</td>\n",
       "      <td>305</td>\n",
       "      <td>1915</td>\n",
       "      <td>84.93</td>\n",
       "      <td>14.03</td>\n",
       "      <td>8.6754</td>\n",
       "      <td>0</td>\n",
       "    </tr>\n",
       "  </tbody>\n",
       "</table>\n",
       "<p>5 rows × 27 columns</p>\n",
       "</div>"
      ],
      "text/plain": [
       "   0  1        2       3      4       5       6        7        8     9  ...  \\\n",
       "0  1  1  42.0049  0.8400  100.0  445.00  549.68  1343.43  1112.93  3.91  ...   \n",
       "1  1  2  20.0020  0.7002  100.0  491.19  606.07  1477.61  1237.50  9.35  ...   \n",
       "2  1  3  42.0038  0.8409  100.0  445.00  548.95  1343.12  1117.05  3.91  ...   \n",
       "3  1  4  42.0000  0.8400  100.0  445.00  548.70  1341.24  1118.03  3.91  ...   \n",
       "4  1  5  25.0063  0.6207   60.0  462.54  536.10  1255.23  1033.59  7.05  ...   \n",
       "\n",
       "        17       18       19    20   21    22      23     24       25  label  \n",
       "0  2387.99  8074.83   9.3335  0.02  330  2212  100.00  10.62   6.3670      0  \n",
       "1  2387.73  8046.13   9.1913  0.02  361  2324  100.00  24.37  14.6552      0  \n",
       "2  2387.97  8066.62   9.4007  0.02  329  2212  100.00  10.48   6.4213      0  \n",
       "3  2388.02  8076.05   9.3369  0.02  328  2212  100.00  10.54   6.4176      0  \n",
       "4  2028.08  7865.80  10.8366  0.02  305  1915   84.93  14.03   8.6754      0  \n",
       "\n",
       "[5 rows x 27 columns]"
      ]
     },
     "execution_count": 2,
     "metadata": {},
     "output_type": "execute_result"
    }
   ],
   "source": [
    "####################################\n",
    "# train 데이터 load\n",
    "####################################\n",
    "# train set load\n",
    "train_dataset = pd.read_csv('C:/Users/ARA/Desktop/금형/python/data/train_failure30_4.csv', header=0)\n",
    "train_dataset.head()"
   ]
  },
  {
   "cell_type": "code",
   "execution_count": 3,
   "metadata": {},
   "outputs": [
    {
     "data": {
      "text/plain": [
       "24"
      ]
     },
     "execution_count": 3,
     "metadata": {},
     "output_type": "execute_result"
    }
   ],
   "source": [
    "# unique columns 추출\n",
    "uniq_col = []\n",
    "for i in range(train_dataset.shape[1]):\n",
    "    if len(np.unique(train_dataset.iloc[:,i], axis=0)) != 1: uniq_col.append(i)\n",
    "uniq_col.remove(0)\n",
    "uniq_col.remove(1)\n",
    "uniq_col.remove(26)\n",
    "len(uniq_col)"
   ]
  },
  {
   "cell_type": "code",
   "execution_count": 4,
   "metadata": {},
   "outputs": [],
   "source": [
    "train_dataset = train_dataset.T.reset_index(drop=True).T\n",
    "train_dataset.rename(columns={0:'id', 1:'cycle', 26:'label'}, inplace=True)"
   ]
  },
  {
   "cell_type": "code",
   "execution_count": 5,
   "metadata": {},
   "outputs": [
    {
     "data": {
      "text/plain": [
       "\"\\n# NASA_Preparation에서 패딩 사용 안했을 때\\n\\n# 150보다 작은 정상 데이터만 학습용으로 추출\\ntrain_dataset2 = train_dataset[train_dataset['cycle']< 150]\\ntrain_dataset3 = train_dataset2[train_dataset2['label']!=1]\\ntrain_dataset3 = train_dataset3[train_dataset3['label']!=2]\\ntrain_uniq = np.asarray(train_dataset3[uniq_col])\\n\\n# scaling\\nsc = StandardScaler()\\ntrain_uniq = sc.fit_transform(train_uniq)\\n\\n\\nX_train = np.reshape(train_uniq, (train_uniq.shape[0], train_uniq.shape[1], 1, 1))\\nX_train.shape\\n\""
      ]
     },
     "execution_count": 5,
     "metadata": {},
     "output_type": "execute_result"
    }
   ],
   "source": [
    "\"\"\"\n",
    "# NASA_Preparation에서 패딩 사용 안했을 때\n",
    "\n",
    "# 150보다 작은 정상 데이터만 학습용으로 추출\n",
    "train_dataset2 = train_dataset[train_dataset['cycle']< 150]\n",
    "train_dataset3 = train_dataset2[train_dataset2['label']!=1]\n",
    "train_dataset3 = train_dataset3[train_dataset3['label']!=2]\n",
    "train_uniq = np.asarray(train_dataset3[uniq_col])\n",
    "\n",
    "# scaling\n",
    "sc = StandardScaler()\n",
    "train_uniq = sc.fit_transform(train_uniq)\n",
    "\n",
    "\n",
    "X_train = np.reshape(train_uniq, (train_uniq.shape[0], train_uniq.shape[1], 1, 1))\n",
    "X_train.shape\n",
    "\"\"\""
   ]
  },
  {
   "cell_type": "code",
   "execution_count": 6,
   "metadata": {},
   "outputs": [
    {
     "name": "stdout",
     "output_type": "stream",
     "text": [
      "정상 데이터 shape:  (42688, 27)\n",
      "훈련에 사용할 데이터 shape:  (42688, 24, 1, 1)\n"
     ]
    }
   ],
   "source": [
    "\n",
    "# NASA_Preparation 에서 정상만 훈련시키고 싶을때 (또는 이미 패딩 사용했을 시), 이 부분 적용\n",
    "\n",
    "# 정상 데이터만 학습\n",
    "train_seq_T = train_dataset[train_dataset['label']==0]\n",
    "print(\"정상 데이터 shape: \", train_seq_T.shape)\n",
    "\n",
    "# scaling\n",
    "sc = StandardScaler()\n",
    "\n",
    "X_train = np.asarray(train_seq_T[uniq_col])\n",
    "X_train = sc.fit_transform(X_train)\n",
    "X_train = np.reshape(X_train, (X_train.shape[0], X_train.shape[1], 1, 1))\n",
    "\n",
    "print(\"훈련에 사용할 데이터 shape: \", X_train.shape)\n"
   ]
  },
  {
   "cell_type": "code",
   "execution_count": 7,
   "metadata": {},
   "outputs": [
    {
     "data": {
      "text/plain": [
       "\"\\n####################################\\n# Model\\n####################################\\ninput_data = Input(shape=X_train.shape[1:])\\n\\nx = Conv1D(8, activation='relu', kernel_size=3, padding='same')(input_data)\\nx = Conv1D(8, activation='relu', kernel_size=3, padding='same')(x)\\nencoded = Conv1D(2, activation='relu', kernel_size=3, padding='same')(x)\\n\\nx = Conv1D(4, activation='relu', kernel_size=3, padding='same')(encoded)\\nx = Conv1D(8, activation='relu', kernel_size=3, padding='same')(x)\\nx = Conv1D(8, activation='relu', kernel_size=3, padding='same')(x)\\ndecoded = Conv1D(1, activation='sigmoid', kernel_size=3, padding='same')(x)\\n\\nautoencoder = Model(input_data, decoded)\\nencoder = Model(input_data, encoded)\\n\\nautoencoder.compile(loss='mse', optimizer='adadelta', metrics=['acc'])\\nencoder.compile(loss='mse', optimizer='adadelta', metrics=['acc'])\\n\\nautoencoder.summary()\\n\""
      ]
     },
     "execution_count": 7,
     "metadata": {},
     "output_type": "execute_result"
    }
   ],
   "source": [
    "\"\"\"\n",
    "####################################\n",
    "# Model\n",
    "####################################\n",
    "input_data = Input(shape=X_train.shape[1:])\n",
    "\n",
    "x = Conv1D(8, activation='relu', kernel_size=3, padding='same')(input_data)\n",
    "x = Conv1D(8, activation='relu', kernel_size=3, padding='same')(x)\n",
    "encoded = Conv1D(2, activation='relu', kernel_size=3, padding='same')(x)\n",
    "\n",
    "x = Conv1D(4, activation='relu', kernel_size=3, padding='same')(encoded)\n",
    "x = Conv1D(8, activation='relu', kernel_size=3, padding='same')(x)\n",
    "x = Conv1D(8, activation='relu', kernel_size=3, padding='same')(x)\n",
    "decoded = Conv1D(1, activation='sigmoid', kernel_size=3, padding='same')(x)\n",
    "\n",
    "autoencoder = Model(input_data, decoded)\n",
    "encoder = Model(input_data, encoded)\n",
    "\n",
    "autoencoder.compile(loss='mse', optimizer='adadelta', metrics=['acc'])\n",
    "encoder.compile(loss='mse', optimizer='adadelta', metrics=['acc'])\n",
    "\n",
    "autoencoder.summary()\n",
    "\"\"\""
   ]
  },
  {
   "cell_type": "code",
   "execution_count": 8,
   "metadata": {},
   "outputs": [
    {
     "name": "stdout",
     "output_type": "stream",
     "text": [
      "_________________________________________________________________\n",
      "Layer (type)                 Output Shape              Param #   \n",
      "=================================================================\n",
      "input_1 (InputLayer)         (None, 24, 1, 1)          0         \n",
      "_________________________________________________________________\n",
      "conv2d_1 (Conv2D)            (None, 20, 1, 4)          24        \n",
      "_________________________________________________________________\n",
      "conv2d_2 (Conv2D)            (None, 16, 1, 4)          84        \n",
      "_________________________________________________________________\n",
      "conv2d_3 (Conv2D)            (None, 12, 1, 8)          168       \n",
      "_________________________________________________________________\n",
      "conv2d_4 (Conv2D)            (None, 8, 1, 16)          656       \n",
      "_________________________________________________________________\n",
      "conv2d_transpose_1 (Conv2DTr (None, 12, 1, 8)          648       \n",
      "_________________________________________________________________\n",
      "conv2d_transpose_2 (Conv2DTr (None, 16, 1, 4)          164       \n",
      "_________________________________________________________________\n",
      "conv2d_transpose_3 (Conv2DTr (None, 20, 1, 4)          84        \n",
      "_________________________________________________________________\n",
      "conv2d_transpose_4 (Conv2DTr (None, 24, 1, 1)          21        \n",
      "=================================================================\n",
      "Total params: 1,849\n",
      "Trainable params: 1,849\n",
      "Non-trainable params: 0\n",
      "_________________________________________________________________\n"
     ]
    }
   ],
   "source": [
    "#######################################\n",
    "# CNN1D AutoEncoder 구축\n",
    "#######################################\n",
    "\n",
    "input_data = Input(shape=X_train.shape[1:]) # 1ch=black&white\n",
    "\n",
    "#@@ C-AE 구현http://localhost:8888/notebooks/Desktop/%EA%B8%88%ED%98%95/python/AutoEncoder/CNN1DAE.ipynb#\n",
    "filter1 = 4\n",
    "filter2 = 4\n",
    "filter3 = 8\n",
    "kernel_size1 = 5\n",
    "kernel_size2 = 5\n",
    "\n",
    "x = Conv2D(filter1, kernel_size= (kernel_size1,1), activation='relu')(input_data)\n",
    "x = Conv2D(filter2, kernel_size= (kernel_size1,1), activation='relu')(x)\n",
    "x = Conv2D(filter3, kernel_size= (kernel_size1,1), activation='relu')(x)\n",
    "encoded = Conv2D(16, kernel_size= (kernel_size2,1), activation='sigmoid')(x)\n",
    "\n",
    "x = Conv2DTranspose(filter3, kernel_size= (kernel_size2,1), activation='relu')(encoded)\n",
    "x = Conv2DTranspose(filter2, kernel_size= (kernel_size1,1), activation='relu')(x)\n",
    "x = Conv2DTranspose(filter1, kernel_size= (kernel_size1,1), activation='relu')(x)\n",
    "decoded = Conv2DTranspose(X_train.shape[-1], kernel_size=(kernel_size1,1), activation='sigmoid')(x)\n",
    "\n",
    "adam = optimizers.Adam(lr=0.01)\n",
    "autoencoder = Model(input_data, decoded)\n",
    "autoencoder.compile(optimizer=adam, loss='mse')\n",
    "\n",
    "autoencoder.summary()"
   ]
  },
  {
   "cell_type": "code",
   "execution_count": 9,
   "metadata": {
    "scrolled": true
   },
   "outputs": [
    {
     "name": "stdout",
     "output_type": "stream",
     "text": [
      "Train on 40553 samples, validate on 2135 samples\n",
      "Epoch 1/100\n",
      "40553/40553 [==============================] - 2s 48us/step - loss: 1.0372 - val_loss: 0.9432\n",
      "Epoch 2/100\n",
      "40553/40553 [==============================] - 1s 34us/step - loss: 0.8240 - val_loss: 0.7741\n",
      "Epoch 3/100\n",
      "40553/40553 [==============================] - 1s 33us/step - loss: 0.7085 - val_loss: 0.6909\n",
      "Epoch 4/100\n",
      "40553/40553 [==============================] - 1s 33us/step - loss: 0.6846 - val_loss: 0.6806\n",
      "Epoch 5/100\n",
      "40553/40553 [==============================] - 1s 34us/step - loss: 0.6778 - val_loss: 0.6750\n",
      "Epoch 6/100\n",
      "40553/40553 [==============================] - 1s 34us/step - loss: 0.6665 - val_loss: 0.6623\n",
      "Epoch 7/100\n",
      "40553/40553 [==============================] - 1s 33us/step - loss: 0.6601 - val_loss: 0.6588\n",
      "Epoch 8/100\n",
      "40553/40553 [==============================] - 1s 34us/step - loss: 0.6578 - val_loss: 0.6573\n",
      "Epoch 9/100\n",
      "40553/40553 [==============================] - 1s 34us/step - loss: 0.6567 - val_loss: 0.6563\n",
      "Epoch 10/100\n",
      "40553/40553 [==============================] - 1s 33us/step - loss: 0.6558 - val_loss: 0.6555\n",
      "Epoch 11/100\n",
      "40553/40553 [==============================] - 1s 33us/step - loss: 0.6556 - val_loss: 0.6555\n",
      "Epoch 12/100\n",
      "40553/40553 [==============================] - 1s 33us/step - loss: 0.6547 - val_loss: 0.6542\n",
      "Epoch 13/100\n",
      "40553/40553 [==============================] - 1s 33us/step - loss: 0.6539 - val_loss: 0.6536\n",
      "Epoch 14/100\n",
      "40553/40553 [==============================] - 1s 34us/step - loss: 0.6535 - val_loss: 0.6534\n",
      "Epoch 15/100\n",
      "40553/40553 [==============================] - 1s 34us/step - loss: 0.6532 - val_loss: 0.6532\n",
      "Epoch 16/100\n",
      "40553/40553 [==============================] - 1s 34us/step - loss: 0.6532 - val_loss: 0.6537\n",
      "Epoch 17/100\n",
      "40553/40553 [==============================] - 1s 33us/step - loss: 0.6530 - val_loss: 0.6527\n",
      "Epoch 18/100\n",
      "40553/40553 [==============================] - 1s 33us/step - loss: 0.6525 - val_loss: 0.6523\n",
      "Epoch 19/100\n",
      "40553/40553 [==============================] - 1s 34us/step - loss: 0.6569 - val_loss: 0.6580\n",
      "Epoch 20/100\n",
      "40553/40553 [==============================] - 1s 33us/step - loss: 0.6544 - val_loss: 0.6527\n",
      "Epoch 21/100\n",
      "40553/40553 [==============================] - 1s 33us/step - loss: 0.6523 - val_loss: 0.6520\n",
      "Epoch 22/100\n",
      "40553/40553 [==============================] - 1s 33us/step - loss: 0.6519 - val_loss: 0.6518\n",
      "Epoch 23/100\n",
      "40553/40553 [==============================] - 1s 33us/step - loss: 0.6518 - val_loss: 0.6515\n",
      "Epoch 24/100\n",
      "40553/40553 [==============================] - 1s 33us/step - loss: 0.6513 - val_loss: 0.6506\n",
      "Epoch 25/100\n",
      "40553/40553 [==============================] - 1s 34us/step - loss: 0.6505 - val_loss: 0.6502\n",
      "Epoch 26/100\n",
      "40553/40553 [==============================] - 1s 33us/step - loss: 0.6502 - val_loss: 0.6500\n",
      "Epoch 27/100\n",
      "40553/40553 [==============================] - 1s 33us/step - loss: 0.6514 - val_loss: 0.6503\n",
      "Epoch 28/100\n",
      "40553/40553 [==============================] - 1s 33us/step - loss: 0.6501 - val_loss: 0.6499\n",
      "Epoch 29/100\n",
      "40553/40553 [==============================] - 1s 33us/step - loss: 0.6499 - val_loss: 0.6498\n",
      "Epoch 30/100\n",
      "40553/40553 [==============================] - 1s 33us/step - loss: 0.6499 - val_loss: 0.6496\n",
      "Epoch 31/100\n",
      "40553/40553 [==============================] - 1s 33us/step - loss: 0.6497 - val_loss: 0.6496\n",
      "Epoch 32/100\n",
      "40553/40553 [==============================] - 1s 33us/step - loss: 0.6499 - val_loss: 0.6497\n",
      "Epoch 33/100\n",
      "40553/40553 [==============================] - 1s 33us/step - loss: 0.6497 - val_loss: 0.6494\n",
      "Epoch 34/100\n",
      "40553/40553 [==============================] - 1s 33us/step - loss: 0.6495 - val_loss: 0.6494\n",
      "Epoch 35/100\n",
      "40553/40553 [==============================] - 1s 33us/step - loss: 0.6495 - val_loss: 0.6493\n",
      "Epoch 36/100\n",
      "40553/40553 [==============================] - 1s 33us/step - loss: 0.6494 - val_loss: 0.6492\n",
      "Epoch 37/100\n",
      "40553/40553 [==============================] - 1s 33us/step - loss: 0.6497 - val_loss: 0.6509\n",
      "Epoch 38/100\n",
      "40553/40553 [==============================] - 1s 33us/step - loss: 0.6497 - val_loss: 0.6492\n",
      "Epoch 39/100\n",
      "40553/40553 [==============================] - 1s 33us/step - loss: 0.6493 - val_loss: 0.6491\n",
      "Epoch 40/100\n",
      "40553/40553 [==============================] - 1s 33us/step - loss: 0.6492 - val_loss: 0.6491\n",
      "Epoch 41/100\n",
      "40553/40553 [==============================] - 1s 33us/step - loss: 0.6493 - val_loss: 0.6492\n",
      "Epoch 42/100\n",
      "40553/40553 [==============================] - 1s 33us/step - loss: 0.6493 - val_loss: 0.6490\n",
      "Epoch 43/100\n",
      "40553/40553 [==============================] - 1s 33us/step - loss: 0.6491 - val_loss: 0.6490\n",
      "Epoch 44/100\n",
      "40553/40553 [==============================] - 1s 33us/step - loss: 0.6491 - val_loss: 0.6490\n",
      "Epoch 45/100\n",
      "40553/40553 [==============================] - 1s 33us/step - loss: 0.6491 - val_loss: 0.6489\n",
      "Epoch 46/100\n",
      "40553/40553 [==============================] - 1s 33us/step - loss: 0.6490 - val_loss: 0.6489\n",
      "Epoch 47/100\n",
      "40553/40553 [==============================] - 1s 34us/step - loss: 0.6490 - val_loss: 0.6489\n",
      "Epoch 48/100\n",
      "40553/40553 [==============================] - 1s 33us/step - loss: 0.6490 - val_loss: 0.6489\n",
      "Epoch 49/100\n",
      "40553/40553 [==============================] - 1s 34us/step - loss: 0.6490 - val_loss: 0.6489\n",
      "Epoch 50/100\n",
      "40553/40553 [==============================] - 1s 33us/step - loss: 0.6490 - val_loss: 0.6489\n",
      "Epoch 51/100\n",
      "40553/40553 [==============================] - 1s 33us/step - loss: 0.6490 - val_loss: 0.6489\n",
      "Epoch 52/100\n",
      "40553/40553 [==============================] - 1s 34us/step - loss: 0.6490 - val_loss: 0.6489\n",
      "Epoch 53/100\n",
      "40553/40553 [==============================] - 1s 34us/step - loss: 0.6490 - val_loss: 0.6488\n",
      "Epoch 54/100\n",
      "40553/40553 [==============================] - 1s 33us/step - loss: 0.6490 - val_loss: 0.6488\n",
      "Epoch 55/100\n",
      "40553/40553 [==============================] - 1s 33us/step - loss: 0.6489 - val_loss: 0.6490\n",
      "Epoch 56/100\n",
      "40553/40553 [==============================] - 1s 33us/step - loss: 0.6490 - val_loss: 0.6488\n"
     ]
    },
    {
     "data": {
      "text/plain": [
       "<keras.callbacks.History at 0x2d7b5b4ed68>"
      ]
     },
     "execution_count": 9,
     "metadata": {},
     "output_type": "execute_result"
    }
   ],
   "source": [
    "early_stopping = EarlyStopping(patience=3, mode='min')\n",
    "autoencoder.fit(X_train, X_train, epochs= 100, batch_size=1024, shuffle=True, verbose=1, validation_split=0.05, callbacks=[early_stopping]) "
   ]
  },
  {
   "cell_type": "code",
   "execution_count": 10,
   "metadata": {},
   "outputs": [
    {
     "name": "stdout",
     "output_type": "stream",
     "text": [
      "(48658, 24)\n",
      "(48658, 24, 1, 1)\n"
     ]
    }
   ],
   "source": [
    "# all_data: 정상 + 이상인 전체 훈련 데이터 셋\n",
    "all_data = np.asarray(train_dataset[uniq_col])\n",
    "\n",
    "# scaling\n",
    "all_data = sc.transform(all_data)\n",
    "print(all_data.shape)\n",
    "all_data = np.reshape(all_data, (all_data.shape[0], all_data.shape[1], 1, 1))\n",
    "print(all_data.shape)"
   ]
  },
  {
   "cell_type": "code",
   "execution_count": 11,
   "metadata": {},
   "outputs": [
    {
     "data": {
      "text/plain": [
       "'\\n### 인코더에서 특성 추출 for 2D plotting\\nencoder = Model(input_data, encoded)\\nencoder.compile(optimizer=\\'adam\\', loss=\\'mse\\')\\n\\nenco_train_pred = encoder.predict(all_data)\\nprint(\"enco_train_pred.shape: \", enco_train_pred.shape)\\n\\nenco_train_re = np.reshape(enco_train_pred,(len(enco_train_pred),2))\\nprint(\"enco_train_re.shape: \", enco_train_re.shape)\\n\\nlabel = np.asarray(train_dataset[\\'label\\'])\\nlabel = label.reshape((len(label),1))\\nprint(\"label.shape: \",label.shape)\\nprint(\"np.sum(label): \", np.sum(label))\\n\\nX_reduce = pd.DataFrame()\\nX_reduce[\\'x\\'] = [enco_train_re[x][0] for x in range(0,len(enco_train_re))]\\nX_reduce[\\'y\\'] = [enco_train_re[x][1] for x in range(0,len(enco_train_re))]\\nX_reduce[\\'label\\'] = label\\n\\nb1 = plt.scatter(X_reduce[\\'x\\'][X_reduce.label == 1], X_reduce[\\'y\\'][X_reduce.label == 1], c= \\'red\\', s= 20, alpha= 0.5)\\nb1 = plt.scatter(X_reduce[\\'x\\'][X_reduce.label == 0], X_reduce[\\'y\\'][X_reduce.label == 0], c= \\'yellow\\', s= 20, alpha= 0.05)\\n\\nplt.show()\\n'"
      ]
     },
     "execution_count": 11,
     "metadata": {},
     "output_type": "execute_result"
    }
   ],
   "source": [
    "\"\"\"\n",
    "### 인코더에서 특성 추출 for 2D plotting\n",
    "encoder = Model(input_data, encoded)\n",
    "encoder.compile(optimizer='adam', loss='mse')\n",
    "\n",
    "enco_train_pred = encoder.predict(all_data)\n",
    "print(\"enco_train_pred.shape: \", enco_train_pred.shape)\n",
    "\n",
    "enco_train_re = np.reshape(enco_train_pred,(len(enco_train_pred),2))\n",
    "print(\"enco_train_re.shape: \", enco_train_re.shape)\n",
    "\n",
    "label = np.asarray(train_dataset['label'])\n",
    "label = label.reshape((len(label),1))\n",
    "print(\"label.shape: \",label.shape)\n",
    "print(\"np.sum(label): \", np.sum(label))\n",
    "\n",
    "X_reduce = pd.DataFrame()\n",
    "X_reduce['x'] = [enco_train_re[x][0] for x in range(0,len(enco_train_re))]\n",
    "X_reduce['y'] = [enco_train_re[x][1] for x in range(0,len(enco_train_re))]\n",
    "X_reduce['label'] = label\n",
    "\n",
    "b1 = plt.scatter(X_reduce['x'][X_reduce.label == 1], X_reduce['y'][X_reduce.label == 1], c= 'red', s= 20, alpha= 0.5)\n",
    "b1 = plt.scatter(X_reduce['x'][X_reduce.label == 0], X_reduce['y'][X_reduce.label == 0], c= 'yellow', s= 20, alpha= 0.05)\n",
    "\n",
    "plt.show()\n",
    "\"\"\""
   ]
  },
  {
   "cell_type": "code",
   "execution_count": 12,
   "metadata": {},
   "outputs": [
    {
     "data": {
      "text/plain": [
       "(48658, 24, 1, 1)"
      ]
     },
     "execution_count": 12,
     "metadata": {},
     "output_type": "execute_result"
    }
   ],
   "source": [
    "##############################################\n",
    "### CNN_AE predict - train data로 다시\n",
    "##############################################\n",
    "cnn1d_predict = autoencoder.predict(all_data)\n",
    "cnn1d_predict.shape"
   ]
  },
  {
   "cell_type": "code",
   "execution_count": 13,
   "metadata": {},
   "outputs": [
    {
     "data": {
      "text/plain": [
       "(48658, 24)"
      ]
     },
     "execution_count": 13,
     "metadata": {},
     "output_type": "execute_result"
    }
   ],
   "source": [
    "# MSE 계산을 위한 flattening\n",
    "cnn1d_predict = cnn1d_predict.reshape(cnn1d_predict.shape[0], cnn1d_predict.shape[1]* cnn1d_predict.shape[2])\n",
    "cnn1d_predict.shape"
   ]
  },
  {
   "cell_type": "code",
   "execution_count": 14,
   "metadata": {},
   "outputs": [
    {
     "data": {
      "text/plain": [
       "(48658, 24)"
      ]
     },
     "execution_count": 14,
     "metadata": {},
     "output_type": "execute_result"
    }
   ],
   "source": [
    "all_data = all_data.reshape(all_data.shape[0], all_data.shape[1]* all_data.shape[2])\n",
    "all_data.shape"
   ]
  },
  {
   "cell_type": "code",
   "execution_count": 15,
   "metadata": {},
   "outputs": [
    {
     "name": "stdout",
     "output_type": "stream",
     "text": [
      "mse.shape:  (48658,)\n",
      "최소값:  0.14485920646234732 \n",
      "중간값:  0.6466793030166308 \n",
      "최대값:  2.3970526747360297\n"
     ]
    }
   ],
   "source": [
    "### calculate MSE\n",
    "mse = mean_squared_error(all_data.T, cnn1d_predict.T, multioutput='raw_values')\n",
    "print(\"mse.shape: \", mse.shape)\n",
    "\n",
    "print(\"최소값: \", np.min(mse), \"\\n중간값: \",np.mean(mse), \"\\n최대값: \", np.max(mse))"
   ]
  },
  {
   "cell_type": "code",
   "execution_count": 35,
   "metadata": {},
   "outputs": [
    {
     "name": "stdout",
     "output_type": "stream",
     "text": [
      "예측 정상 데이터 수:  42642\n",
      "예측 고장 데이터 수:  6016\n",
      "전체 데이터 수:  (48658, 1)\n",
      "실제 고장 데이터 수:  5970\n"
     ]
    }
   ],
   "source": [
    "### labeling\n",
    "# mse < border\n",
    "border = 2.22\n",
    "label= [0 if  mse[x] < border else 1 for x in range(0,len(mse)) ]    # 정상 0, 이상 2\n",
    "X_reduce = pd.DataFrame()\n",
    "X_reduce['label'] = label\n",
    "idx_0 = X_reduce[X_reduce.label == 0].index\n",
    "idx_2 = X_reduce[X_reduce.label == 1].index\n",
    "print(\"예측 정상 데이터 수: \",len(idx_0))\n",
    "print(\"예측 고장 데이터 수: \",len(idx_2))\n",
    "\n",
    "label = np.asarray(train_dataset['label'])\n",
    "label = label.reshape((len(label),1))\n",
    "print(\"전체 데이터 수: \",label.shape)\n",
    "print(\"실제 고장 데이터 수: \", len(label[label==1]))"
   ]
  },
  {
   "cell_type": "code",
   "execution_count": 36,
   "metadata": {},
   "outputs": [
    {
     "data": {
      "text/plain": [
       "<matplotlib.axes._subplots.AxesSubplot at 0x2d7bbe8b898>"
      ]
     },
     "execution_count": 36,
     "metadata": {},
     "output_type": "execute_result"
    },
    {
     "data": {
      "image/png": "[encoded data removed]",
      "text/plain": [
       "<Figure size 720x504 with 2 Axes>"
      ]
     },
     "metadata": {
      "needs_background": "light"
     },
     "output_type": "display_data"
    }
   ],
   "source": [
    "### plot confusion matrix\n",
    "from sklearn.metrics import confusion_matrix\n",
    "import matplotlib.pyplot as plt\n",
    "import seaborn as sn\n",
    "%matplotlib inline\n",
    "\n",
    "df_cm = pd.DataFrame(confusion_matrix(label, X_reduce['label']))\n",
    "plt.figure(figsize=(10,7))\n",
    "sn.heatmap(df_cm, annot=True, fmt='d')"
   ]
  },
  {
   "cell_type": "code",
   "execution_count": 37,
   "metadata": {},
   "outputs": [
    {
     "data": {
      "text/plain": [
       "0.7646430186197543"
      ]
     },
     "execution_count": 37,
     "metadata": {},
     "output_type": "execute_result"
    }
   ],
   "source": [
    "(df_cm.iloc[0,0]+df_cm.iloc[1,1])/(np.sum(df_cm)[0]+np.sum(df_cm)[1])"
   ]
  },
  {
   "cell_type": "code",
   "execution_count": 38,
   "metadata": {},
   "outputs": [
    {
     "name": "stdout",
     "output_type": "stream",
     "text": [
      "              precision    recall  f1-score   support\n",
      "\n",
      "         0.0       0.87      0.87      0.87     42688\n",
      "         1.0       0.04      0.04      0.04      5970\n",
      "\n",
      "   micro avg       0.76      0.76      0.76     48658\n",
      "   macro avg       0.46      0.46      0.46     48658\n",
      "weighted avg       0.77      0.76      0.77     48658\n",
      "\n"
     ]
    }
   ],
   "source": [
    "from sklearn.metrics import classification_report\n",
    "\n",
    "print(classification_report(label, X_reduce['label']))"
   ]
  },
  {
   "cell_type": "code",
   "execution_count": 20,
   "metadata": {},
   "outputs": [
    {
     "name": "stdout",
     "output_type": "stream",
     "text": [
      "(12591, 24)\n",
      "(12591, 24, 1, 1)\n",
      "cnn1d_test_predict.shape:  (12591, 24)\n"
     ]
    }
   ],
   "source": [
    "##############################################\n",
    "### CNN_AE predict - test data\n",
    "##############################################\n",
    "# test set load\n",
    "test_dataset = pd.read_csv('C:/Users/ARA/Desktop/금형/python/data/test_failure30_4.csv', header=0)\n",
    "test_dataset = test_dataset.T.reset_index(drop=True).T\n",
    "test_dataset.rename(columns={0:'id', 1:'cycle', 26:'label'}, inplace=True)\n",
    "\n",
    "# scaling\n",
    "test_dataset[uniq_col] = sc.transform(test_dataset[uniq_col])\n",
    "\n",
    "all_test_data = np.asarray(test_dataset[uniq_col])\n",
    "print(all_test_data.shape)\n",
    "all_test_data = np.reshape(all_test_data, (all_test_data.shape[0], all_data.shape[1], 1, 1))\n",
    "print(all_test_data.shape)\n",
    "\n",
    "cnn1d_test_predict = autoencoder.predict(all_test_data)\n",
    "\n",
    "# MSE 계산을 위한 flattening\n",
    "cnn1d_test_predict = cnn1d_test_predict.reshape(cnn1d_test_predict.shape[0], cnn1d_test_predict.shape[1]* cnn1d_test_predict.shape[2])\n",
    "print(\"cnn1d_test_predict.shape: \", cnn1d_test_predict.shape)"
   ]
  },
  {
   "cell_type": "code",
   "execution_count": 21,
   "metadata": {},
   "outputs": [
    {
     "name": "stdout",
     "output_type": "stream",
     "text": [
      "all_test_data.shape:  (12591, 24)\n"
     ]
    }
   ],
   "source": [
    "all_test_data = all_test_data.reshape(all_test_data.shape[0], all_test_data.shape[1]* all_test_data.shape[2])\n",
    "print(\"all_test_data.shape: \", all_test_data.shape)"
   ]
  },
  {
   "cell_type": "code",
   "execution_count": 22,
   "metadata": {},
   "outputs": [
    {
     "name": "stdout",
     "output_type": "stream",
     "text": [
      "mse_test.shape:  (12591,)\n",
      "최소값:  0.14551294102954207 중간값:  0.655600989782618 최대값:  2.3741159594721606\n"
     ]
    }
   ],
   "source": [
    "### calculate MSE\n",
    "mse_test = mean_squared_error(all_test_data.T, cnn1d_test_predict.T, multioutput='raw_values')\n",
    "print(\"mse_test.shape: \", mse_test.shape)\n",
    "\n",
    "print(\"최소값: \", np.min(mse_test), \"중간값: \",np.mean(mse_test), \"최대값: \", np.max(mse_test))"
   ]
  },
  {
   "cell_type": "code",
   "execution_count": 39,
   "metadata": {},
   "outputs": [
    {
     "name": "stdout",
     "output_type": "stream",
     "text": [
      "예측 정상 데이터 수:  10980\n",
      "예측 고장 데이터 수:  1611\n",
      "\n",
      "전체 데이터 수:  12591\n",
      "실제 고장 데이터 수:  1500\n"
     ]
    }
   ],
   "source": [
    "### labeling\n",
    "# mse < border\n",
    "border = 2.22\n",
    "label= [0 if  mse_test[x] < border else 1 for x in range(0,len(mse_test)) ]    # 정상 0, 이상 2\n",
    "X_reduce_test = pd.DataFrame()\n",
    "X_reduce_test['label'] = label\n",
    "idx_0 = X_reduce_test[X_reduce_test.label == 0].index\n",
    "idx_2 = X_reduce_test[X_reduce_test.label == 1].index\n",
    "print(\"예측 정상 데이터 수: \",len(idx_0))\n",
    "print(\"예측 고장 데이터 수: \",len(idx_2))\n",
    "\n",
    "test_label = np.asarray(test_dataset['label'])\n",
    "label = test_label.reshape((len(test_label),1))\n",
    "print(\"\\n전체 데이터 수: \",label.shape[0])\n",
    "print(\"실제 고장 데이터 수: \", len(label[label==1]))"
   ]
  },
  {
   "cell_type": "code",
   "execution_count": 40,
   "metadata": {},
   "outputs": [
    {
     "data": {
      "text/plain": [
       "<matplotlib.axes._subplots.AxesSubplot at 0x2d7bbe5ec18>"
      ]
     },
     "execution_count": 40,
     "metadata": {},
     "output_type": "execute_result"
    },
    {
     "data": {
      "image/png": "[encoded data removed]",
      "text/plain": [
       "<Figure size 720x504 with 2 Axes>"
      ]
     },
     "metadata": {
      "needs_background": "light"
     },
     "output_type": "display_data"
    }
   ],
   "source": [
    "### plot confusion matrix\n",
    "from sklearn.metrics import confusion_matrix\n",
    "import matplotlib.pyplot as plt\n",
    "import seaborn as sn\n",
    "%matplotlib inline\n",
    "\n",
    "df_cm = pd.DataFrame(confusion_matrix(test_label, X_reduce_test['label']))\n",
    "plt.figure(figsize=(10,7))\n",
    "sn.heatmap(df_cm, annot=True, fmt='d')"
   ]
  },
  {
   "cell_type": "code",
   "execution_count": 41,
   "metadata": {},
   "outputs": [
    {
     "data": {
      "text/plain": [
       "0.7621316813597013"
      ]
     },
     "execution_count": 41,
     "metadata": {},
     "output_type": "execute_result"
    }
   ],
   "source": [
    "(df_cm.iloc[0,0]+df_cm.iloc[1,1])/(np.sum(df_cm)[0]+np.sum(df_cm)[1])"
   ]
  },
  {
   "cell_type": "code",
   "execution_count": 42,
   "metadata": {},
   "outputs": [
    {
     "name": "stdout",
     "output_type": "stream",
     "text": [
      "              precision    recall  f1-score   support\n",
      "\n",
      "         0.0       0.87      0.86      0.86     11091\n",
      "         1.0       0.04      0.04      0.04      1500\n",
      "\n",
      "   micro avg       0.76      0.76      0.76     12591\n",
      "   macro avg       0.45      0.45      0.45     12591\n",
      "weighted avg       0.77      0.76      0.77     12591\n",
      "\n"
     ]
    }
   ],
   "source": [
    "print(classification_report(test_label, X_reduce_test['label']))"
   ]
  },
  {
   "cell_type": "code",
   "execution_count": null,
   "metadata": {},
   "outputs": [],
   "source": []
  }
 ],
 "metadata": {
  "kernelspec": {
   "display_name": "Python 3",
   "language": "python",
   "name": "python3"
  },
  "language_info": {
   "codemirror_mode": {
    "name": "ipython",
    "version": 3
   },
   "file_extension": ".py",
   "mimetype": "text/x-python",
   "name": "python",
   "nbconvert_exporter": "python",
   "pygments_lexer": "ipython3",
   "version": "3.6.8"
  }
 },
 "nbformat": 4,
 "nbformat_minor": 2
}
