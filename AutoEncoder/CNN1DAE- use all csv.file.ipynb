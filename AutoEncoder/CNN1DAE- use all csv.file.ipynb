{
 "cells": [
  {
   "cell_type": "code",
   "execution_count": 1,
   "metadata": {},
   "outputs": [
    {
     "name": "stderr",
     "output_type": "stream",
     "text": [
      "Using TensorFlow backend.\n"
     ]
    }
   ],
   "source": [
    "import pandas as pd\n",
    "import numpy as np\n",
    "\n",
    "from sklearn.preprocessing import StandardScaler\n",
    "from keras.layers import Input, Conv2D, Conv2DTranspose\n",
    "from keras.models import Model\n",
    "from keras import optimizers\n",
    "from keras.callbacks import EarlyStopping\n",
    "from sklearn.metrics import mean_squared_error"
   ]
  },
  {
   "cell_type": "code",
   "execution_count": 2,
   "metadata": {},
   "outputs": [
    {
     "data": {
      "text/html": [
       "<div>\n",
       "<style scoped>\n",
       "    .dataframe tbody tr th:only-of-type {\n",
       "        vertical-align: middle;\n",
       "    }\n",
       "\n",
       "    .dataframe tbody tr th {\n",
       "        vertical-align: top;\n",
       "    }\n",
       "\n",
       "    .dataframe thead th {\n",
       "        text-align: right;\n",
       "    }\n",
       "</style>\n",
       "<table border=\"1\" class=\"dataframe\">\n",
       "  <thead>\n",
       "    <tr style=\"text-align: right;\">\n",
       "      <th></th>\n",
       "      <th>0</th>\n",
       "      <th>1</th>\n",
       "      <th>2</th>\n",
       "      <th>3</th>\n",
       "      <th>4</th>\n",
       "      <th>5</th>\n",
       "      <th>6</th>\n",
       "      <th>7</th>\n",
       "      <th>8</th>\n",
       "      <th>9</th>\n",
       "      <th>...</th>\n",
       "      <th>17</th>\n",
       "      <th>18</th>\n",
       "      <th>19</th>\n",
       "      <th>20</th>\n",
       "      <th>21</th>\n",
       "      <th>22</th>\n",
       "      <th>23</th>\n",
       "      <th>24</th>\n",
       "      <th>25</th>\n",
       "      <th>label</th>\n",
       "    </tr>\n",
       "  </thead>\n",
       "  <tbody>\n",
       "    <tr>\n",
       "      <th>0</th>\n",
       "      <td>2</td>\n",
       "      <td>1</td>\n",
       "      <td>-0.0018</td>\n",
       "      <td>0.0006</td>\n",
       "      <td>100.0</td>\n",
       "      <td>518.67</td>\n",
       "      <td>641.89</td>\n",
       "      <td>1583.84</td>\n",
       "      <td>1391.28</td>\n",
       "      <td>14.62</td>\n",
       "      <td>...</td>\n",
       "      <td>2388.06</td>\n",
       "      <td>8137.72</td>\n",
       "      <td>8.3905</td>\n",
       "      <td>0.03</td>\n",
       "      <td>391</td>\n",
       "      <td>2388</td>\n",
       "      <td>100.0</td>\n",
       "      <td>38.94</td>\n",
       "      <td>23.4585</td>\n",
       "      <td>0</td>\n",
       "    </tr>\n",
       "    <tr>\n",
       "      <th>1</th>\n",
       "      <td>2</td>\n",
       "      <td>2</td>\n",
       "      <td>0.0043</td>\n",
       "      <td>-0.0003</td>\n",
       "      <td>100.0</td>\n",
       "      <td>518.67</td>\n",
       "      <td>641.82</td>\n",
       "      <td>1587.05</td>\n",
       "      <td>1393.13</td>\n",
       "      <td>14.62</td>\n",
       "      <td>...</td>\n",
       "      <td>2387.98</td>\n",
       "      <td>8131.09</td>\n",
       "      <td>8.4167</td>\n",
       "      <td>0.03</td>\n",
       "      <td>392</td>\n",
       "      <td>2388</td>\n",
       "      <td>100.0</td>\n",
       "      <td>39.06</td>\n",
       "      <td>23.4085</td>\n",
       "      <td>0</td>\n",
       "    </tr>\n",
       "    <tr>\n",
       "      <th>2</th>\n",
       "      <td>2</td>\n",
       "      <td>3</td>\n",
       "      <td>0.0018</td>\n",
       "      <td>0.0003</td>\n",
       "      <td>100.0</td>\n",
       "      <td>518.67</td>\n",
       "      <td>641.55</td>\n",
       "      <td>1588.32</td>\n",
       "      <td>1398.96</td>\n",
       "      <td>14.62</td>\n",
       "      <td>...</td>\n",
       "      <td>2387.99</td>\n",
       "      <td>8140.58</td>\n",
       "      <td>8.3802</td>\n",
       "      <td>0.03</td>\n",
       "      <td>391</td>\n",
       "      <td>2388</td>\n",
       "      <td>100.0</td>\n",
       "      <td>39.11</td>\n",
       "      <td>23.4250</td>\n",
       "      <td>0</td>\n",
       "    </tr>\n",
       "    <tr>\n",
       "      <th>3</th>\n",
       "      <td>2</td>\n",
       "      <td>4</td>\n",
       "      <td>0.0035</td>\n",
       "      <td>-0.0004</td>\n",
       "      <td>100.0</td>\n",
       "      <td>518.67</td>\n",
       "      <td>641.68</td>\n",
       "      <td>1584.15</td>\n",
       "      <td>1396.08</td>\n",
       "      <td>14.62</td>\n",
       "      <td>...</td>\n",
       "      <td>2387.93</td>\n",
       "      <td>8140.44</td>\n",
       "      <td>8.4018</td>\n",
       "      <td>0.03</td>\n",
       "      <td>391</td>\n",
       "      <td>2388</td>\n",
       "      <td>100.0</td>\n",
       "      <td>39.13</td>\n",
       "      <td>23.5027</td>\n",
       "      <td>0</td>\n",
       "    </tr>\n",
       "    <tr>\n",
       "      <th>4</th>\n",
       "      <td>2</td>\n",
       "      <td>5</td>\n",
       "      <td>0.0005</td>\n",
       "      <td>0.0004</td>\n",
       "      <td>100.0</td>\n",
       "      <td>518.67</td>\n",
       "      <td>641.73</td>\n",
       "      <td>1579.03</td>\n",
       "      <td>1402.52</td>\n",
       "      <td>14.62</td>\n",
       "      <td>...</td>\n",
       "      <td>2387.94</td>\n",
       "      <td>8136.67</td>\n",
       "      <td>8.3867</td>\n",
       "      <td>0.03</td>\n",
       "      <td>390</td>\n",
       "      <td>2388</td>\n",
       "      <td>100.0</td>\n",
       "      <td>39.18</td>\n",
       "      <td>23.4234</td>\n",
       "      <td>0</td>\n",
       "    </tr>\n",
       "  </tbody>\n",
       "</table>\n",
       "<p>5 rows × 27 columns</p>\n",
       "</div>"
      ],
      "text/plain": [
       "   0  1       2       3      4       5       6        7        8      9  ...  \\\n",
       "0  2  1 -0.0018  0.0006  100.0  518.67  641.89  1583.84  1391.28  14.62  ...   \n",
       "1  2  2  0.0043 -0.0003  100.0  518.67  641.82  1587.05  1393.13  14.62  ...   \n",
       "2  2  3  0.0018  0.0003  100.0  518.67  641.55  1588.32  1398.96  14.62  ...   \n",
       "3  2  4  0.0035 -0.0004  100.0  518.67  641.68  1584.15  1396.08  14.62  ...   \n",
       "4  2  5  0.0005  0.0004  100.0  518.67  641.73  1579.03  1402.52  14.62  ...   \n",
       "\n",
       "        17       18      19    20   21    22     23     24       25  label  \n",
       "0  2388.06  8137.72  8.3905  0.03  391  2388  100.0  38.94  23.4585      0  \n",
       "1  2387.98  8131.09  8.4167  0.03  392  2388  100.0  39.06  23.4085      0  \n",
       "2  2387.99  8140.58  8.3802  0.03  391  2388  100.0  39.11  23.4250      0  \n",
       "3  2387.93  8140.44  8.4018  0.03  391  2388  100.0  39.13  23.5027      0  \n",
       "4  2387.94  8136.67  8.3867  0.03  390  2388  100.0  39.18  23.4234      0  \n",
       "\n",
       "[5 rows x 27 columns]"
      ]
     },
     "execution_count": 2,
     "metadata": {},
     "output_type": "execute_result"
    }
   ],
   "source": [
    "####################################\n",
    "# train 데이터 load\n",
    "####################################\n",
    "# train set load\n",
    "train_dataset = pd.read_csv('C:/Users/ARA/Desktop/금형/python/data/train_failure30_all_pad50.csv', header=0)\n",
    "train_dataset.head()"
   ]
  },
  {
   "cell_type": "code",
   "execution_count": 3,
   "metadata": {},
   "outputs": [
    {
     "data": {
      "text/plain": [
       "24"
      ]
     },
     "execution_count": 3,
     "metadata": {},
     "output_type": "execute_result"
    }
   ],
   "source": [
    "# unique columns 추출\n",
    "uniq_col = []\n",
    "for i in range(train_dataset.shape[1]):\n",
    "    if len(np.unique(train_dataset.iloc[:,i], axis=0)) != 1: uniq_col.append(i)\n",
    "uniq_col.remove(0)    # id 제거\n",
    "uniq_col.remove(1)    # cycle 제거\n",
    "uniq_col.remove(26)    # label 제거\n",
    "len(uniq_col)"
   ]
  },
  {
   "cell_type": "code",
   "execution_count": 4,
   "metadata": {},
   "outputs": [],
   "source": [
    "train_dataset = train_dataset.T.reset_index(drop=True).T\n",
    "train_dataset.rename(columns={0:'id', 1:'cycle', 26:'label'}, inplace=True)"
   ]
  },
  {
   "cell_type": "code",
   "execution_count": 8,
   "metadata": {},
   "outputs": [
    {
     "name": "stdout",
     "output_type": "stream",
     "text": [
      "정상 데이터 shape:  (82074, 27)\n",
      "훈련에 사용할 데이터 shape:  (82074, 24, 1, 1)\n"
     ]
    }
   ],
   "source": [
    "# 정상 데이터만 학습\n",
    "train_seq_T = train_dataset[train_dataset['label']==0]\n",
    "#train_seq_T = train_seq_T[train_seq_T['cycle'] >= 10]    # 초반 10개 값 제외  #하면 초반까지 이상으로 잡아버림. 따라서 하면 안됨\n",
    "print(\"정상 데이터 shape: \", train_seq_T.shape)\n",
    "\n",
    "# scaling\n",
    "sc = StandardScaler()\n",
    "\n",
    "X_train = np.asarray(train_seq_T[uniq_col])\n",
    "X_train = sc.fit_transform(X_train)\n",
    "X_train = np.reshape(X_train, (X_train.shape[0], X_train.shape[1], 1, 1))\n",
    "\n",
    "print(\"훈련에 사용할 데이터 shape: \", X_train.shape)"
   ]
  },
  {
   "cell_type": "code",
   "execution_count": 6,
   "metadata": {},
   "outputs": [
    {
     "name": "stdout",
     "output_type": "stream",
     "text": [
      "_________________________________________________________________\n",
      "Layer (type)                 Output Shape              Param #   \n",
      "=================================================================\n",
      "input_1 (InputLayer)         (None, 24, 1, 1)          0         \n",
      "_________________________________________________________________\n",
      "conv2d_1 (Conv2D)            (None, 22, 1, 2)          8         \n",
      "_________________________________________________________________\n",
      "conv2d_2 (Conv2D)            (None, 20, 1, 2)          14        \n",
      "_________________________________________________________________\n",
      "conv2d_3 (Conv2D)            (None, 18, 1, 2)          14        \n",
      "_________________________________________________________________\n",
      "conv2d_4 (Conv2D)            (None, 16, 1, 4)          28        \n",
      "_________________________________________________________________\n",
      "conv2d_5 (Conv2D)            (None, 14, 1, 4)          52        \n",
      "_________________________________________________________________\n",
      "conv2d_6 (Conv2D)            (None, 12, 1, 4)          52        \n",
      "_________________________________________________________________\n",
      "conv2d_7 (Conv2D)            (None, 10, 1, 8)          104       \n",
      "_________________________________________________________________\n",
      "conv2d_8 (Conv2D)            (None, 8, 1, 8)           200       \n",
      "_________________________________________________________________\n",
      "conv2d_9 (Conv2D)            (None, 6, 1, 8)           200       \n",
      "_________________________________________________________________\n",
      "conv2d_10 (Conv2D)           (None, 4, 1, 2)           50        \n",
      "_________________________________________________________________\n",
      "conv2d_transpose_1 (Conv2DTr (None, 6, 1, 8)           56        \n",
      "_________________________________________________________________\n",
      "conv2d_transpose_2 (Conv2DTr (None, 8, 1, 8)           200       \n",
      "_________________________________________________________________\n",
      "conv2d_transpose_3 (Conv2DTr (None, 10, 1, 8)          200       \n",
      "_________________________________________________________________\n",
      "conv2d_transpose_4 (Conv2DTr (None, 12, 1, 4)          100       \n",
      "_________________________________________________________________\n",
      "conv2d_transpose_5 (Conv2DTr (None, 14, 1, 4)          52        \n",
      "_________________________________________________________________\n",
      "conv2d_transpose_6 (Conv2DTr (None, 16, 1, 4)          52        \n",
      "_________________________________________________________________\n",
      "conv2d_transpose_7 (Conv2DTr (None, 18, 1, 2)          26        \n",
      "_________________________________________________________________\n",
      "conv2d_transpose_8 (Conv2DTr (None, 20, 1, 2)          14        \n",
      "_________________________________________________________________\n",
      "conv2d_transpose_9 (Conv2DTr (None, 22, 1, 2)          14        \n",
      "_________________________________________________________________\n",
      "conv2d_transpose_10 (Conv2DT (None, 24, 1, 1)          7         \n",
      "=================================================================\n",
      "Total params: 1,443\n",
      "Trainable params: 1,443\n",
      "Non-trainable params: 0\n",
      "_________________________________________________________________\n"
     ]
    }
   ],
   "source": [
    "#######################################\n",
    "# CNN1D AutoEncoder 구축\n",
    "#######################################\n",
    "\n",
    "input_data = Input(shape=X_train.shape[1:]) # 1ch=black&white\n",
    "\n",
    "#@@ C-AE 구현http://localhost:8888/notebooks/Desktop/%EA%B8%88%ED%98%95/python/AutoEncoder/CNN1DAE.ipynb#\n",
    "filter1 = 2\n",
    "filter2 = 4\n",
    "filter3 = 8\n",
    "\n",
    "x = Conv2D(filter1, kernel_size= (3,1), activation='relu')(input_data)\n",
    "x = Conv2D(filter1, kernel_size= (3,1), activation='relu')(x)\n",
    "x = Conv2D(filter1, kernel_size= (3,1), activation='relu')(x)\n",
    "x = Conv2D(filter2, kernel_size= (3,1), activation='relu')(x)\n",
    "x = Conv2D(filter2, kernel_size= (3,1), activation='relu')(x)\n",
    "x = Conv2D(filter2, kernel_size= (3,1), activation='relu')(x)\n",
    "x = Conv2D(filter3, kernel_size= (3,1), activation='relu')(x)\n",
    "x = Conv2D(filter3, kernel_size= (3,1), activation='relu')(x)\n",
    "x = Conv2D(filter3, kernel_size= (3,1), activation='relu')(x)\n",
    "encoded = Conv2D(2, kernel_size= (3,1), activation='sigmoid')(x)\n",
    "\n",
    "x = Conv2DTranspose(filter3, kernel_size= (3,1), activation='relu')(encoded)\n",
    "x = Conv2DTranspose(filter3, kernel_size= (3,1), activation='relu')(x)\n",
    "x = Conv2DTranspose(filter3, kernel_size= (3,1), activation='relu')(x)\n",
    "x = Conv2DTranspose(filter2, kernel_size= (3,1), activation='relu')(x)\n",
    "x = Conv2DTranspose(filter2, kernel_size= (3,1), activation='relu')(x)\n",
    "x = Conv2DTranspose(filter2, kernel_size= (3,1), activation='relu')(x)\n",
    "x = Conv2DTranspose(filter1, kernel_size= (3,1), activation='relu')(x)\n",
    "x = Conv2DTranspose(filter1, kernel_size= (3,1), activation='relu')(x)\n",
    "x = Conv2DTranspose(filter1, kernel_size= (3,1), activation='relu')(x)\n",
    "decoded = Conv2DTranspose(X_train.shape[-1], kernel_size=(3,1), activation='sigmoid')(x)\n",
    "\n",
    "adam = optimizers.Adam(lr=0.01)\n",
    "autoencoder = Model(input_data, decoded)\n",
    "autoencoder.compile(optimizer=adam, loss='mse')\n",
    "\n",
    "autoencoder.summary()"
   ]
  },
  {
   "cell_type": "code",
   "execution_count": 7,
   "metadata": {
    "scrolled": true
   },
   "outputs": [
    {
     "name": "stdout",
     "output_type": "stream",
     "text": [
      "Train on 77970 samples, validate on 4104 samples\n",
      "Epoch 1/100\n",
      "77970/77970 [==============================] - 6s 81us/step - loss: 1.0210 - val_loss: 1.0305\n",
      "Epoch 2/100\n",
      "77970/77970 [==============================] - 5s 64us/step - loss: 0.7959 - val_loss: 0.8981\n",
      "Epoch 3/100\n",
      "77970/77970 [==============================] - 5s 64us/step - loss: 0.6915 - val_loss: 0.8884\n",
      "Epoch 4/100\n",
      "77970/77970 [==============================] - 5s 64us/step - loss: 0.6770 - val_loss: 0.8864\n",
      "Epoch 5/100\n",
      "77970/77970 [==============================] - 5s 65us/step - loss: 0.6698 - val_loss: 0.8868\n",
      "Epoch 6/100\n",
      "77970/77970 [==============================] - 5s 64us/step - loss: 0.6966 - val_loss: 1.1346\n",
      "Epoch 7/100\n",
      "77970/77970 [==============================] - 5s 66us/step - loss: 1.0933 - val_loss: 1.0515\n"
     ]
    },
    {
     "data": {
      "text/plain": [
       "<keras.callbacks.History at 0x22e72f0ecf8>"
      ]
     },
     "execution_count": 7,
     "metadata": {},
     "output_type": "execute_result"
    }
   ],
   "source": [
    "early_stopping = EarlyStopping(patience=3, mode='min')\n",
    "autoencoder.fit(X_train, X_train, epochs= 100, batch_size=1024, shuffle=True, verbose=1, validation_split=0.05, callbacks=[early_stopping]) "
   ]
  },
  {
   "cell_type": "code",
   "execution_count": 18,
   "metadata": {},
   "outputs": [
    {
     "name": "stdout",
     "output_type": "stream",
     "text": [
      "(45360, 24)\n",
      "(45360, 24, 1, 1)\n"
     ]
    }
   ],
   "source": [
    "##############################################\n",
    "### CNN_AE predict - train data로 다시\n",
    "##############################################\n",
    "# 이상 데이터만 테스트\n",
    "test_negative = train_dataset[train_dataset['label']!=0]\n",
    "all_data = np.array(test_negative[uniq_col])\n",
    "\"\"\"\n",
    "# all_data: 정상 + 이상인 전체 테스트 데이터 셋\n",
    "all_data = np.asarray(train_dataset[uniq_col])\n",
    "\"\"\"\n",
    "# scaling\n",
    "all_data = sc.transform(all_data)\n",
    "print(all_data.shape)\n",
    "all_data_re = np.reshape(all_data, (all_data.shape[0], all_data.shape[1], 1, 1))\n",
    "print(all_data_re.shape)"
   ]
  },
  {
   "cell_type": "code",
   "execution_count": 19,
   "metadata": {},
   "outputs": [],
   "source": [
    "cnn1d_predict = autoencoder.predict(all_data_re)\n",
    "\n",
    "# MSE 계산을 위한 flattening\n",
    "cnn1d_predict = cnn1d_predict.reshape(cnn1d_predict.shape[0], cnn1d_predict.shape[1]* cnn1d_predict.shape[2])\n",
    "#all_data = all_data.reshape(all_data.shape[0], all_data.shape[1]* all_data.shape[2])"
   ]
  },
  {
   "cell_type": "code",
   "execution_count": 20,
   "metadata": {},
   "outputs": [
    {
     "name": "stdout",
     "output_type": "stream",
     "text": [
      "mse.shape:  (45360,)\n",
      "최소값:  0.1140787879848895 \n",
      "중간값:  1.0113532571176922 \n",
      "최대값:  3.3325355864956347\n"
     ]
    }
   ],
   "source": [
    "### calculate MSE\n",
    "mse = mean_squared_error(all_data.T, cnn1d_predict.T, multioutput='raw_values')\n",
    "print(\"mse.shape: \", mse.shape)\n",
    "\n",
    "print(\"최소값: \", np.min(mse), \"\\n중간값: \",np.mean(mse), \"\\n최대값: \", np.max(mse))"
   ]
  },
  {
   "cell_type": "code",
   "execution_count": 23,
   "metadata": {},
   "outputs": [
    {
     "name": "stdout",
     "output_type": "stream",
     "text": [
      "예측 정상 데이터 수:  40506\n",
      "예측 고장 데이터 수:  4854\n",
      "전체 데이터 수:  (45360, 1)\n",
      "실제 고장 데이터 수:  17010\n"
     ]
    }
   ],
   "source": [
    "### labeling\n",
    "# mse < border\n",
    "border = 1.5\n",
    "\n",
    "label= [0 if  mse[x] < border else 2 for x in range(0,len(mse)) ]    # 정상 0, 이상 2\n",
    "X_reduce = pd.DataFrame()\n",
    "X_reduce['label'] = label\n",
    "idx_0 = X_reduce[X_reduce.label == 0].index\n",
    "idx_2 = X_reduce[X_reduce.label == 2].index\n",
    "print(\"예측 정상 데이터 수: \",len(idx_0))\n",
    "print(\"예측 고장 데이터 수: \",len(idx_2))\n",
    "\n",
    "#real_label = np.asarray(train_dataset['label'])\n",
    "real_label= np.asarray(test_negative['label'])\n",
    "real_label = real_label.reshape((len(real_label),1))\n",
    "print(\"전체 데이터 수: \",real_label.shape)\n",
    "print(\"실제 고장 데이터 수: \", len(real_label[real_label==2]))"
   ]
  },
  {
   "cell_type": "code",
   "execution_count": 24,
   "metadata": {},
   "outputs": [
    {
     "data": {
      "text/plain": [
       "<matplotlib.axes._subplots.AxesSubplot at 0x22e03ae5710>"
      ]
     },
     "execution_count": 24,
     "metadata": {},
     "output_type": "execute_result"
    },
    {
     "data": {
      "image/png": "[encoded data removed]",
      "text/plain": [
       "<Figure size 720x504 with 2 Axes>"
      ]
     },
     "metadata": {
      "needs_background": "light"
     },
     "output_type": "display_data"
    }
   ],
   "source": [
    "### plot confusion matrix\n",
    "from sklearn.metrics import confusion_matrix\n",
    "import matplotlib.pyplot as plt\n",
    "import seaborn as sn\n",
    "%matplotlib inline\n",
    "\n",
    "df_cm = pd.DataFrame(confusion_matrix(real_label, X_reduce['label']))\n",
    "plt.figure(figsize=(10,7))\n",
    "sn.heatmap(df_cm, annot=True, fmt='d')"
   ]
  },
  {
   "cell_type": "code",
   "execution_count": null,
   "metadata": {},
   "outputs": [],
   "source": [
    "a = [1,2,3,4,5]"
   ]
  },
  {
   "cell_type": "code",
   "execution_count": null,
   "metadata": {},
   "outputs": [],
   "source": [
    "idx_2"
   ]
  },
  {
   "cell_type": "code",
   "execution_count": null,
   "metadata": {},
   "outputs": [],
   "source": [
    "real_label[idx_2].T"
   ]
  },
  {
   "cell_type": "code",
   "execution_count": null,
   "metadata": {},
   "outputs": [],
   "source": [
    "train_dataset.iloc[16350:16360,:]"
   ]
  },
  {
   "cell_type": "code",
   "execution_count": null,
   "metadata": {},
   "outputs": [],
   "source": []
  }
 ],
 "metadata": {
  "kernelspec": {
   "display_name": "Python 3",
   "language": "python",
   "name": "python3"
  },
  "language_info": {
   "codemirror_mode": {
    "name": "ipython",
    "version": 3
   },
   "file_extension": ".py",
   "mimetype": "text/x-python",
   "name": "python",
   "nbconvert_exporter": "python",
   "pygments_lexer": "ipython3",
   "version": "3.6.8"
  }
 },
 "nbformat": 4,
 "nbformat_minor": 2
}
