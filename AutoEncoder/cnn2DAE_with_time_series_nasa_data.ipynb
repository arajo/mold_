{
 "cells": [
  {
   "cell_type": "code",
   "execution_count": 1,
   "metadata": {},
   "outputs": [
    {
     "name": "stderr",
     "output_type": "stream",
     "text": [
      "Using TensorFlow backend.\n"
     ]
    }
   ],
   "source": [
    "import numpy as np\n",
    "import pandas as pd\n",
    "from sklearn.model_selection import train_test_split\n",
    "from sklearn import preprocessing\n",
    "from keras.models import Model, Sequential\n",
    "from keras.layers import Input, Convolution2D, MaxPooling2D, UpSampling2D, Deconv2D, Conv2DTranspose\n",
    "from keras.layers import Dense, Conv2D, Flatten\n",
    "from matplotlib import pyplot as plt\n",
    "from sklearn.metrics import mean_squared_error\n",
    "%matplotlib inline"
   ]
  },
  {
   "cell_type": "code",
   "execution_count": 2,
   "metadata": {},
   "outputs": [],
   "source": [
    "###시계열 데이터 load\n",
    "train_seq = np.load('train_seq_60N_10out.npy')\n",
    "train_seq_label = np.load('train_seq_label_60N_10out.npy')\n",
    "#test_seq = np.load('test_seq.npy')\n",
    "#test_seq_label = np.load('test_seq_label.npy')\n",
    "\n",
    "np.sum(train_seq_label)\n",
    "\n",
    "# 정상 데이터만 학습\n",
    "i, = np.where(train_seq_label==0)\n",
    "train_seq_T = train_seq[i]\n",
    "\n",
    "\n",
    "#train_seq_T = train_seq_T[:,:,:16]\n",
    "\n",
    "X_train = np.expand_dims(train_seq_T, axis=3)\n",
    "X_train.shape"
   ]
  },
  {
   "cell_type": "code",
   "execution_count": 7,
   "metadata": {
    "scrolled": true
   },
   "outputs": [],
   "source": [
    "#######################################\n",
    "# CNN2D AutoEncoder 구축\n",
    "#######################################\n",
    "\n",
    "input_data = Input(shape=X_train.shape[1:]) # 1ch=black&white\n",
    "\n",
    "#@@ C-AE 구현\n",
    "filter1 = 8\n",
    "filter2 = 8\n",
    "filter3 = 4\n",
    "\n",
    "x = Conv2D(filter1, kernel_size= (5,5), activation='relu')(input_data)\n",
    "#x = MaxPooling2D((2,2))(x)\n",
    "x = Conv2D(filter2, kernel_size= (5,5), activation='relu')(x)\n",
    "x = Conv2D(filter3, kernel_size= (5,5), activation='relu')(x)\n",
    "encoded = Conv2D(2, kernel_size= (1,1), activation='sigmoid')(x)\n",
    "\n",
    "x = Conv2DTranspose(filter3, kernel_size= (5,5), activation='relu')(encoded)\n",
    "#x = UpSampling2D((2,2))(x)\n",
    "#x = Conv2DTranspose(filter2, kernel_size= (5,5), activation='relu')(x)\n",
    "x = Conv2DTranspose(filter1, kernel_size= (5,5), activation='relu')(x)\n",
    "decoded = Conv2DTranspose(X_train.shape[-1], kernel_size=(5,5), activation='sigmoid')(x)\n",
    "\n",
    "autoencoder = Model(input_data, decoded)\n",
    "autoencoder.compile(optimizer='adam', loss='mse')\n",
    "\n",
    "autoencoder.summary()\n"
   ]
  },
  {
   "cell_type": "code",
   "execution_count": 9,
   "metadata": {
    "scrolled": true
   },
   "outputs": [
    {
     "name": "stderr",
     "output_type": "stream",
     "text": [
      "C:\\Users\\ARA\\Anaconda3\\envs\\tensorflow\\lib\\site-packages\\ipykernel_launcher.py:1: UserWarning: The `nb_epoch` argument in `fit` has been renamed `epochs`.\n",
      "  \"\"\"Entry point for launching an IPython kernel.\n"
     ]
    },
    {
     "name": "stdout",
     "output_type": "stream",
     "text": [
      "Epoch 1/10\n",
      "3322/3322 [==============================] - 7s 2ms/step - loss: 1.0273\n",
      "Epoch 2/10\n",
      "3322/3322 [==============================] - 7s 2ms/step - loss: 0.8906\n",
      "Epoch 3/10\n",
      "3322/3322 [==============================] - 7s 2ms/step - loss: 0.7904\n",
      "Epoch 4/10\n",
      "3322/3322 [==============================] - 7s 2ms/step - loss: 0.7478\n",
      "Epoch 5/10\n",
      "3322/3322 [==============================] - 10s 3ms/step - loss: 0.7332\n",
      "Epoch 6/10\n",
      "3322/3322 [==============================] - 9s 3ms/step - loss: 0.7257\n",
      "Epoch 7/10\n",
      "3322/3322 [==============================] - 8s 3ms/step - loss: 0.7205\n",
      "Epoch 8/10\n",
      "3322/3322 [==============================] - 7s 2ms/step - loss: 0.7166\n",
      "Epoch 9/10\n",
      "3322/3322 [==============================] - 6s 2ms/step - loss: 0.7136\n",
      "Epoch 10/10\n",
      "3322/3322 [==============================] - 6s 2ms/step - loss: 0.7111\n"
     ]
    },
    {
     "data": {
      "text/plain": [
       "<keras.callbacks.History at 0x13c60561e10>"
      ]
     },
     "execution_count": 9,
     "metadata": {},
     "output_type": "execute_result"
    }
   ],
   "source": [
    "autoencoder.fit(X_train, X_train, nb_epoch= 10, batch_size=256, shuffle=True, verbose=1) "
   ]
  },
  {
   "cell_type": "code",
   "execution_count": 10,
   "metadata": {},
   "outputs": [
    {
     "name": "stdout",
     "output_type": "stream",
     "text": [
      "train_seq.shape:  (5722, 50, 17, 1)\n",
      "enco_train_pred.shape:  (5722, 38, 5, 2)\n"
     ]
    }
   ],
   "source": [
    "### 인코더에서 특성 추출\n",
    "encoder = Model(input_data, encoded)\n",
    "encoder.compile(optimizer='adam', loss='mse')\n",
    "# encoder.save('./result/encoder.h5')\n",
    "\n",
    "#train_seq = train_seq[:,:,:16]\n",
    "train_seq = np.reshape(train_seq, (train_seq.shape[0], train_seq.shape[1],train_seq.shape[2],1))\n",
    "print(\"train_seq.shape: \", train_seq.shape)\n",
    "enco_train_pred = encoder.predict(train_seq)\n",
    "print(\"enco_train_pred.shape: \", enco_train_pred.shape)"
   ]
  },
  {
   "cell_type": "code",
   "execution_count": 11,
   "metadata": {},
   "outputs": [],
   "source": [
    "enco_train_pred = enco_train_pred[:,0,0,:2]\n",
    "enco_train_re = np.reshape(enco_train_pred,(len(enco_train_pred),2))"
   ]
  },
  {
   "cell_type": "code",
   "execution_count": 12,
   "metadata": {},
   "outputs": [],
   "source": [
    "train_seq_label = np.reshape(train_seq_label, (train_seq_label.shape[0],1))"
   ]
  },
  {
   "cell_type": "code",
   "execution_count": 13,
   "metadata": {},
   "outputs": [],
   "source": [
    "X_reduce = pd.DataFrame()\n",
    "X_reduce['x'] = [enco_train_re[x][0] for x in range(0,len(enco_train_re))]\n",
    "X_reduce['y'] = [enco_train_re[x][1] for x in range(0,len(enco_train_re))]\n",
    "X_reduce['label'] = train_seq_label"
   ]
  },
  {
   "cell_type": "code",
   "execution_count": 14,
   "metadata": {
    "scrolled": true
   },
   "outputs": [
    {
     "data": {
      "image/png": "[encoded data removed]",
      "text/plain": [
       "<Figure size 432x288 with 1 Axes>"
      ]
     },
     "metadata": {
      "needs_background": "light"
     },
     "output_type": "display_data"
    }
   ],
   "source": [
    "b1 = plt.scatter(X_reduce['x'][X_reduce.label == 1], X_reduce['y'][X_reduce.label == 1], c= 'red', s= 20, alpha= 0.5)\n",
    "b1 = plt.scatter(X_reduce['x'][X_reduce.label == 0], X_reduce['y'][X_reduce.label == 0], c= 'yellow', s= 20, alpha= 0.05)\n",
    "\n",
    "plt.show()"
   ]
  },
  {
   "cell_type": "code",
   "execution_count": 15,
   "metadata": {},
   "outputs": [
    {
     "data": {
      "text/plain": [
       "(5722, 50, 17, 1)"
      ]
     },
     "execution_count": 15,
     "metadata": {},
     "output_type": "execute_result"
    }
   ],
   "source": [
    "cnn_predict = autoencoder.predict(train_seq)\n",
    "cnn_predict.shape"
   ]
  },
  {
   "cell_type": "code",
   "execution_count": 16,
   "metadata": {},
   "outputs": [
    {
     "name": "stdout",
     "output_type": "stream",
     "text": [
      "(5722, 850)\n"
     ]
    }
   ],
   "source": [
    "cnn_predict = cnn_predict.reshape(cnn_predict.shape[0],cnn_predict.shape[1]*cnn_predict.shape[2]*cnn_predict.shape[3])\n",
    "print(cnn_predict.shape)"
   ]
  },
  {
   "cell_type": "code",
   "execution_count": 17,
   "metadata": {},
   "outputs": [
    {
     "name": "stdout",
     "output_type": "stream",
     "text": [
      "(5722, 850)\n"
     ]
    }
   ],
   "source": [
    "train_seq2 = train_seq.reshape(train_seq.shape[0], train_seq.shape[1]* train_seq.shape[2]* train_seq.shape[3])\n",
    "print(train_seq2.shape)"
   ]
  },
  {
   "cell_type": "code",
   "execution_count": 18,
   "metadata": {
    "scrolled": true
   },
   "outputs": [
    {
     "data": {
      "text/plain": [
       "(5722,)"
      ]
     },
     "execution_count": 18,
     "metadata": {},
     "output_type": "execute_result"
    }
   ],
   "source": [
    "### calculate MSE\n",
    "mse = mean_squared_error(train_seq2.T, cnn_predict.T, multioutput='raw_values')\n",
    "mse.shape"
   ]
  },
  {
   "cell_type": "code",
   "execution_count": 19,
   "metadata": {},
   "outputs": [
    {
     "data": {
      "text/plain": [
       "(3.299199400998875, 0.2986341987558705, 0.7723522668932832)"
      ]
     },
     "execution_count": 19,
     "metadata": {},
     "output_type": "execute_result"
    }
   ],
   "source": [
    "np.max(mse), np.min(mse) , np.mean(mse)"
   ]
  },
  {
   "cell_type": "code",
   "execution_count": 35,
   "metadata": {},
   "outputs": [
    {
     "name": "stdout",
     "output_type": "stream",
     "text": [
      "3264\n",
      "2458\n"
     ]
    }
   ],
   "source": [
    "### labeling\n",
    "# mse < border\n",
    "border = 0.7\n",
    "label= [0 if  mse[x] < border else 1 for x in range(0,len(mse)) ]\n",
    "X_reduce['label'] = label\n",
    "idx_0 = X_reduce[X_reduce.label == 0].index\n",
    "idx_1 = X_reduce[X_reduce.label == 1].index\n",
    "print(len(idx_0))\n",
    "print(len(idx_1))"
   ]
  },
  {
   "cell_type": "code",
   "execution_count": 36,
   "metadata": {
    "scrolled": true
   },
   "outputs": [
    {
     "data": {
      "text/plain": [
       "Int64Index([  54,   55,   56,   57,   58,   59,   60,   61,   62,   63,\n",
       "            ...\n",
       "            5662, 5663, 5714, 5715, 5716, 5717, 5718, 5719, 5720, 5721],\n",
       "           dtype='int64', length=2458)"
      ]
     },
     "execution_count": 36,
     "metadata": {},
     "output_type": "execute_result"
    }
   ],
   "source": [
    "idx_1"
   ]
  },
  {
   "cell_type": "code",
   "execution_count": 37,
   "metadata": {},
   "outputs": [
    {
     "data": {
      "text/plain": [
       "2400"
      ]
     },
     "execution_count": 37,
     "metadata": {},
     "output_type": "execute_result"
    }
   ],
   "source": [
    "np.sum(train_seq_label)"
   ]
  },
  {
   "cell_type": "code",
   "execution_count": 38,
   "metadata": {},
   "outputs": [
    {
     "data": {
      "text/plain": [
       "<matplotlib.axes._subplots.AxesSubplot at 0x13c64d4bf28>"
      ]
     },
     "execution_count": 38,
     "metadata": {},
     "output_type": "execute_result"
    },
    {
     "data": {
      "image/png": "[encoded data removed]",
      "text/plain": [
       "<Figure size 720x504 with 2 Axes>"
      ]
     },
     "metadata": {
      "needs_background": "light"
     },
     "output_type": "display_data"
    }
   ],
   "source": [
    "### plot confusion matrix\n",
    "from sklearn.metrics import confusion_matrix\n",
    "import matplotlib.pyplot as plt\n",
    "import seaborn as sn\n",
    "%matplotlib inline\n",
    "\n",
    "df_cm = pd.DataFrame(confusion_matrix(train_seq_label, X_reduce['label']))\n",
    "plt.figure(figsize=(10,7))\n",
    "sn.heatmap(df_cm, annot=True, fmt='d')"
   ]
  },
  {
   "cell_type": "code",
   "execution_count": 24,
   "metadata": {
    "scrolled": true
   },
   "outputs": [
    {
     "data": {
      "text/plain": [
       "(array([  1,   2,   3,   4,   5,   6,   7,   8,   9,  10,  11,  12,  13,\n",
       "         14,  15,  16,  17,  18,  19,  20,  21,  22,  23,  24,  25,  26,\n",
       "         27,  28,  51,  52,  53,  54,  55,  56,  57,  58,  77,  78, 115,\n",
       "        116, 117, 118, 119, 120, 121, 122, 123, 124, 125, 126, 127, 128,\n",
       "        129, 130, 131, 132, 133, 134, 213, 214, 215, 216, 217, 218, 219,\n",
       "        220, 221, 222, 224, 225, 226, 227, 228, 229, 230, 231, 232, 233,\n",
       "        234, 235, 236, 237, 291, 292, 293, 294, 295, 296, 297, 298, 299,\n",
       "        300, 301, 302, 303, 304, 305, 306, 307, 308, 309, 310, 311, 318,\n",
       "        319, 320, 321, 327, 328, 329, 330, 331, 332, 333, 334, 335, 336,\n",
       "        337, 338, 339, 340, 341, 342, 343, 344, 375, 376, 377, 378, 379,\n",
       "        380, 381, 382, 383, 384, 385, 386, 387, 388, 389, 390, 391, 392,\n",
       "        393, 394], dtype=int64),\n",
       " array([0, 0, 0, 0, 0, 0, 0, 0, 0, 0, 0, 0, 0, 0, 0, 0, 0, 0, 0, 0, 0, 0,\n",
       "        0, 0, 0, 0, 0, 0, 0, 0, 0, 0, 0, 0, 0, 0, 0, 0, 0, 0, 0, 0, 0, 0,\n",
       "        0, 0, 0, 0, 0, 0, 0, 0, 0, 0, 0, 0, 0, 0, 0, 0, 0, 0, 0, 0, 0, 0,\n",
       "        0, 0, 0, 0, 0, 0, 0, 0, 0, 0, 0, 0, 0, 0, 0, 0, 0, 0, 0, 0, 0, 0,\n",
       "        0, 0, 0, 0, 0, 0, 0, 0, 0, 0, 0, 0, 0, 0, 0, 0, 0, 0, 0, 0, 0, 0,\n",
       "        0, 0, 0, 0, 0, 0, 0, 0, 0, 0, 0, 0, 0, 0, 0, 0, 0, 0, 0, 0, 0, 0,\n",
       "        0, 0, 0, 0, 0, 0, 0, 0, 0, 0, 0, 0, 0], dtype=int64))"
      ]
     },
     "execution_count": 24,
     "metadata": {},
     "output_type": "execute_result"
    }
   ],
   "source": [
    "np.where(train_seq_label[idx_1]==0)"
   ]
  },
  {
   "cell_type": "code",
   "execution_count": 25,
   "metadata": {},
   "outputs": [
    {
     "data": {
      "text/plain": [
       "array([[0],\n",
       "       [0],\n",
       "       [0],\n",
       "       [0],\n",
       "       [0],\n",
       "       [0],\n",
       "       [0],\n",
       "       [0],\n",
       "       [0],\n",
       "       [0]], dtype=int64)"
      ]
     },
     "execution_count": 25,
     "metadata": {},
     "output_type": "execute_result"
    }
   ],
   "source": [
    "train_seq_label[10:20]"
   ]
  },
  {
   "cell_type": "code",
   "execution_count": null,
   "metadata": {},
   "outputs": [],
   "source": []
  }
 ],
 "metadata": {
  "kernelspec": {
   "display_name": "Python 3",
   "language": "python",
   "name": "python3"
  },
  "language_info": {
   "codemirror_mode": {
    "name": "ipython",
    "version": 3
   },
   "file_extension": ".py",
   "mimetype": "text/x-python",
   "name": "python",
   "nbconvert_exporter": "python",
   "pygments_lexer": "ipython3",
   "version": "3.6.8"
  }
 },
 "nbformat": 4,
 "nbformat_minor": 2
}
