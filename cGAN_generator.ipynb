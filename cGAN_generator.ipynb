{
 "cells": [
  {
   "cell_type": "code",
   "execution_count": 7,
   "metadata": {},
   "outputs": [],
   "source": [
    "# GAN 모델을 이용해 단순히 랜덤한 숫자를 생성하는 아닌,\n",
    "# 원하는 손글씨 숫자를 생성하는 모델을 만들어봅니다.\n",
    "# 이런 방식으로 흑백 사진을 컬러로 만든다든가, 또는 선화를 채색한다든가 하는 응용이 가능합니다.\n",
    "import tensorflow as tf\n",
    "import matplotlib.pyplot as plt\n",
    "import numpy as np\n",
    "import pandas as pd\n",
    "import math\n",
    "from sklearn.preprocessing import OneHotEncoder"
   ]
  },
  {
   "cell_type": "code",
   "execution_count": 2,
   "metadata": {},
   "outputs": [],
   "source": [
    "#########\n",
    "# 옵션 설정\n",
    "######\n",
    "total_epoch = 13\n",
    "batch_size = 1000\n",
    "n_hidden = 15\n",
    "n_input = 26\n",
    "n_noise = 50\n",
    "n_class = 2"
   ]
  },
  {
   "cell_type": "code",
   "execution_count": 3,
   "metadata": {},
   "outputs": [],
   "source": [
    "# Original DataSet\n",
    "#-- (20631,26)\n",
    "\n",
    "ori_train = pd.read_csv('./data/train_FD0001_true5.csv',encoding= 'cp949')\n",
    "ori_test = pd.read_csv('./data/test_FD0001_true5.csv',encoding= 'cp949')\n",
    "data = pd.concat([ori_train,ori_test], axis = 0)\n",
    "data_X = data.iloc[:,:-1].values.tolist()\n",
    "data_y = data.iloc[:,-1]\n",
    "\n",
    "data_y = data_y.replace('N',0)\n",
    "data_y = data_y.replace('Y',1)\n",
    "y_len = len(data_y)\n",
    "data_y = tf.one_hot(data_y,depth = 2,dtype=tf.float32)\n",
    "\n",
    "\"\"\"\n",
    "https://hiseon.me/2018/04/15/tensorflow-dataset/\n",
    "\"\"\"\n",
    "dataset = tf.data.Dataset.from_tensor_slices((data_X, data_y))\n",
    "dataset = dataset.shuffle(1000).repeat().batch(batch_size)\n"
   ]
  },
  {
   "cell_type": "code",
   "execution_count": 4,
   "metadata": {},
   "outputs": [],
   "source": [
    "#########\n",
    "# 신경망 모델 구성\n",
    "######\n",
    "X = tf.placeholder(tf.float32, [None, n_input])\n",
    "# 노이즈와 실제 이미지에, 그에 해당하는 숫자에 대한 정보를 넣어주기 위해 사용합니다.\n",
    "Y = tf.placeholder(tf.float32, [None, n_class])\n",
    "Z = tf.placeholder(tf.float32, [None, n_noise])"
   ]
  },
  {
   "cell_type": "code",
   "execution_count": 5,
   "metadata": {},
   "outputs": [],
   "source": [
    "def generator(noise, labels):\n",
    "    with tf.variable_scope('generator'):\n",
    "        # noise 값에 labels 정보를 추가합니다.\n",
    "        inputs = tf.concat([noise, labels], 1)\n",
    "\n",
    "        # TensorFlow 에서 제공하는 유틸리티 함수를 이용해 신경망을 매우 간단하게 구성할 수 있습니다.\n",
    "        hidden = tf.layers.dense(inputs, n_hidden,\n",
    "                                 activation=tf.nn.relu)\n",
    "        output = tf.layers.dense(hidden, n_input,\n",
    "                                 activation=tf.nn.sigmoid)\n",
    "\n",
    "    return output\n",
    "\n",
    "\n",
    "def discriminator(inputs, labels, reuse=None):\n",
    "    with tf.variable_scope('discriminator') as scope:\n",
    "        # 노이즈에서 생성한 이미지와 실제 이미지를 판별하는 모델의 변수를 동일하게 하기 위해,\n",
    "        # 이전에 사용되었던 변수를 재사용하도록 합니다.\n",
    "        if reuse:\n",
    "            scope.reuse_variables()\n",
    "\n",
    "        inputs = tf.concat([inputs, labels], 1)\n",
    "\n",
    "        hidden = tf.layers.dense(inputs, n_hidden,\n",
    "                                 activation=tf.nn.relu)\n",
    "        output = tf.layers.dense(hidden, 1,\n",
    "                                 activation=None)\n",
    "\n",
    "    return output\n",
    "\n",
    "\n",
    "def get_noise(batch_size, n_noise):\n",
    "    return np.random.uniform(-1., 1., size=[batch_size, n_noise])\n",
    "\n",
    "# 생성 모델과 판별 모델에 Y 즉, labels 정보를 추가하여\n",
    "# labels 정보에 해당하는 이미지를 생성할 수 있도록 유도합니다.\n",
    "G = generator(Z, Y)\n",
    "D_real = discriminator(X, Y)\n",
    "D_gene = discriminator(G, Y, True)\n",
    "\n",
    "# 손실함수는 다음을 참고하여 GAN 논문에 나온 방식과는 약간 다르게 작성하였습니다.\n",
    "# http://bamos.github.io/2016/08/09/deep-completion/\n",
    "# 진짜 이미지를 판별하는 D_real 값은 1에 가깝도록,\n",
    "# 가짜 이미지를 판별하는 D_gene 값은 0에 가깝도록 하는 손실 함수입니다.\n",
    "loss_D_real = tf.reduce_mean(\n",
    "                    tf.nn.sigmoid_cross_entropy_with_logits(\n",
    "                        logits=D_real, labels=tf.ones_like(D_real)))\n",
    "loss_D_gene = tf.reduce_mean(\n",
    "                    tf.nn.sigmoid_cross_entropy_with_logits(\n",
    "                        logits=D_gene, labels=tf.zeros_like(D_gene)))\n",
    "# loss_D_real 과 loss_D_gene 을 더한 뒤 이 값을 최소화 하도록 최적화합니다.\n",
    "loss_D = loss_D_real + loss_D_gene\n",
    "# 가짜 이미지를 진짜에 가깝게 만들도록 생성망을 학습시키기 위해, D_gene 을 최대한 1에 가깝도록 만드는 손실함수입니다.\n",
    "loss_G = tf.reduce_mean(\n",
    "                    tf.nn.sigmoid_cross_entropy_with_logits(\n",
    "                        logits=D_gene, labels=tf.ones_like(D_gene)))\n",
    "\n",
    "# TensorFlow 에서 제공하는 유틸리티 함수를 이용해\n",
    "# discriminator 와 generator scope 에서 사용된 변수들을 쉽게 가져올 수 있습니다.\n",
    "vars_D = tf.get_collection(tf.GraphKeys.TRAINABLE_VARIABLES,\n",
    "                           scope='discriminator')\n",
    "vars_G = tf.get_collection(tf.GraphKeys.TRAINABLE_VARIABLES,\n",
    "                           scope='generator')\n",
    "\n",
    "train_D = tf.train.AdamOptimizer().minimize(loss_D,\n",
    "                                            var_list=vars_D)\n",
    "train_G = tf.train.AdamOptimizer().minimize(loss_G,\n",
    "                                            var_list=vars_G)"
   ]
  },
  {
   "cell_type": "code",
   "execution_count": 8,
   "metadata": {},
   "outputs": [
    {
     "name": "stdout",
     "output_type": "stream",
     "text": [
      "Epoch: 0000 D loss: 2.354e+03 G loss: 0.6321\n",
      "Epoch: 0001 D loss: 458.7 G loss: 0.483\n",
      "Epoch: 0002 D loss: 0.9892 G loss: 0.473\n",
      "Epoch: 0003 D loss: 0.8765 G loss: 0.5488\n",
      "Epoch: 0004 D loss: 0.7368 G loss: 0.6622\n",
      "Epoch: 0005 D loss: 0.6049 G loss: 0.7926\n",
      "Epoch: 0006 D loss: 0.5615 G loss: 0.8511\n",
      "Epoch: 0007 D loss: 0.481 G loss: 0.9694\n",
      "Epoch: 0008 D loss: 0.4279 G loss: 1.057\n",
      "Epoch: 0009 D loss: 0.3354 G loss: 1.268\n",
      "Epoch: 0010 D loss: 0.2921 G loss: 1.382\n",
      "Epoch: 0011 D loss: 0.2541 G loss: 1.503\n",
      "Epoch: 0012 D loss: 0.2429 G loss: 1.551\n",
      "최적화 완료!\n"
     ]
    }
   ],
   "source": [
    "#########\n",
    "# 신경망 모델 학습\n",
    "######\n",
    "generator_saver = tf.train.Saver()\n",
    "\n",
    "with tf.Session() as sess:\n",
    "    sess.run(tf.global_variables_initializer())\n",
    "    # 편향 초기화\n",
    "    loss_val_D, loss_val_G = 0, 0\n",
    "\n",
    "    for epoch in range(total_epoch):\n",
    "        \n",
    "        iterator = dataset.make_one_shot_iterator()\n",
    "        batch_xs, batch_ys = iterator.get_next()\n",
    "        \n",
    "        for _ in range(math.ceil(y_len/batch_size)):\n",
    "            xs, ys = sess.run([batch_xs, batch_ys])\n",
    "            noise = get_noise(len(ys), n_noise)\n",
    "            _, loss_val_D = sess.run([train_D, loss_D],\n",
    "                                     feed_dict={X: xs, Y: ys, Z: noise})\n",
    "            _, loss_val_G = sess.run([train_G, loss_G],\n",
    "                                     feed_dict={Y: ys, Z: noise})\n",
    "\n",
    "        print('Epoch:', '%04d' % epoch,\n",
    "              'D loss: {:.4}'.format(loss_val_D),\n",
    "              'G loss: {:.4}'.format(loss_val_G))\n",
    "\n",
    "    generator_saver.save(sess, './model/')\n",
    "print('최적화 완료!')"
   ]
  },
  {
   "cell_type": "code",
   "execution_count": 10,
   "metadata": {},
   "outputs": [
    {
     "name": "stdout",
     "output_type": "stream",
     "text": [
      "(100, 26)\n"
     ]
    }
   ],
   "source": [
    "samples = []\n",
    "with tf.Session() as sess:\n",
    "    sess.run(tf.global_variables_initializer())\n",
    "    for _ in range(100):\n",
    "        sample = sess.run([G],feed_dict={Y: [[0,1]], Z: get_noise(1, n_noise)})\n",
    "        sample = list(np.reshape(sample,(26)))\n",
    "        samples.append(sample)\n",
    "print(np.shape(samples))\n",
    "   "
   ]
  },
  {
   "cell_type": "code",
   "execution_count": null,
   "metadata": {},
   "outputs": [],
   "source": []
  }
 ],
 "metadata": {
  "kernelspec": {
   "display_name": "Python 3",
   "language": "python",
   "name": "python3"
  },
  "language_info": {
   "codemirror_mode": {
    "name": "ipython",
    "version": 3
   },
   "file_extension": ".py",
   "mimetype": "text/x-python",
   "name": "python",
   "nbconvert_exporter": "python",
   "pygments_lexer": "ipython3",
   "version": "3.6.8"
  }
 },
 "nbformat": 4,
 "nbformat_minor": 2
}
