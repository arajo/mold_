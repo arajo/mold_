{
 "cells": [
  {
   "cell_type": "code",
   "execution_count": 1,
   "metadata": {},
   "outputs": [
    {
     "name": "stderr",
     "output_type": "stream",
     "text": [
      "Using TensorFlow backend.\n"
     ]
    }
   ],
   "source": [
    "import pandas as pd\n",
    "import numpy as np\n",
    "from keras.layers import LSTM\n",
    "from keras.models import Sequential\n",
    "from keras.layers import Dense\n",
    "from sklearn import preprocessing\n",
    "from keras.preprocessing import sequence\n",
    "from keras.layers import TimeDistributed\n",
    "from keras.layers.convolutional import Conv1D"
   ]
  },
  {
   "cell_type": "code",
   "execution_count": 2,
   "metadata": {},
   "outputs": [],
   "source": [
    "def slicing_data(machine_list, X_view):\n",
    "    # 각 횟수에 해당하는 데이터 분할\n",
    "    X_train = []\n",
    "    for machine in machine_list:\n",
    "        X_train.append(X_view[X_view.iloc[:,0]==machine])\n",
    "    return X_train\n",
    "\n",
    "def get_leng(X):\n",
    "    # 각 횟수에 해당하는 데이터 길이\n",
    "    leng = []\n",
    "    for i in range(len(X)):\n",
    "        leng.append(len(X[i]))\n",
    "    print(leng)\n",
    "    return leng\n",
    "\n",
    "def get_analogy_data(X):\n",
    "    # 분석데이터 get\n",
    "    X_2 = []\n",
    "    for n in range(len(X)):\n",
    "        X_2.append(np.asarray(X[n].iloc[:,3:]))\n",
    "    return X_2\n",
    "\n",
    "def cut_time_series(X_2, leng, max_review_length, stride):\n",
    "    # 시계열 데이터 분할 간격\n",
    "    # stride, len길이 설정 가능\n",
    "    X_train2 = []\n",
    "    y_train2 = []\n",
    "    \n",
    "    for i, num in enumerate(leng):\n",
    "        h = int((num-max_review_length)/stride+1)\n",
    "        for j in range(h):\n",
    "            if j >= h * 0.75:\n",
    "                X_train2.append(X_2[i][stride*j:stride*j+max_review_length])\n",
    "                y_train2.append(np.ones(max_review_length))\n",
    "            else:    \n",
    "                X_train2.append(X_2[i][stride*j:stride*j+max_review_length])\n",
    "                y_train2.append(np.zeros(max_review_length))\n",
    "    print(\"비정상 갯수 : \", np.sum(y_train2))\n",
    "    return X_train2, y_train2\n",
    "\n",
    "def just_cut_time(X_2, leng, max_review_length):\n",
    "    # 시계열 데이터 분할 간격\n",
    "    # 그냥 분할\n",
    "    X_train2 = []\n",
    "    y_train2 = []\n",
    "    \n",
    "    for i, num in enumerate(leng):\n",
    "        h = int(np.floor(num/max_review_length))\n",
    "        for j in range(h):\n",
    "            if j >= h - 2:\n",
    "                X_train2.append(X_2[i][max_review_length*j:max_review_length*(j+1)])\n",
    "                y_train2.append(np.ones(max_review_length))\n",
    "            else:    \n",
    "                X_train2.append(X_2[i][max_review_length*j:max_review_length*(j+1)])\n",
    "                y_train2.append(np.zeros(max_review_length))\n",
    "    \n",
    "    print(\"비정상 갯수 : \", np.sum(y_train2))\n",
    "    return X_train2, y_train2\n",
    "\n",
    "def scaling(X_view):\n",
    "    ####################################\n",
    "    # scaling\n",
    "    ####################################\n",
    "    #scaled_X = pd.DataFrame(preprocessing.minmax_scale(X_view.iloc[:,3:]))\n",
    "    scaled_X = pd.DataFrame(preprocessing.StandardScaler().fit_transform(X_view.iloc[:,3:]))\n",
    "    scaled_X = pd.concat([X_view.iloc[:,:3], scaled_X], axis=1)\n",
    "    return scaled_X"
   ]
  },
  {
   "cell_type": "code",
   "execution_count": 3,
   "metadata": {},
   "outputs": [],
   "source": [
    "####################################\n",
    "# 기본 옵션\n",
    "####################################\n",
    "max_review_length = 16  # 시계열 데이터 분할 간격 \n",
    "stride = 2  "
   ]
  },
  {
   "cell_type": "code",
   "execution_count": 4,
   "metadata": {},
   "outputs": [
    {
     "data": {
      "text/plain": [
       "(20631, 20)"
      ]
     },
     "execution_count": 4,
     "metadata": {},
     "output_type": "execute_result"
    }
   ],
   "source": [
    "####################################\n",
    "# train 데이터 load\n",
    "####################################\n",
    "\n",
    "ori_train = pd.read_csv('./data/train_FD0001_true5.csv',encoding= 'cp949')\n",
    "#data = pd.concat([ori_train,ori_test], axis = 0)\n",
    "#data_X = data.iloc[:,:-1].values.tolist()\n",
    "one_col = []\n",
    "for i in range(2, ori_train.shape[1]-1):\n",
    "    if len(np.unique(ori_train.iloc[:,i], axis=0)) == 1: one_col.append(i)\n",
    "\n",
    "cols = list(range(2,ori_train.shape[1]-1))\n",
    "cols = [x for x in cols if x not in one_col]\n",
    "X_view = ori_train.iloc[:,cols]\n",
    "X_view = pd.concat([ori_train.iloc[:,[0,1,-1]], X_view],axis=1)\n",
    "X_view.shape"
   ]
  },
  {
   "cell_type": "code",
   "execution_count": 5,
   "metadata": {},
   "outputs": [
    {
     "name": "stderr",
     "output_type": "stream",
     "text": [
      "C:\\Users\\ARA\\Anaconda3\\envs\\tensorflow\\lib\\site-packages\\sklearn\\preprocessing\\data.py:625: DataConversionWarning: Data with input dtype int64, float64 were all converted to float64 by StandardScaler.\n",
      "  return self.partial_fit(X, y)\n",
      "C:\\Users\\ARA\\Anaconda3\\envs\\tensorflow\\lib\\site-packages\\sklearn\\base.py:462: DataConversionWarning: Data with input dtype int64, float64 were all converted to float64 by StandardScaler.\n",
      "  return self.fit(X, **fit_params).transform(X)\n"
     ]
    }
   ],
   "source": [
    "scaled_X = scaling(X_view)"
   ]
  },
  {
   "cell_type": "code",
   "execution_count": 6,
   "metadata": {},
   "outputs": [],
   "source": [
    "machine_list = np.unique(X_view['0']) # 장비 1~ 100번"
   ]
  },
  {
   "cell_type": "code",
   "execution_count": 7,
   "metadata": {},
   "outputs": [
    {
     "name": "stdout",
     "output_type": "stream",
     "text": [
      "[192, 287, 179, 189, 269, 188, 259, 150, 201, 222, 240, 170, 163, 180, 207, 209, 276, 195, 158, 234, 195, 202, 168, 147, 230, 199, 156, 165, 163, 194, 234, 191, 200, 195, 181, 158, 170, 194, 128, 188, 216, 196, 207, 192, 158, 256, 214, 231, 215, 198, 213, 213, 195, 257, 193, 275, 137, 147, 231, 172, 185, 180, 174, 283, 153, 202, 313, 199, 362, 137, 208, 213, 213, 166, 229, 210, 154, 231, 199, 185, 240, 214, 293, 267, 188, 278, 178, 213, 217, 154, 135, 341, 155, 258, 283, 336, 202, 156, 185, 200]\n"
     ]
    }
   ],
   "source": [
    "# 각 횟수에 해당하는 데이터 분할\n",
    "X_train = slicing_data(machine_list, scaled_X)\n",
    "\n",
    "# 각 횟수에 해당하는 데이터 길이\n",
    "leng = get_leng(X_train)"
   ]
  },
  {
   "cell_type": "code",
   "execution_count": 8,
   "metadata": {},
   "outputs": [],
   "source": [
    "X_2 = get_analogy_data(X_train)"
   ]
  },
  {
   "cell_type": "code",
   "execution_count": 9,
   "metadata": {},
   "outputs": [
    {
     "name": "stdout",
     "output_type": "stream",
     "text": [
      "비정상 갯수 :  37760.0\n"
     ]
    }
   ],
   "source": [
    "############### time distributed LSTM\n",
    "#X_train_i, y_train_i = just_cut_time(X_2, leng, max_review_length)\n",
    "X_train_i, y_train_i = cut_time_series(X_2, leng, max_review_length, stride)"
   ]
  },
  {
   "cell_type": "code",
   "execution_count": 10,
   "metadata": {},
   "outputs": [
    {
     "name": "stdout",
     "output_type": "stream",
     "text": [
      "(9590, 16, 17)\n",
      "(9590, 16, 1)\n"
     ]
    }
   ],
   "source": [
    "X_train_i_pad = sequence.pad_sequences(X_train_i, dtype='float64', padding='post', maxlen = max_review_length)\n",
    "print(X_train_i_pad.shape)\n",
    "\n",
    "y_train_i = np.asarray(y_train_i)\n",
    "y_train_i = y_train_i.reshape(y_train_i.shape[0],y_train_i.shape[1],1)\n",
    "print(y_train_i.shape)"
   ]
  },
  {
   "cell_type": "code",
   "execution_count": 11,
   "metadata": {
    "scrolled": true
   },
   "outputs": [
    {
     "name": "stdout",
     "output_type": "stream",
     "text": [
      "Epoch 1/3\n",
      "9590/9590 [==============================] - 4s 378us/step - loss: 0.2695 - acc: 0.9140\n",
      "Epoch 2/3\n",
      "9590/9590 [==============================] - 3s 283us/step - loss: 0.1706 - acc: 0.9336\n",
      "Epoch 3/3\n",
      "9590/9590 [==============================] - 3s 280us/step - loss: 0.1579 - acc: 0.9374\n"
     ]
    },
    {
     "data": {
      "text/plain": [
       "<keras.callbacks.History at 0x17ae5a364a8>"
      ]
     },
     "execution_count": 11,
     "metadata": {},
     "output_type": "execute_result"
    }
   ],
   "source": [
    "#############################\n",
    "# create the model\n",
    "#############################\n",
    "model = Sequential()\n",
    "model.add(Conv1D(filters= 8, kernel_size=3, padding='same', activation='relu'))\n",
    "model.add(LSTM(8, activation = 'tanh', return_sequences=True))\n",
    "model.add(TimeDistributed(Dense(1, activation='sigmoid')))\n",
    "model.compile(loss='binary_crossentropy', optimizer='adam', metrics=['accuracy'])\n",
    "model.fit(X_train_i_pad, y_train_i, epochs=3, batch_size=32)"
   ]
  },
  {
   "cell_type": "code",
   "execution_count": 12,
   "metadata": {},
   "outputs": [
    {
     "name": "stdout",
     "output_type": "stream",
     "text": [
      "_________________________________________________________________\n",
      "Layer (type)                 Output Shape              Param #   \n",
      "=================================================================\n",
      "conv1d_1 (Conv1D)            (None, 16, 8)             416       \n",
      "_________________________________________________________________\n",
      "lstm_1 (LSTM)                (None, 16, 8)             544       \n",
      "_________________________________________________________________\n",
      "time_distributed_1 (TimeDist (None, 16, 1)             9         \n",
      "=================================================================\n",
      "Total params: 969\n",
      "Trainable params: 969\n",
      "Non-trainable params: 0\n",
      "_________________________________________________________________\n"
     ]
    }
   ],
   "source": [
    "model.summary()"
   ]
  },
  {
   "cell_type": "code",
   "execution_count": 13,
   "metadata": {},
   "outputs": [
    {
     "data": {
      "text/plain": [
       "\"\\n#############################\\n# create the model\\n#############################\\nmodel = Sequential()\\nmodel.add(LSTM(16, activation = 'tanh', return_sequences=True))\\nmodel.add(LSTM(8, activation = 'tanh', return_sequences=True))\\nmodel.add(LSTM(4, activation = 'tanh', return_sequences=True))\\nmodel.add(TimeDistributed(Dense(1, activation='sigmoid')))\\nmodel.compile(loss='binary_crossentropy', optimizer='adam', metrics=['accuracy'])\\nmodel.fit(X_train_i_pad, y_train_i, epochs=10, batch_size=32) # standard lstm\\n\""
      ]
     },
     "execution_count": 13,
     "metadata": {},
     "output_type": "execute_result"
    }
   ],
   "source": [
    "\"\"\"\n",
    "#############################\n",
    "# create the model\n",
    "#############################\n",
    "model = Sequential()\n",
    "model.add(LSTM(16, activation = 'tanh', return_sequences=True))\n",
    "model.add(LSTM(8, activation = 'tanh', return_sequences=True))\n",
    "model.add(LSTM(4, activation = 'tanh', return_sequences=True))\n",
    "model.add(TimeDistributed(Dense(1, activation='sigmoid')))\n",
    "model.compile(loss='binary_crossentropy', optimizer='adam', metrics=['accuracy'])\n",
    "model.fit(X_train_i_pad, y_train_i, epochs=10, batch_size=32) # standard lstm\n",
    "\"\"\""
   ]
  },
  {
   "cell_type": "code",
   "execution_count": 14,
   "metadata": {},
   "outputs": [],
   "source": [
    "####################################\n",
    "# test 데이터 load\n",
    "####################################\n",
    "ori_test = pd.read_csv('./data/test_FD0001_true5.csv',encoding= 'cp949')"
   ]
  },
  {
   "cell_type": "code",
   "execution_count": 15,
   "metadata": {},
   "outputs": [
    {
     "name": "stderr",
     "output_type": "stream",
     "text": [
      "C:\\Users\\ARA\\Anaconda3\\envs\\tensorflow\\lib\\site-packages\\sklearn\\preprocessing\\data.py:625: DataConversionWarning: Data with input dtype int64, float64 were all converted to float64 by StandardScaler.\n",
      "  return self.partial_fit(X, y)\n",
      "C:\\Users\\ARA\\Anaconda3\\envs\\tensorflow\\lib\\site-packages\\sklearn\\base.py:462: DataConversionWarning: Data with input dtype int64, float64 were all converted to float64 by StandardScaler.\n",
      "  return self.fit(X, **fit_params).transform(X)\n"
     ]
    },
    {
     "name": "stdout",
     "output_type": "stream",
     "text": [
      "[31, 49, 126, 106, 98, 105, 160, 166, 55, 192, 83, 217, 195, 46, 76, 113, 165, 133, 135, 184, 148, 39, 130, 186, 48, 76, 140, 158, 171, 143, 196, 145, 50, 203, 198, 126, 121, 125, 37, 133, 123, 156, 172, 54, 152, 146, 73, 78, 303, 74, 144, 189, 164, 121, 113, 136, 160, 176, 94, 147, 159, 232, 155, 168, 71, 147, 71, 187, 54, 152, 68, 131, 112, 137, 88, 205, 162, 72, 101, 133, 213, 162, 73, 172, 34, 110, 56, 68, 177, 146, 234, 150, 244, 133, 89, 97, 134, 121, 97, 198]\n",
      "비정상 갯수 :  22720.0\n",
      "(5825, 16, 17)\n",
      "(5825, 16, 1)\n"
     ]
    }
   ],
   "source": [
    "X_test_view = ori_test.iloc[:,cols]\n",
    "X_test_view = pd.concat([ori_test.iloc[:,[0,1,-1]], X_test_view],axis=1)\n",
    "\n",
    "scaled_X_test = scaling(X_test_view)\n",
    "\n",
    "machine_list_test = np.unique(X_test_view['0']) # 장비 1~ 100번\n",
    "\n",
    "# 각 횟수에 해당하는 데이터 분할\n",
    "X_test = slicing_data(machine_list_test, scaled_X_test)\n",
    "\n",
    "leng_test = get_leng(X_test)\n",
    "X_test2 = get_analogy_data(X_test)\n",
    "\n",
    "#X_test_i, y_test_i = just_cut_time(X_test2, leng_test, max_review_length)\n",
    "X_test_i, y_test_i = cut_time_series(X_test2, leng_test, max_review_length, stride)\n",
    "\n",
    "X_test_i_pad = sequence.pad_sequences(X_test_i, dtype='float64', padding='post', maxlen = max_review_length)\n",
    "print(X_test_i_pad.shape)\n",
    "\n",
    "y_test_i = np.asarray(y_test_i)\n",
    "y_test_i = y_test_i.reshape(y_test_i.shape[0],y_test_i.shape[1],1)\n",
    "print(y_test_i.shape)"
   ]
  },
  {
   "cell_type": "code",
   "execution_count": 16,
   "metadata": {},
   "outputs": [],
   "source": [
    "y_pre_i = model.predict_classes(X_test_i_pad)"
   ]
  },
  {
   "cell_type": "code",
   "execution_count": 17,
   "metadata": {},
   "outputs": [],
   "source": [
    "y_pre_i = y_pre_i.reshape(y_pre_i.shape[0]* y_pre_i.shape[1], 1)\n",
    "y_test_i = y_test_i.reshape(y_test_i.shape[0]*y_test_i.shape[1], 1)"
   ]
  },
  {
   "cell_type": "code",
   "execution_count": 18,
   "metadata": {},
   "outputs": [
    {
     "data": {
      "text/plain": [
       "(93200, 1)"
      ]
     },
     "execution_count": 18,
     "metadata": {},
     "output_type": "execute_result"
    }
   ],
   "source": [
    "y_pre_i.shape"
   ]
  },
  {
   "cell_type": "code",
   "execution_count": 19,
   "metadata": {},
   "outputs": [
    {
     "data": {
      "text/plain": [
       "<matplotlib.axes._subplots.AxesSubplot at 0x17aece6bf98>"
      ]
     },
     "execution_count": 19,
     "metadata": {},
     "output_type": "execute_result"
    },
    {
     "data": {
      "image/png": "[encoded data removed]",
      "text/plain": [
       "<Figure size 720x504 with 2 Axes>"
      ]
     },
     "metadata": {
      "needs_background": "light"
     },
     "output_type": "display_data"
    }
   ],
   "source": [
    "### plot confusion matrix\n",
    "from sklearn.metrics import confusion_matrix\n",
    "import matplotlib.pyplot as plt\n",
    "import seaborn as sn\n",
    "%matplotlib inline\n",
    "\n",
    "df_cm = pd.DataFrame(confusion_matrix(y_test_i, y_pre_i))\n",
    "plt.figure(figsize=(10,7))\n",
    "sn.heatmap(df_cm, annot=True, fmt='d')"
   ]
  },
  {
   "cell_type": "code",
   "execution_count": null,
   "metadata": {},
   "outputs": [],
   "source": []
  }
 ],
 "metadata": {
  "kernelspec": {
   "display_name": "Python 3",
   "language": "python",
   "name": "python3"
  },
  "language_info": {
   "codemirror_mode": {
    "name": "ipython",
    "version": 3
   },
   "file_extension": ".py",
   "mimetype": "text/x-python",
   "name": "python",
   "nbconvert_exporter": "python",
   "pygments_lexer": "ipython3",
   "version": "3.6.8"
  }
 },
 "nbformat": 4,
 "nbformat_minor": 2
}
