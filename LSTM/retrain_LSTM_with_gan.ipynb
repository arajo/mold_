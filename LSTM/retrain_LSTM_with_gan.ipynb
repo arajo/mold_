{
 "cells": [
  {
   "cell_type": "code",
   "execution_count": 1,
   "metadata": {},
   "outputs": [
    {
     "name": "stdout",
     "output_type": "stream",
     "text": [
      "importing Jupyter notebook from lstm_def.ipynb\n",
      "(3200, 16, 17)\n"
     ]
    },
    {
     "name": "stderr",
     "output_type": "stream",
     "text": [
      "Using TensorFlow backend.\n"
     ]
    }
   ],
   "source": [
    "import import_ipynb\n",
    "import lstm_def\n",
    "import numpy as np\n",
    "import pandas as pd\n",
    "import matplotlib.pyplot as plt\n",
    "import seaborn as sn\n",
    "from keras.layers import Dense, LSTM, BatchNormalization, MaxPool1D\n",
    "from keras.models import Sequential\n",
    "from sklearn import preprocessing\n",
    "from keras.preprocessing import sequence\n",
    "from keras.layers.convolutional import Conv1D\n",
    "from sklearn.metrics import confusion_matrix\n",
    "%matplotlib inline"
   ]
  },
  {
   "cell_type": "code",
   "execution_count": 2,
   "metadata": {},
   "outputs": [],
   "source": [
    "####################################\n",
    "# 기본 옵션\n",
    "####################################\n",
    "real_y_num = lstm_def.real_y_num\n",
    "max_review_length = lstm_def.max_review_length\n",
    "stride = lstm_def.stride"
   ]
  },
  {
   "cell_type": "code",
   "execution_count": 3,
   "metadata": {},
   "outputs": [
    {
     "name": "stdout",
     "output_type": "stream",
     "text": [
      "비정상 갯수 :  4400\n"
     ]
    }
   ],
   "source": [
    "X_2 = np.load('X_2.npy')\n",
    "leng = np.load('leng.npy')\n",
    "X_train2, y_train2 = lstm_def.cut_time_series_added(X_2, leng, max_review_length, stride, real_y_num)"
   ]
  },
  {
   "cell_type": "code",
   "execution_count": 4,
   "metadata": {},
   "outputs": [
    {
     "name": "stdout",
     "output_type": "stream",
     "text": [
      "(8818, 16, 17)\n",
      "(8818, 1)\n"
     ]
    }
   ],
   "source": [
    "X_train_pad = sequence.pad_sequences(X_train2, dtype='float64', padding='post', maxlen = max_review_length)\n",
    "print(X_train_pad.shape)\n",
    "\n",
    "y_train2 = np.asarray(y_train2)\n",
    "y_train2 = y_train2.reshape(y_train2.shape[0],1)\n",
    "print(y_train2.shape)"
   ]
  },
  {
   "cell_type": "code",
   "execution_count": 5,
   "metadata": {},
   "outputs": [
    {
     "name": "stdout",
     "output_type": "stream",
     "text": [
      "Epoch 1/3\n",
      "8818/8818 [==============================] - 9s 1ms/step - loss: 0.1170 - acc: 0.9567\n",
      "Epoch 2/3\n",
      "8818/8818 [==============================] - 9s 1ms/step - loss: 0.0361 - acc: 0.9862\n",
      "Epoch 3/3\n",
      "8818/8818 [==============================] - ETA: 0s - loss: 0.0299 - acc: 0.988 - 8s 904us/step - loss: 0.0298 - acc: 0.9881\n"
     ]
    },
    {
     "data": {
      "text/plain": [
       "<keras.callbacks.History at 0x23d7a5999b0>"
      ]
     },
     "execution_count": 5,
     "metadata": {},
     "output_type": "execute_result"
    }
   ],
   "source": [
    "#############################\n",
    "# create the model\n",
    "#############################\n",
    "model = Sequential()\n",
    "#model.add(Conv1D(filters= 64, kernel_size=3, padding='same', activation='relu'))\n",
    "#model.add(BatchNormalization())\n",
    "model.add(LSTM(100, activation = 'tanh', return_sequences= True))\n",
    "model.add(LSTM(50, activation = 'tanh'))\n",
    "model.add(Dense(1, activation='sigmoid'))\n",
    "model.compile(loss='binary_crossentropy', optimizer='adam', metrics=['accuracy'])\n",
    "model.fit(X_train_pad, y_train2, epochs=3, batch_size=32)"
   ]
  },
  {
   "cell_type": "code",
   "execution_count": 6,
   "metadata": {},
   "outputs": [],
   "source": [
    "###########################\n",
    "# 테스트\n",
    "###########################\n",
    "X_test_pad = np.load('X_test_pad.npy')\n",
    "y_test2 = np.load('y_test2.npy')\n"
   ]
  },
  {
   "cell_type": "code",
   "execution_count": 7,
   "metadata": {},
   "outputs": [],
   "source": [
    "y_pre = model.predict_classes(X_test_pad)"
   ]
  },
  {
   "cell_type": "code",
   "execution_count": 8,
   "metadata": {},
   "outputs": [
    {
     "data": {
      "text/plain": [
       "<matplotlib.axes._subplots.AxesSubplot at 0x23d6b716198>"
      ]
     },
     "execution_count": 8,
     "metadata": {},
     "output_type": "execute_result"
    },
    {
     "data": {
      "image/png": "[encoded data removed]",
      "text/plain": [
       "<Figure size 720x504 with 2 Axes>"
      ]
     },
     "metadata": {
      "needs_background": "light"
     },
     "output_type": "display_data"
    }
   ],
   "source": [
    "### plot confusion matrix\n",
    "df_cm = pd.DataFrame(confusion_matrix(y_test2, y_pre))\n",
    "plt.figure(figsize=(10,7))\n",
    "sn.heatmap(df_cm, annot=True, fmt='d')"
   ]
  },
  {
   "cell_type": "code",
   "execution_count": null,
   "metadata": {},
   "outputs": [],
   "source": []
  }
 ],
 "metadata": {
  "kernelspec": {
   "display_name": "Python 3",
   "language": "python",
   "name": "python3"
  },
  "language_info": {
   "codemirror_mode": {
    "name": "ipython",
    "version": 3
   },
   "file_extension": ".py",
   "mimetype": "text/x-python",
   "name": "python",
   "nbconvert_exporter": "python",
   "pygments_lexer": "ipython3",
   "version": "3.6.8"
  }
 },
 "nbformat": 4,
 "nbformat_minor": 2
}
