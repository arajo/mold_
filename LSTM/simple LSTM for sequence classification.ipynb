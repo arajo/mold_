{
 "cells": [
  {
   "cell_type": "code",
   "execution_count": null,
   "metadata": {},
   "outputs": [],
   "source": [
    "import numpy as np\n",
    "import pandas as pd\n",
    "import import_ipynb\n",
    "import lstm_def\n",
    "from keras.layers import Dense, LSTM, BatchNormalization, MaxPool1D\n",
    "from keras.models import Sequential\n",
    "from keras.preprocessing import sequence\n",
    "from keras.layers.convolutional import Conv1D"
   ]
  },
  {
   "cell_type": "code",
   "execution_count": null,
   "metadata": {},
   "outputs": [],
   "source": [
    "from sklearn.preprocessing import RobustScaler\n",
    "import import_ipynb\n",
    "import isee_def"
   ]
  },
  {
   "cell_type": "code",
   "execution_count": null,
   "metadata": {},
   "outputs": [],
   "source": [
    "####################################\n",
    "# train 데이터 load\n",
    "####################################\n",
    "\n",
    "merged_df = pd.read_csv('./isee_data/isee_machine_middel_NG_enc.csv')\n",
    "merged_df['NG_Label']= merged_df['NG'] + merged_df['NG5']\n",
    "\n",
    "up_list = merged_df['ProductNum'].unique()\n",
    "\n",
    "# 제품 'PL04496-03040' 대상\n",
    "df = merged_df[merged_df['ProductNum']==up_list[0]]"
   ]
  },
  {
   "cell_type": "code",
   "execution_count": 56,
   "metadata": {},
   "outputs": [],
   "source": [
    "feature = isee_def.get_analy_enc_df(df)\n",
    "y_label = df[['NG5','CycleNum','NG_Label']]\n",
    "scaled_X = pd.DataFrame(RobustScaler().fit_transform(feature), columns=feature.columns, index=df.index)\n",
    "scaled_df = pd.concat([scaled_X, y_label], axis=1)"
   ]
  },
  {
   "cell_type": "markdown",
   "metadata": {},
   "source": [
    "- X: train data set 생성\n",
    "- label: train data set에 해당하는 라벨(sequence의 마지막 값을 라벨로 지정)"
   ]
  },
  {
   "cell_type": "code",
   "execution_count": 113,
   "metadata": {},
   "outputs": [],
   "source": [
    "w=20\n",
    "s=4\n",
    "X = np.zeros(len(feature.columns), w))\n",
    "label = []\n",
    "for c in scaled_df['CycleNum'].unique():\n",
    "    df = scaled_df[scaled_df['CycleNum']==c]\n",
    "    df = df.reset_index(drop=True)\n",
    "    for i in range(int((len(df)-w)/s+1)):\n",
    "        X = np.concatenate((X, df.loc[s*i:s*i+w-1][feature.columns].T.values)) \n",
    "        label.append(df.loc[s*i+w-1]['NG_Label'])"
   ]
  },
  {
   "cell_type": "code",
   "execution_count": 172,
   "metadata": {},
   "outputs": [],
   "source": [
    "yy = [0 if x == 0 else 1 for x in label]"
   ]
  },
  {
   "cell_type": "code",
   "execution_count": 177,
   "metadata": {},
   "outputs": [
    {
     "data": {
      "text/plain": [
       "(22186, 4519)"
      ]
     },
     "execution_count": 177,
     "metadata": {},
     "output_type": "execute_result"
    }
   ],
   "source": [
    "len(yy) , sum(yy)"
   ]
  },
  {
   "cell_type": "code",
   "execution_count": 140,
   "metadata": {},
   "outputs": [],
   "source": [
    "X = X.reshape(-1,18,20)\n",
    "X = X[1:]"
   ]
  },
  {
   "cell_type": "code",
   "execution_count": 155,
   "metadata": {},
   "outputs": [],
   "source": [
    "y = pd.get_dummies(label).values"
   ]
  },
  {
   "cell_type": "code",
   "execution_count": 176,
   "metadata": {
    "scrolled": true
   },
   "outputs": [
    {
     "name": "stdout",
     "output_type": "stream",
     "text": [
      "Epoch 1/3\n",
      "22186/22186 [==============================] - 26s 1ms/step - loss: 0.4729 - acc: 0.8025\n",
      "Epoch 2/3\n",
      "22186/22186 [==============================] - 23s 1ms/step - loss: 0.4404 - acc: 0.8120\n",
      "Epoch 3/3\n",
      "22186/22186 [==============================] - 27s 1ms/step - loss: 0.4228 - acc: 0.8244\n"
     ]
    },
    {
     "data": {
      "text/plain": [
       "<keras.callbacks.History at 0x25a7b342dd8>"
      ]
     },
     "execution_count": 176,
     "metadata": {},
     "output_type": "execute_result"
    }
   ],
   "source": [
    "#############################\n",
    "# create the model\n",
    "#############################\n",
    "model = Sequential()\n",
    "#model.add(Conv1D(filters= 64, kernel_size=3, padding='same', activation='relu'))\n",
    "#model.add(BatchNormalization())\n",
    "model.add(LSTM(100, activation = 'tanh', return_sequences= True, input_shape=(18,20)))\n",
    "model.add(LSTM(50, activation = 'tanh'))\n",
    "model.add(Dense(1, activation='sigmoid'))\n",
    "model.compile(loss='binary_crossentropy', optimizer='adam', metrics=['accuracy'])\n",
    "model.fit(X, yy, epochs=3, batch_size=32)"
   ]
  },
  {
   "cell_type": "code",
   "execution_count": 162,
   "metadata": {},
   "outputs": [
    {
     "name": "stdout",
     "output_type": "stream",
     "text": [
      "_________________________________________________________________\n",
      "Layer (type)                 Output Shape              Param #   \n",
      "=================================================================\n",
      "lstm_9 (LSTM)                (None, 18, 100)           48400     \n",
      "_________________________________________________________________\n",
      "lstm_10 (LSTM)               (None, 50)                30200     \n",
      "_________________________________________________________________\n",
      "dense_5 (Dense)              (None, 3)                 153       \n",
      "=================================================================\n",
      "Total params: 78,753\n",
      "Trainable params: 78,753\n",
      "Non-trainable params: 0\n",
      "_________________________________________________________________\n",
      "None\n"
     ]
    }
   ],
   "source": [
    "print(model.summary())"
   ]
  },
  {
   "cell_type": "code",
   "execution_count": 15,
   "metadata": {},
   "outputs": [],
   "source": [
    "####################################\n",
    "# test 데이터 load\n",
    "####################################\n",
    "#ori_test = pd.read_csv('./data/test_FD0001_true5.csv',encoding= 'cp949')"
   ]
  },
  {
   "cell_type": "code",
   "execution_count": 164,
   "metadata": {
    "scrolled": true
   },
   "outputs": [
    {
     "name": "stdout",
     "output_type": "stream",
     "text": [
      "22186/22186 [==============================] - 7s 329us/step\n"
     ]
    }
   ],
   "source": [
    "####################################\n",
    "# model 평가\n",
    "####################################\n",
    "scores = model.evaluate(X, y)"
   ]
  },
  {
   "cell_type": "code",
   "execution_count": 165,
   "metadata": {},
   "outputs": [
    {
     "data": {
      "text/plain": [
       "[0.5298509761606466, 0.8086631208870458]"
      ]
     },
     "execution_count": 165,
     "metadata": {},
     "output_type": "execute_result"
    }
   ],
   "source": [
    "scores"
   ]
  },
  {
   "cell_type": "code",
   "execution_count": 178,
   "metadata": {},
   "outputs": [
    {
     "data": {
      "text/plain": [
       "array([0, 1])"
      ]
     },
     "execution_count": 178,
     "metadata": {},
     "output_type": "execute_result"
    }
   ],
   "source": [
    "y_pre = model.predict_classes(X)\n",
    "np.unique(y_pre)"
   ]
  },
  {
   "cell_type": "code",
   "execution_count": 30,
   "metadata": {},
   "outputs": [
    {
     "data": {
      "text/plain": [
       "'\\n# 실제값에 대한 예측값의 오류 정도를 파악하기 위해 엑셀로 저장\\ndf_y_real = pd.DataFrame(y_test2)\\ndf_y_pre = pd.DataFrame(y_pre)\\ndf_y = pd.concat([df_y_real, df_y_pre], axis=1)\\ndf_y.columns = [\\'real\\', \\'predict\\']\\n\\ndf_y.to_excel(\"df_y.xlsx\")\\n'"
      ]
     },
     "execution_count": 30,
     "metadata": {},
     "output_type": "execute_result"
    }
   ],
   "source": [
    "\"\"\"\n",
    "# 실제값에 대한 예측값의 오류 정도를 파악하기 위해 엑셀로 저장\n",
    "df_y_real = pd.DataFrame(y_test2)\n",
    "df_y_pre = pd.DataFrame(y_pre)\n",
    "df_y = pd.concat([df_y_real, df_y_pre], axis=1)\n",
    "df_y.columns = ['real', 'predict']\n",
    "\n",
    "df_y.to_excel(\"df_y.xlsx\")\n",
    "\"\"\""
   ]
  },
  {
   "cell_type": "code",
   "execution_count": 181,
   "metadata": {},
   "outputs": [
    {
     "data": {
      "text/plain": [
       "<matplotlib.axes._subplots.AxesSubplot at 0x25a7f7f4f60>"
      ]
     },
     "execution_count": 181,
     "metadata": {},
     "output_type": "execute_result"
    },
    {
     "data": {
      "image/png": "[encoded data removed]",
      "text/plain": [
       "<Figure size 720x504 with 2 Axes>"
      ]
     },
     "metadata": {
      "needs_background": "light"
     },
     "output_type": "display_data"
    }
   ],
   "source": [
    "### plot confusion matrix\n",
    "from sklearn.metrics import confusion_matrix\n",
    "import matplotlib.pyplot as plt\n",
    "import seaborn as sn\n",
    "%matplotlib inline\n",
    "\n",
    "df_cm = pd.DataFrame(confusion_matrix(label, y_pre))\n",
    "plt.figure(figsize=(10,7))\n",
    "sn.heatmap(df_cm, annot=True, fmt='d')"
   ]
  },
  {
   "cell_type": "code",
   "execution_count": 32,
   "metadata": {},
   "outputs": [
    {
     "data": {
      "text/plain": [
       "array([[9.94183e-05]], dtype=float32)"
      ]
     },
     "execution_count": 32,
     "metadata": {},
     "output_type": "execute_result"
    }
   ],
   "source": [
    "zero_list = np.zeros((max_review_length, 17))\n",
    "zero_list = zero_list.reshape(1,zero_list.shape[0], zero_list.shape[1])\n",
    "zero_list.shape\n",
    "zero_pre = model.predict(zero_list)\n",
    "zero_pre"
   ]
  },
  {
   "cell_type": "code",
   "execution_count": null,
   "metadata": {},
   "outputs": [],
   "source": []
  }
 ],
 "metadata": {
  "kernelspec": {
   "display_name": "Python 3",
   "language": "python",
   "name": "python3"
  },
  "language_info": {
   "codemirror_mode": {
    "name": "ipython",
    "version": 3
   },
   "file_extension": ".py",
   "mimetype": "text/x-python",
   "name": "python",
   "nbconvert_exporter": "python",
   "pygments_lexer": "ipython3",
   "version": "3.6.8"
  }
 },
 "nbformat": 4,
 "nbformat_minor": 4
}
