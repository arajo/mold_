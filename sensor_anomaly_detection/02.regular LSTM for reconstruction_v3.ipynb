{
 "cells": [
  {
   "cell_type": "code",
   "execution_count": 1,
   "metadata": {
    "scrolled": true
   },
   "outputs": [
    {
     "name": "stderr",
     "output_type": "stream",
     "text": [
      "Using TensorFlow backend.\n"
     ]
    }
   ],
   "source": [
    "import numpy as np\n",
    "import pandas as pd\n",
    "from sklearn import preprocessing\n",
    "from keras.layers import Input, Dense, Conv2D, Flatten\n",
    "from keras.models import Model, Sequential\n",
    "from sklearn.metrics import mean_squared_error\n",
    "from sklearn.preprocessing import RobustScaler, StandardScaler, MinMaxScaler\n",
    "from sklearn.metrics import confusion_matrix, classification_report\n",
    "from matplotlib import pyplot as plt\n",
    "%matplotlib inline"
   ]
  },
  {
   "cell_type": "code",
   "execution_count": 2,
   "metadata": {},
   "outputs": [],
   "source": [
    "def flatten(X):\n",
    "    '''\n",
    "    Flatten a 3D array.\n",
    "    \n",
    "    Input\n",
    "    X            A 3D array for lstm, where the array is sample x timesteps x features.\n",
    "    \n",
    "    Output\n",
    "    flattened_X  A 2D array, sample x features.\n",
    "    '''\n",
    "    flattened_X = np.empty((X.shape[0], X.shape[2]))  # sample x features array.\n",
    "    for i in range(X.shape[0]):\n",
    "        flattened_X[i] = X[i, (X.shape[1]-1), :]\n",
    "    return(flattened_X)\n",
    "\n",
    "def scale(X, scaler):\n",
    "    '''\n",
    "    Scale 3D array.\n",
    "\n",
    "    Inputs\n",
    "    Output\n",
    "    X            Scaled 3D array.\n",
    "    '''\n",
    "    for i in range(X.shape[0]):\n",
    "        X[i, :, :] = scaler.transform(X[i, :, :])        \n",
    "    return X"
   ]
  },
  {
   "cell_type": "markdown",
   "metadata": {},
   "source": [
    "### Data Load\n",
    "- 'PL04496-03040' (prod_list[0]) 제품만을 대상으로\n",
    "- 정상 데이터만으로 학습\n",
    "- 전체 데이터로 테스트"
   ]
  },
  {
   "cell_type": "code",
   "execution_count": 5,
   "metadata": {},
   "outputs": [],
   "source": [
    "isee_machine = pd.read_csv('./data/isee_machine_middle_NG_inter_MapNorm_combined_label.csv')\n",
    "prod_list = isee_machine.ProductNum.unique()\n",
    "\n",
    "# prod_list[0] 제품에 대해서만 분석\n",
    "isee_machine = isee_machine[isee_machine.ProductNum == prod_list[0]]    \n",
    "\n",
    "analy_col = ['CycleTime', 'VpPosition', 'VpTime',\n",
    "        'VpPressure', 'MaxInjectionPressure', 'InjectionEndPosition',\n",
    "        'PlasticizingTime', 'PlasticsEndPosotion', 'ClampingTime',\n",
    "        'MouldOpeningTime', 'HotOilContoller', 'TankTemp', 'NozzleTemp',\n",
    "        'Zone1', 'Zone2', 'Zone3', 'Zone4'] \n",
    "isee_machine['NG_Label'] = isee_machine['NG'] + isee_machine['NG5']\n",
    "\n",
    "# # combined_label== 1인것을 정상으로 편입, 하나씩 낮춰줌\n",
    "# isee_machine['combined_label'] = [x-1 if x>1 else x for x in isee_machine['combined_label']] \n",
    "# # 원래 combined_label== 3,4,5 인 것을 위험군으로 합침\n",
    "# isee_machine['combined_label'] = [2 if x>=2 else x for x in isee_machine['combined_label']]\n",
    "\n",
    "# combined_label에서 lof_label 빼고, svm_label 넣기\n",
    "isee_machine['combined_label'] = isee_machine['K_mahala_label'] + isee_machine['mahala_label'] + isee_machine['gmm_label'] +isee_machine['IF_label']\n",
    "\n",
    "# 원래 combined_label== 1,2,3,4,5 인 것을 위험군으로 합침\n",
    "isee_machine['combined_label'] = [1 if x>=3 else 0 for x in isee_machine['combined_label']]"
   ]
  },
  {
   "cell_type": "code",
   "execution_count": 6,
   "metadata": {},
   "outputs": [],
   "source": [
    "temp = []\n",
    "n = 0\n",
    "ng_list = isee_machine[isee_machine['NG']==1].index\n",
    "\n",
    "while n in range(len(isee_machine)):\n",
    "    if n in ng_list: \n",
    "        for _ in range(0,11):\n",
    "            temp.append(1)\n",
    "        n+= 11\n",
    "    else: \n",
    "        temp.append(0)\n",
    "        n += 1\n",
    "        \n",
    "isee_machine['ng_after']= temp"
   ]
  },
  {
   "cell_type": "markdown",
   "metadata": {},
   "source": [
    "- prop: 이상 비율 설정 (0.05876542354082906)"
   ]
  },
  {
   "cell_type": "code",
   "execution_count": 7,
   "metadata": {},
   "outputs": [],
   "source": [
    "prop = isee_machine['NG'].sum()/len(isee_machine)"
   ]
  },
  {
   "cell_type": "markdown",
   "metadata": {},
   "source": [
    "- input 데이터 셋 생성"
   ]
  },
  {
   "cell_type": "code",
   "execution_count": 125,
   "metadata": {},
   "outputs": [
    {
     "data": {
      "text/plain": [
       "array([0, 1])"
      ]
     },
     "execution_count": 125,
     "metadata": {},
     "output_type": "execute_result"
    }
   ],
   "source": [
    "w=10    # window size\n",
    "s=2     # stride\n",
    "n=10    # 몇 분 이내에 NG가 있나\n",
    "\n",
    "X = []\n",
    "label = []\n",
    "\n",
    "target_label = 'combined_label'\n",
    "\n",
    "for c in isee_machine['CycleNum'].unique():\n",
    "    df = isee_machine[isee_machine['CycleNum']==c]\n",
    "    df = df.reset_index(drop=True)\n",
    "    temp_cnt= int((len(df)-(w+2*n))/s)\n",
    "    for i in range(temp_cnt):\n",
    "        temp_df = df.loc[s*i:s*i+(w+2*n)-1].reset_index(drop=True)\n",
    "        X.append(temp_df.loc[n:len(temp_df)-n-1][analy_col].values)    \n",
    "        t_before = max(temp_df.loc[:n-1][target_label])\n",
    "        t_after = max(temp_df.loc[len(temp_df)-n:][target_label])\n",
    "\n",
    "        label.append(max(t_before, t_after))\n",
    "\n",
    "X = np.array(X)\n",
    "np.unique(label)"
   ]
  },
  {
   "cell_type": "code",
   "execution_count": 5,
   "metadata": {},
   "outputs": [],
   "source": [
    "# w=20    # window size\n",
    "# s=5     # stride\n",
    "# n=10    # 몇 분 이내에 NG가 있나\n",
    "# t=0     # x분 후부터\n",
    "\n",
    "# X = []\n",
    "# label = []\n",
    "\n",
    "# target_label = 'NG'\n",
    "\n",
    "# for c in isee_machine['CycleNum'].unique():\n",
    "#     df = isee_machine[isee_machine['CycleNum']==c]\n",
    "#     df = df.reset_index(drop=True)\n",
    "#     for i in range(int((len(df)-w)/s) - (n+t)):\n",
    "#         t_df_before = df.loc[s*i:s*i+w-1]        \n",
    "#         t_df_after = df.loc[s*i+n+t:s*i+w-1+n+t]\n",
    "        \n",
    "#         t_sum_after = (t_df_before[target_label]).sum()\n",
    "\n",
    "#         X.append(t_df_before[analy_col].values)\n",
    "#         label.append(t_sum_after)\n",
    "\n",
    "# X = np.array(X)"
   ]
  },
  {
   "cell_type": "code",
   "execution_count": 126,
   "metadata": {},
   "outputs": [],
   "source": [
    "label_df = pd.DataFrame(label, columns=['label0'])\n",
    "label_df['label0'] = label_df.label0.astype(int)"
   ]
  },
  {
   "cell_type": "code",
   "execution_count": 127,
   "metadata": {},
   "outputs": [
    {
     "name": "stdout",
     "output_type": "stream",
     "text": [
      "정상 데이터 수:  16907  전체 데이터 수 : 28091\n"
     ]
    }
   ],
   "source": [
    "normal_idx = label_df[(label_df.label0 ==0)].index.tolist()\n",
    "test_idx = label_df[(label_df.label0 >=0)].index.tolist()\n",
    "\n",
    "X_train = X[normal_idx]\n",
    "#Xf_train = Xf[normal_idx]\n",
    "\n",
    "X_test = X[test_idx]\n",
    "#Xf_test = Xf[test_idx]\n",
    "\n",
    "print(\"정상 데이터 수: \",len(normal_idx), \" 전체 데이터 수 :\", len(test_idx))"
   ]
  },
  {
   "cell_type": "code",
   "execution_count": 128,
   "metadata": {},
   "outputs": [
    {
     "data": {
      "text/plain": [
       "0.3981346338684988"
      ]
     },
     "execution_count": 128,
     "metadata": {},
     "output_type": "execute_result"
    }
   ],
   "source": [
    "prop = 1 - (len(normal_idx) / len(test_idx))\n",
    "prop"
   ]
  },
  {
   "cell_type": "markdown",
   "metadata": {},
   "source": [
    "- scale"
   ]
  },
  {
   "cell_type": "code",
   "execution_count": 129,
   "metadata": {},
   "outputs": [],
   "source": [
    "# 정상 데이터로만 scale\n",
    "# Initialize a scaler using the training data.\n",
    "scaler = MinMaxScaler().fit(flatten(X_train))\n",
    "\n",
    "scaled_train = scale(X_train, scaler)\n",
    "\n",
    "# 전체 데이터로 테스트\n",
    "scaled_X = scale(X_test, scaler)"
   ]
  },
  {
   "cell_type": "code",
   "execution_count": null,
   "metadata": {},
   "outputs": [],
   "source": [
    "# # 정상 데이터로만 scale\n",
    "# # Initialize a scaler using the training data.\n",
    "# scaler = MinMaxScaler().fit(np.concatenate((flatten(X_train),flatten(Xf_train)),axis=0))\n",
    "\n",
    "# scaled_train = scale(X_train, scaler)\n",
    "# scaled_future = scale(Xf_train, scaler)\n",
    "\n",
    "# # 전체 데이터로 테스트\n",
    "# scaled_X = scale(X_test, scaler)\n",
    "# scaled_Xf = scale(Xf_test, scaler)"
   ]
  },
  {
   "cell_type": "code",
   "execution_count": 130,
   "metadata": {
    "scrolled": true
   },
   "outputs": [
    {
     "name": "stdout",
     "output_type": "stream",
     "text": [
      "Epoch 1/10\n",
      "16907/16907 [==============================] - 6s 372us/step - loss: 0.2145\n",
      "Epoch 2/10\n",
      "16907/16907 [==============================] - 3s 163us/step - loss: 0.0629\n",
      "Epoch 3/10\n",
      "16907/16907 [==============================] - 3s 187us/step - loss: 0.0215\n",
      "Epoch 4/10\n",
      "16907/16907 [==============================] - 3s 167us/step - loss: 0.0131 1s - loss:  - \n",
      "Epoch 5/10\n",
      "16907/16907 [==============================] - 3s 165us/step - loss: 0.0113\n",
      "Epoch 6/10\n",
      "16907/16907 [==============================] - 3s 163us/step - loss: 0.0096\n",
      "Epoch 7/10\n",
      "16907/16907 [==============================] - 3s 161us/step - loss: 0.0085\n",
      "Epoch 8/10\n",
      "16907/16907 [==============================] - 3s 176us/step - loss: 0.0079\n",
      "Epoch 9/10\n",
      "16907/16907 [==============================] - 3s 166us/step - loss: 0.0074\n",
      "Epoch 10/10\n",
      "16907/16907 [==============================] - 3s 162us/step - loss: 0.0070\n",
      "_________________________________________________________________\n",
      "Layer (type)                 Output Shape              Param #   \n",
      "=================================================================\n",
      "input_3 (InputLayer)         (None, 10, 17)            0         \n",
      "_________________________________________________________________\n",
      "lstm_9 (LSTM)                (None, 10, 8)             832       \n",
      "_________________________________________________________________\n",
      "lstm_10 (LSTM)               (None, 10, 4)             208       \n",
      "_________________________________________________________________\n",
      "lstm_11 (LSTM)               (None, 10, 4)             144       \n",
      "_________________________________________________________________\n",
      "lstm_12 (LSTM)               (None, 10, 8)             416       \n",
      "_________________________________________________________________\n",
      "time_distributed_3 (TimeDist (None, 10, 17)            153       \n",
      "=================================================================\n",
      "Total params: 1,753\n",
      "Trainable params: 1,753\n",
      "Non-trainable params: 0\n",
      "_________________________________________________________________\n"
     ]
    }
   ],
   "source": [
    "from keras.layers import Input, LSTM, Dense, TimeDistributed, Dropout, RepeatVector\n",
    "from keras.utils import plot_model\n",
    "\n",
    "timesteps = X_train.shape[1]\n",
    "n_features = X_train.shape[2]\n",
    "\n",
    "input_data = Input(shape=X_train.shape[1:])\n",
    "x = LSTM(units=8, activation='relu', input_shape = (timesteps, n_features), return_sequences=True)(input_data)\n",
    "x = LSTM(units=4, activation='relu', return_sequences=True)(x)\n",
    "#x = RepeatVector(timesteps)(x)\n",
    "\n",
    "x = LSTM(units=4, activation='relu', return_sequences=True)(x)\n",
    "x = LSTM(units=8, activation='relu', return_sequences=True)(x)\n",
    "decoded = TimeDistributed(Dense(units=n_features))(x)\n",
    "\n",
    "autoencoder = Model(input_data, decoded)\n",
    "autoencoder.compile(optimizer='adam', loss='mse')\n",
    "\n",
    "### fit model\n",
    "autoencoder.fit(scaled_train, scaled_train, epochs= 10, batch_size=128, shuffle=True, verbose=1)\n",
    "autoencoder.summary()\n",
    "#plot_model(autoencoder, show_shapes=True)  # , to_file='reconstruct_lstm_autoencoder.png'"
   ]
  },
  {
   "cell_type": "code",
   "execution_count": 131,
   "metadata": {},
   "outputs": [],
   "source": [
    "# demonstrate recreation\n",
    "lstm_predict = autoencoder.predict(scaled_X)\n",
    "\n",
    "lstm_predict = lstm_predict.reshape(lstm_predict.shape[0], lstm_predict.shape[1]* lstm_predict.shape[2])\n",
    "#X2 = scaled_Xf.reshape(scaled_Xf.shape[0], scaled_Xf.shape[1]* scaled_Xf.shape[2])\n",
    "X2 = scaled_X.reshape(scaled_X.shape[0], scaled_X.shape[1]* scaled_X.shape[2])"
   ]
  },
  {
   "cell_type": "code",
   "execution_count": 132,
   "metadata": {},
   "outputs": [],
   "source": [
    "### calculate MSE\n",
    "temp_df = pd.DataFrame(mean_squared_error(X2.T, lstm_predict.T, multioutput='raw_values'), columns=['mse'])\n",
    "temp_df = pd.concat([temp_df,label_df.loc[test_idx].reset_index(drop=True)], axis=1)"
   ]
  },
  {
   "cell_type": "code",
   "execution_count": 133,
   "metadata": {},
   "outputs": [
    {
     "data": {
      "text/plain": [
       "array([0, 1], dtype=int64)"
      ]
     },
     "execution_count": 133,
     "metadata": {},
     "output_type": "execute_result"
    }
   ],
   "source": [
    "temp_df.label0.unique()"
   ]
  },
  {
   "cell_type": "code",
   "execution_count": 134,
   "metadata": {},
   "outputs": [],
   "source": [
    "div = temp_df.label0.max()/4\n",
    "temp_df['label0'] = np.round(temp_df.label0/div).astype(int)"
   ]
  },
  {
   "cell_type": "code",
   "execution_count": 135,
   "metadata": {},
   "outputs": [],
   "source": [
    "k = sorted(temp_df.mse.values, reverse=True)\n",
    "t = np.ceil(len(temp_df.mse.values) * prop).astype(int)\n",
    "\n",
    "lstmAE_label = []\n",
    "t4 = len(temp_df[temp_df.label0==4])\n",
    "t3 = len(temp_df[temp_df.label0>=3])\n",
    "t2 = len(temp_df[temp_df.label0>=2])\n",
    "t1 = len(temp_df[temp_df.label0>=1])\n",
    "\n",
    "for x in temp_df.mse.values:\n",
    "    if x >= k[t4]: lstmAE_label.append(4)\n",
    "    elif x < k[t4] and x >= k[t3]: lstmAE_label.append(3)\n",
    "    elif x < k[t3] and x >= k[t2]: lstmAE_label.append(2)\n",
    "    elif x < k[t2] and x >= k[t1]: lstmAE_label.append(1)\n",
    "    else: lstmAE_label.append(0)\n",
    "    \n",
    "\n",
    "temp_df['lstmAE_label'] = lstmAE_label"
   ]
  },
  {
   "cell_type": "code",
   "execution_count": 136,
   "metadata": {},
   "outputs": [],
   "source": [
    "# k = sorted(temp_df.mse.values, reverse=True)\n",
    "# t = np.ceil(len(temp_df.mse.values) * prop).astype(int)\n",
    "\n",
    "# lstmAE_label = []\n",
    "# for x in temp_df.mse.values:\n",
    "#     if x >= k[int(t/2*1)]: lstmAE_label.append(2)\n",
    "#     elif x < k[int(t/2*1)] and x >= k[int(t/2*2)]: lstmAE_label.append(1)\n",
    "#     else: lstmAE_label.append(0)\n",
    "    \n",
    "\n",
    "# temp_df['lstmAE_label'] = lstmAE_label\n",
    "# temp_df = pd.concat([temp_df,label_df.loc[test_idx].reset_index(drop=True)], axis=1)"
   ]
  },
  {
   "cell_type": "code",
   "execution_count": 137,
   "metadata": {},
   "outputs": [
    {
     "data": {
      "text/plain": [
       "<matplotlib.axes._subplots.AxesSubplot at 0x2399a7df908>"
      ]
     },
     "execution_count": 137,
     "metadata": {},
     "output_type": "execute_result"
    },
    {
     "data": {
      "image/png": "[encoded data removed]",
      "text/plain": [
       "<Figure size 432x288 with 2 Axes>"
      ]
     },
     "metadata": {
      "needs_background": "light"
     },
     "output_type": "display_data"
    }
   ],
   "source": [
    "### plot confusion matrix\n",
    "from sklearn.metrics import confusion_matrix\n",
    "import seaborn as sn\n",
    "\n",
    "#y = [0 if x in [0,2] else x for x in temp_df.risk_label]\n",
    "\n",
    "df_cm = confusion_matrix(temp_df.label0, temp_df.lstmAE_label)\n",
    "sn.heatmap(df_cm, annot=True, fmt='d')"
   ]
  },
  {
   "cell_type": "code",
   "execution_count": 138,
   "metadata": {},
   "outputs": [
    {
     "data": {
      "text/plain": [
       "<matplotlib.axes._subplots.AxesSubplot at 0x23987128588>"
      ]
     },
     "execution_count": 138,
     "metadata": {},
     "output_type": "execute_result"
    },
    {
     "data": {
      "image/png": "[encoded data removed]",
      "text/plain": [
       "<Figure size 432x288 with 2 Axes>"
      ]
     },
     "metadata": {
      "needs_background": "light"
     },
     "output_type": "display_data"
    }
   ],
   "source": [
    "temp_mat = []\n",
    "for i in range(len(df_cm.sum(axis=1))):    \n",
    "    temp_mat.append(df_cm[i] / df_cm.sum(axis=1)[i])\n",
    "    \n",
    "sn.heatmap(temp_mat, annot=True)"
   ]
  },
  {
   "cell_type": "code",
   "execution_count": 139,
   "metadata": {},
   "outputs": [
    {
     "data": {
      "text/plain": [
       "<matplotlib.axes._subplots.AxesSubplot at 0x2399a946fd0>"
      ]
     },
     "execution_count": 139,
     "metadata": {},
     "output_type": "execute_result"
    },
    {
     "data": {
      "image/png": "[encoded data removed]",
      "text/plain": [
       "<Figure size 432x288 with 2 Axes>"
      ]
     },
     "metadata": {
      "needs_background": "light"
     },
     "output_type": "display_data"
    }
   ],
   "source": [
    "temp_mat = []\n",
    "for i in range(len(df_cm.sum(axis=1))):    \n",
    "    temp_mat.append(df_cm[i] / df_cm.sum(axis=0))\n",
    "    \n",
    "sn.heatmap(temp_mat, annot=True)"
   ]
  },
  {
   "cell_type": "code",
   "execution_count": 140,
   "metadata": {},
   "outputs": [
    {
     "name": "stdout",
     "output_type": "stream",
     "text": [
      "              precision    recall  f1-score   support\n",
      "\n",
      "           0       0.63      0.63      0.63     16907\n",
      "           4       0.44      0.44      0.44     11184\n",
      "\n",
      "   micro avg       0.55      0.55      0.55     28091\n",
      "   macro avg       0.53      0.53      0.53     28091\n",
      "weighted avg       0.55      0.55      0.55     28091\n",
      "\n"
     ]
    }
   ],
   "source": [
    "print(classification_report(temp_df.label0, temp_df.lstmAE_label))"
   ]
  },
  {
   "cell_type": "code",
   "execution_count": 141,
   "metadata": {},
   "outputs": [
    {
     "data": {
      "text/html": [
       "<div>\n",
       "<style scoped>\n",
       "    .dataframe tbody tr th:only-of-type {\n",
       "        vertical-align: middle;\n",
       "    }\n",
       "\n",
       "    .dataframe tbody tr th {\n",
       "        vertical-align: top;\n",
       "    }\n",
       "\n",
       "    .dataframe thead th {\n",
       "        text-align: right;\n",
       "    }\n",
       "</style>\n",
       "<table border=\"1\" class=\"dataframe\">\n",
       "  <thead>\n",
       "    <tr style=\"text-align: right;\">\n",
       "      <th></th>\n",
       "      <th>label0</th>\n",
       "      <th>0</th>\n",
       "      <th>4</th>\n",
       "    </tr>\n",
       "  </thead>\n",
       "  <tbody>\n",
       "    <tr>\n",
       "      <th rowspan=\"8\" valign=\"top\">mse</th>\n",
       "      <th>count</th>\n",
       "      <td>16907.000000</td>\n",
       "      <td>11184.000000</td>\n",
       "    </tr>\n",
       "    <tr>\n",
       "      <th>mean</th>\n",
       "      <td>0.006877</td>\n",
       "      <td>0.007216</td>\n",
       "    </tr>\n",
       "    <tr>\n",
       "      <th>std</th>\n",
       "      <td>0.005364</td>\n",
       "      <td>0.004287</td>\n",
       "    </tr>\n",
       "    <tr>\n",
       "      <th>min</th>\n",
       "      <td>0.001783</td>\n",
       "      <td>0.001900</td>\n",
       "    </tr>\n",
       "    <tr>\n",
       "      <th>25%</th>\n",
       "      <td>0.003646</td>\n",
       "      <td>0.004799</td>\n",
       "    </tr>\n",
       "    <tr>\n",
       "      <th>50%</th>\n",
       "      <td>0.005935</td>\n",
       "      <td>0.006363</td>\n",
       "    </tr>\n",
       "    <tr>\n",
       "      <th>75%</th>\n",
       "      <td>0.008144</td>\n",
       "      <td>0.008471</td>\n",
       "    </tr>\n",
       "    <tr>\n",
       "      <th>max</th>\n",
       "      <td>0.092132</td>\n",
       "      <td>0.081379</td>\n",
       "    </tr>\n",
       "  </tbody>\n",
       "</table>\n",
       "</div>"
      ],
      "text/plain": [
       "label0                0             4\n",
       "mse count  16907.000000  11184.000000\n",
       "    mean       0.006877      0.007216\n",
       "    std        0.005364      0.004287\n",
       "    min        0.001783      0.001900\n",
       "    25%        0.003646      0.004799\n",
       "    50%        0.005935      0.006363\n",
       "    75%        0.008144      0.008471\n",
       "    max        0.092132      0.081379"
      ]
     },
     "execution_count": 141,
     "metadata": {},
     "output_type": "execute_result"
    }
   ],
   "source": [
    "temp_df.groupby(['label0'])[['mse']].describe().T"
   ]
  },
  {
   "cell_type": "code",
   "execution_count": null,
   "metadata": {},
   "outputs": [],
   "source": []
  }
 ],
 "metadata": {
  "kernelspec": {
   "display_name": "Python 3",
   "language": "python",
   "name": "python3"
  },
  "language_info": {
   "codemirror_mode": {
    "name": "ipython",
    "version": 3
   },
   "file_extension": ".py",
   "mimetype": "text/x-python",
   "name": "python",
   "nbconvert_exporter": "python",
   "pygments_lexer": "ipython3",
   "version": "3.6.8"
  }
 },
 "nbformat": 4,
 "nbformat_minor": 4
}
