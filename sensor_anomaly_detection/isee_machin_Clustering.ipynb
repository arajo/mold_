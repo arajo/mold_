{
 "cells": [
  {
   "cell_type": "markdown",
   "metadata": {},
   "source": [
    "## isee_machin_Clustering"
   ]
  },
  {
   "cell_type": "code",
   "execution_count": 1,
   "metadata": {},
   "outputs": [],
   "source": [
    "import pandas as pd\n",
    "import numpy as np\n",
    "import matplotlib.pyplot as plt\n",
    "%matplotlib inline"
   ]
  },
  {
   "cell_type": "code",
   "execution_count": 2,
   "metadata": {},
   "outputs": [],
   "source": [
    "isee_machine_operation = pd.read_csv('./data/isee_machine_operation.csv')"
   ]
  },
  {
   "cell_type": "code",
   "execution_count": 3,
   "metadata": {
    "scrolled": true
   },
   "outputs": [
    {
     "data": {
      "text/plain": [
       "Index(['ModuleCount', 'creationTime', 'CycleTime', 'VpPosition', 'VpTime',\n",
       "       'VpPressure', 'MaxInjectionPressure', 'InjectionEndPosition',\n",
       "       'PlasticizingTime', 'PlasticsEndPosotion', 'ClampingTime',\n",
       "       'MouldOpeningTime', 'HotOilContoller', 'TankTemp', 'NozzleTemp',\n",
       "       'Zone1', 'Zone2', 'Zone3', 'Zone4', 'creationDate', 'creationTime_diff',\n",
       "       'CycleNum', 'Operation_label', 'True_label', 'Cluster_label',\n",
       "       'AD_label'],\n",
       "      dtype='object')"
      ]
     },
     "execution_count": 3,
     "metadata": {},
     "output_type": "execute_result"
    }
   ],
   "source": [
    "isee_machine_operation.columns"
   ]
  },
  {
   "cell_type": "code",
   "execution_count": 4,
   "metadata": {},
   "outputs": [],
   "source": [
    "isee_machine_operation = isee_machine_operation[isee_machine_operation['Operation_label']==1]"
   ]
  },
  {
   "cell_type": "code",
   "execution_count": 5,
   "metadata": {},
   "outputs": [],
   "source": [
    "# Though the following import is not directly being used, it is required\n",
    "# for 3D projection to work\n",
    "from sklearn.cluster import SpectralClustering,KMeans\n",
    "from sklearn.ensemble import IsolationForest\n",
    "from sklearn.preprocessing import StandardScaler, MinMaxScaler\n",
    "from sklearn.model_selection import train_test_split\n",
    "from sklearn.metrics import confusion_matrix"
   ]
  },
  {
   "cell_type": "code",
   "execution_count": 6,
   "metadata": {},
   "outputs": [
    {
     "name": "stderr",
     "output_type": "stream",
     "text": [
      "C:\\Users\\ARA\\Anaconda3\\envs\\tensorflow\\lib\\site-packages\\sklearn\\preprocessing\\data.py:625: DataConversionWarning: Data with input dtype int64, float64 were all converted to float64 by StandardScaler.\n",
      "  return self.partial_fit(X, y)\n",
      "C:\\Users\\ARA\\Anaconda3\\envs\\tensorflow\\lib\\site-packages\\sklearn\\base.py:462: DataConversionWarning: Data with input dtype int64, float64 were all converted to float64 by StandardScaler.\n",
      "  return self.fit(X, **fit_params).transform(X)\n"
     ]
    }
   ],
   "source": [
    "X_all = isee_machine_operation[[ 'CycleTime', 'VpPosition', 'VpTime',\n",
    "       'VpPressure', 'MaxInjectionPressure', 'InjectionEndPosition',\n",
    "       'PlasticizingTime', 'PlasticsEndPosotion', 'ClampingTime',\n",
    "       'MouldOpeningTime', 'HotOilContoller', 'TankTemp', 'NozzleTemp',\n",
    "       'Zone1', 'Zone2', 'Zone3', 'Zone4']]\n",
    "y = isee_machine_operation['True_label']\n",
    "true_y = y.replace({'Y':-1,'N':1})\n",
    "cols = X_all.columns.tolist()\n",
    "\n",
    "X_scaler = StandardScaler().fit_transform(X_all)\n",
    "# X_train, X_test, y_train, y_test = train_test_split(X_scaler,true_y,test_size= 0.3, stratify  = y,random_state = 42)"
   ]
  },
  {
   "cell_type": "markdown",
   "metadata": {},
   "source": [
    "### Anomaly Detection\n",
    "- 일단 그냥 해보는거"
   ]
  },
  {
   "cell_type": "code",
   "execution_count": 6,
   "metadata": {},
   "outputs": [],
   "source": [
    "model = IsolationForest(behaviour='new', max_samples=100,\n",
    "                      random_state=42, contamination=0.07)"
   ]
  },
  {
   "cell_type": "code",
   "execution_count": 7,
   "metadata": {},
   "outputs": [],
   "source": [
    "model.fit(X_scaler)\n",
    "ad_pred_y = model.predict(X_scaler)"
   ]
  },
  {
   "cell_type": "markdown",
   "metadata": {},
   "source": [
    "### Clustering\n",
    "- Kmeans"
   ]
  },
  {
   "cell_type": "code",
   "execution_count": 7,
   "metadata": {},
   "outputs": [
    {
     "data": {
      "image/png": "[encoded data removed]",
      "text/plain": [
       "<Figure size 432x288 with 1 Axes>"
      ]
     },
     "metadata": {
      "needs_background": "light"
     },
     "output_type": "display_data"
    }
   ],
   "source": [
    "# 군집갯수 정하기\n",
    "\"\"\"\n",
    "Inertia value는 군집화가된 후에, 각 중심점에서 군집의 데이타간의 거리를 합산한것이으로 군집의 응집도를 나타내는 값이다, \n",
    "이 값이 작을 수록 응집도가 높게 군집화가 잘되었다고 평가할 수 있다.\n",
    "\"\"\"\n",
    "ks = range(1,20)\n",
    "\n",
    "inertias = []\n",
    "\n",
    "for k in ks:\n",
    "    model = KMeans(n_clusters=k)\n",
    "    model.fit(X_scaler)\n",
    "    inertias.append(model.inertia_)\n",
    "\n",
    "    \n",
    "\n",
    "# Plot ks vs inertias\n",
    "plt.plot(ks, inertias, '-o')\n",
    "plt.xlabel('number of clusters, k')\n",
    "plt.ylabel('inertia')\n",
    "plt.xticks(ks)\n",
    "plt.show()"
   ]
  },
  {
   "cell_type": "code",
   "execution_count": 29,
   "metadata": {},
   "outputs": [],
   "source": [
    "clustering = KMeans(n_clusters=7, random_state=42).fit(X_scaler)"
   ]
  },
  {
   "cell_type": "code",
   "execution_count": 30,
   "metadata": {},
   "outputs": [],
   "source": [
    "cluster_label = clustering.labels_"
   ]
  },
  {
   "cell_type": "code",
   "execution_count": 32,
   "metadata": {},
   "outputs": [
    {
     "name": "stderr",
     "output_type": "stream",
     "text": [
      "C:\\Users\\ARA\\Anaconda3\\envs\\tensorflow\\lib\\site-packages\\ipykernel_launcher.py:2: SettingWithCopyWarning: \n",
      "A value is trying to be set on a copy of a slice from a DataFrame.\n",
      "Try using .loc[row_indexer,col_indexer] = value instead\n",
      "\n",
      "See the caveats in the documentation: http://pandas.pydata.org/pandas-docs/stable/indexing.html#indexing-view-versus-copy\n",
      "  \n"
     ]
    }
   ],
   "source": [
    "# label 모음집\n",
    "isee_machine_operation['Cluster_label'] = cluster_label\n",
    "#isee_machine_operation['AD_label'] = ad_pred_y"
   ]
  },
  {
   "cell_type": "code",
   "execution_count": 33,
   "metadata": {},
   "outputs": [],
   "source": [
    "# 군집간 비교 엑셀 저장\n",
    "isee_machine_operation[['creationTime','Operation_label','Operation_label', 'True_label','Cluster_label','AD_label']].to_excel('./output/7cluster_label_oper1.xlsx')"
   ]
  },
  {
   "cell_type": "code",
   "execution_count": 34,
   "metadata": {},
   "outputs": [],
   "source": [
    "# 군집간 라벨 추가 데이터 저장\n",
    "isee_machine_operation.to_csv('./data/isee_machine_operation.csv',index = False)"
   ]
  }
 ],
 "metadata": {
  "kernelspec": {
   "display_name": "Python 3",
   "language": "python",
   "name": "python3"
  },
  "language_info": {
   "codemirror_mode": {
    "name": "ipython",
    "version": 3
   },
   "file_extension": ".py",
   "mimetype": "text/x-python",
   "name": "python",
   "nbconvert_exporter": "python",
   "pygments_lexer": "ipython3",
   "version": "3.7.0"
  }
 },
 "nbformat": 4,
 "nbformat_minor": 2
}
