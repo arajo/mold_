{
 "cells": [
  {
   "cell_type": "markdown",
   "metadata": {},
   "source": [
    "# isee_machine & isee_quality\n",
    "- isee_quality의 모든 정보가 'NG' 즉, 모두 비정상이라는 가정하에 매칭해봄\n",
    "- NG 라벨링 part\n",
    "- 18.06.12"
   ]
  },
  {
   "cell_type": "code",
   "execution_count": 1,
   "metadata": {},
   "outputs": [],
   "source": [
    "import pandas as pd\n",
    "import numpy as np\n",
    "from datetime import datetime, timedelta\n",
    "import warnings\n",
    "warnings.filterwarnings(action='ignore')"
   ]
  },
  {
   "cell_type": "code",
   "execution_count": 2,
   "metadata": {},
   "outputs": [],
   "source": [
    "isee_machine = pd.read_csv('./data/isee_machine_data_20180901_to_20190331_C123.csv',encoding= 'cp949')\n",
    "\n",
    "# 시간 type 변경\n",
    "isee_machine['creationTime'] = pd.to_datetime(isee_machine['creationTime'],format = '%m/%d/%Y %H:%M')\n",
    "\n",
    "# 인덱스 오름차순으로 재정렬\n",
    "isee_machine = isee_machine.sort_index(ascending = False).reset_index(drop=True)"
   ]
  },
  {
   "cell_type": "code",
   "execution_count": 3,
   "metadata": {},
   "outputs": [],
   "source": [
    "# 시간차 계산 (초)\n",
    "creationtime_diff = []\n",
    "creationtime = isee_machine['creationTime']\n",
    "for i in range(creationtime.shape[0]):\n",
    "    if i == 0:\n",
    "        creationtime_diff.append(0)\n",
    "    else:\n",
    "        diff_seconds = (creationtime[i] - creationtime[i-1]).total_seconds()\n",
    "        creationtime_diff.append(diff_seconds)\n",
    "isee_machine['creationTime_diff'] = creationtime_diff   "
   ]
  },
  {
   "cell_type": "code",
   "execution_count": 4,
   "metadata": {},
   "outputs": [
    {
     "name": "stdout",
     "output_type": "stream",
     "text": [
      "총 데이터 건:  236696\n"
     ]
    }
   ],
   "source": [
    "print('총 데이터 건: ',isee_machine.shape[0])"
   ]
  },
  {
   "cell_type": "markdown",
   "metadata": {},
   "source": [
    "### cycle 컬럼 추가\n",
    "- cycle 기준(초) > 1h == 3600 sec"
   ]
  },
  {
   "cell_type": "code",
   "execution_count": 5,
   "metadata": {},
   "outputs": [],
   "source": [
    "cycle_std_sec = 3600\n",
    "\n",
    "last_cycle_idx = isee_machine[isee_machine.creationTime_diff >= cycle_std_sec].index.tolist()\n",
    "last_cycle_idx.append(len(isee_machine)-1)  #-- 마지막 index 추가\n",
    "\n",
    "cycle_num = []\n",
    "for i, last_idx in enumerate(last_cycle_idx):\n",
    "    if i == 0:\n",
    "        frist_idx = 0\n",
    "    elif i == len(last_cycle_idx)-1:\n",
    "        last_idx = last_idx+1\n",
    "        \n",
    "    num = [i+1 for _ in range(last_idx-frist_idx)]\n",
    "    cycle_num.extend(num)\n",
    "        \n",
    "    frist_idx = last_idx\n",
    "\n",
    "isee_machine['CycleNum'] = cycle_num\n",
    "cycle_len = len(set(cycle_num))"
   ]
  },
  {
   "cell_type": "code",
   "execution_count": 6,
   "metadata": {},
   "outputs": [],
   "source": [
    "# cycle 첫 시작 creationTime_difff를 0으로 \n",
    "for i in range(1,cycle_len+1):\n",
    "    #-- 마지막 cycle의 마지막 데이터 creationTime_diff = 3600 > 60으로\n",
    "    idx = isee_machine[isee_machine.CycleNum == i].index[0]\n",
    "    isee_machine.loc[idx,'creationTime_diff'] = 0\n",
    "        "
   ]
  },
  {
   "cell_type": "markdown",
   "metadata": {},
   "source": [
    "#### 동일 시간은 평균냄"
   ]
  },
  {
   "cell_type": "code",
   "execution_count": 7,
   "metadata": {},
   "outputs": [
    {
     "data": {
      "text/plain": [
       "(142480, 21)"
      ]
     },
     "execution_count": 7,
     "metadata": {},
     "output_type": "execute_result"
    }
   ],
   "source": [
    "use_cols = ['ModuleCount', 'CycleTime', 'VpPosition', 'VpTime','VpPressure', 'MaxInjectionPressure', 'InjectionEndPosition',\n",
    "       'PlasticizingTime', 'PlasticsEndPosotion', 'ClampingTime','MouldOpeningTime', 'HotOilContoller', 'TankTemp', 'NozzleTemp',\n",
    "       'Zone1', 'Zone2', 'Zone3', 'Zone4','CycleNum']\n",
    "\n",
    "data1 = isee_machine.groupby(['creationTime'])[use_cols].mean()\n",
    "\n",
    "data2 = isee_machine.groupby(['creationTime'])[['creationTime_diff']].sum()\n",
    "new_data = pd.merge(data1,data2, how = 'inner',left_index=True, right_index=True)\n",
    "\n",
    "new_data = new_data.reset_index()\n",
    "new_data.shape"
   ]
  },
  {
   "cell_type": "markdown",
   "metadata": {},
   "source": [
    "#### 보간:"
   ]
  },
  {
   "cell_type": "code",
   "execution_count": 8,
   "metadata": {},
   "outputs": [
    {
     "data": {
      "text/plain": [
       "(147890, 20)"
      ]
     },
     "execution_count": 8,
     "metadata": {},
     "output_type": "execute_result"
    }
   ],
   "source": [
    "isee_machine_inter = pd.DataFrame(columns = use_cols)\n",
    "for num in new_data['CycleNum'].unique().tolist():\n",
    "# num = 1\n",
    "    all_time_data = new_data[new_data.CycleNum == num].set_index('creationTime')[use_cols].resample('1T').interpolate().resample('1T').asfreq().dropna()\n",
    "    all_time_data['CycleNum'] = [np.int(num) for _ in range(len(all_time_data))]\n",
    "\n",
    "    isee_machine_inter = pd.concat([isee_machine_inter,all_time_data], axis = 0)\n",
    "    \n",
    "isee_machine_inter = isee_machine_inter.reset_index().rename(columns = {'index':'creationTime'}) \n",
    "isee_machine_inter.shape"
   ]
  },
  {
   "cell_type": "code",
   "execution_count": 9,
   "metadata": {},
   "outputs": [],
   "source": [
    "# 일자컬럼 추가 (object)\n",
    "isee_machine_inter['creationDate'] = isee_machine_inter['creationTime'].dt.date.astype(str)"
   ]
  },
  {
   "cell_type": "code",
   "execution_count": 10,
   "metadata": {},
   "outputs": [],
   "source": [
    "isee_machine_inter['creationHour'] = isee_machine_inter['creationTime'].dt.hour"
   ]
  },
  {
   "cell_type": "code",
   "execution_count": 11,
   "metadata": {},
   "outputs": [],
   "source": [
    "isee_machine_inter['YM'] = isee_machine_inter['creationTime'].dt.strftime('%Y-%m').astype(str)"
   ]
  },
  {
   "cell_type": "markdown",
   "metadata": {},
   "source": [
    "### 가동 (초기,중기, 말기) 라벨링\n",
    "- beginning_std_min : 초기기준 (시각~ 00분까지 / 분으로 계산하여 삽입)\n",
    "- end_std_min: 말기기준(00분 ~ 끝 /  분으로 계산하여 삽입)"
   ]
  },
  {
   "cell_type": "code",
   "execution_count": 12,
   "metadata": {},
   "outputs": [],
   "source": [
    "beginning_std_min = 5\n",
    "end_std_min = 5\n",
    "\n",
    "operation_label = []\n",
    "cycle_num = list(isee_machine_inter['CycleNum'].unique())\n",
    "for c in cycle_num : \n",
    "    data = isee_machine_inter[isee_machine_inter.CycleNum == c ].reset_index(drop = True)\n",
    "    frist_cycle_time = data['creationTime'].iloc[0]\n",
    "    last_cycle_time = data['creationTime'].iloc[-1]\n",
    "    cnt = 0\n",
    "    for idx, time in enumerate(data['creationTime']):\n",
    "        if time <= (frist_cycle_time + timedelta(minutes = +beginning_std_min)):  # 초기 \n",
    "            operation_label.append(0)\n",
    "        elif time >= (last_cycle_time + timedelta(minutes = -end_std_min)): # 말기 \n",
    "            operation_label.append(2)\n",
    "        else : \n",
    "            operation_label.append(1)\n",
    "        \n",
    "isee_machine_inter['Operation_label'] = operation_label"
   ]
  },
  {
   "cell_type": "code",
   "execution_count": 13,
   "metadata": {
    "scrolled": true
   },
   "outputs": [
    {
     "data": {
      "text/plain": [
       "63"
      ]
     },
     "execution_count": 13,
     "metadata": {},
     "output_type": "execute_result"
    }
   ],
   "source": [
    "### 실제 라벨링# 한 cycle에 다른 날짜 확인 >  63개\n",
    "oneCycle_diffDate = {}\n",
    "cycle_num = list(isee_machine_inter['CycleNum'].unique())\n",
    "for c in cycle_num : \n",
    "    data = isee_machine_inter[isee_machine_inter.CycleNum == c ].reset_index(drop = True)\n",
    "    date = data['creationDate'].unique()\n",
    "    if date.shape[0] != 1:\n",
    "        oneCycle_diffDate[c] = date\n",
    "len(oneCycle_diffDate)"
   ]
  },
  {
   "cell_type": "markdown",
   "metadata": {},
   "source": [
    "### NG라벨링\n",
    "- quality 파일에 있는 모든 데이터를 이상이라고 봄"
   ]
  },
  {
   "cell_type": "code",
   "execution_count": 14,
   "metadata": {},
   "outputs": [],
   "source": [
    "quality = pd.read_csv('./data/isee_quality_data_20180901_to_201902.csv',encoding= 'cp949')\n",
    "quality['CreationTime']  = pd.to_datetime(quality['CreationTime'],format = '%m/%d/%Y %H:%M')\n",
    "\n",
    "qua_createtime = pd.Series(quality.groupby(['CreationTime']).count().reset_index()['CreationTime'])"
   ]
  },
  {
   "cell_type": "markdown",
   "metadata": {},
   "source": [
    "- Qua_Mach_YN(quality와 매칭되지 않는 기간) == 0"
   ]
  },
  {
   "cell_type": "code",
   "execution_count": 15,
   "metadata": {},
   "outputs": [],
   "source": [
    "isee_machine_inter['Qua_Match_YN'] = 0\n",
    "isee_machine_inter['Qua_Match_YN'].loc[isee_machine_inter['creationTime'] <= qua_createtime.iloc[-1]] = 1"
   ]
  },
  {
   "cell_type": "code",
   "execution_count": 16,
   "metadata": {},
   "outputs": [],
   "source": [
    "mer_df = pd.merge(isee_machine_inter[isee_machine_inter.Qua_Match_YN == 1], qua_createtime, how = 'left',left_on='creationTime', right_on='CreationTime')\n",
    "\n",
    "mer_df['CreationTime'].loc[~mer_df.CreationTime.isnull()] = 1\n",
    "mer_df['CreationTime'].loc[mer_df.CreationTime.isnull()] = 0"
   ]
  },
  {
   "cell_type": "code",
   "execution_count": 17,
   "metadata": {},
   "outputs": [],
   "source": [
    "mer_df = mer_df.rename(columns = {'CreationTime':'NG'})"
   ]
  },
  {
   "cell_type": "code",
   "execution_count": 18,
   "metadata": {},
   "outputs": [
    {
     "name": "stdout",
     "output_type": "stream",
     "text": [
      "매칭되지 않은 라벨 건:  340\n",
      "매칭된 라벨 건:  4879\n"
     ]
    }
   ],
   "source": [
    "print('매칭되지 않은 라벨 건: ',len(qua_createtime) - len(mer_df[mer_df.NG == 1]['creationTime'].unique()))\n",
    "print('매칭된 라벨 건: ',len(mer_df[mer_df.NG == 1]['creationTime'].unique()))"
   ]
  },
  {
   "cell_type": "markdown",
   "metadata": {},
   "source": [
    "### NG5 라벨링\n",
    "- 불량 시간 5분전도 불량으로 라벨링"
   ]
  },
  {
   "cell_type": "code",
   "execution_count": 19,
   "metadata": {},
   "outputs": [],
   "source": [
    "# 불량 발생 5분 전도 불량으로 책정\n",
    "add_f_min = 5 \n",
    "add_date = []\n",
    "for date in qua_createtime:\n",
    "    minutes = 0\n",
    "    for i in range(1,add_f_min+1):   \n",
    "        minutes = i*60\n",
    "        add_date.append(date-timedelta(0,minutes))\n",
    "add_date = pd.Series(add_date)        "
   ]
  },
  {
   "cell_type": "code",
   "execution_count": 20,
   "metadata": {},
   "outputs": [],
   "source": [
    "qua_createtime_5 = pd.Series(pd.concat([qua_createtime,add_date]).unique(),name = 'NG5')"
   ]
  },
  {
   "cell_type": "code",
   "execution_count": 21,
   "metadata": {},
   "outputs": [],
   "source": [
    "mer_df = pd.merge(mer_df, qua_createtime_5, how = 'left',left_on='creationTime', right_on='NG5')\n",
    "\n",
    "mer_df['NG5'].loc[~mer_df.NG5.isnull()] = 1\n",
    "mer_df['NG5'].loc[mer_df.NG5.isnull()] = 0"
   ]
  },
  {
   "cell_type": "code",
   "execution_count": 22,
   "metadata": {},
   "outputs": [],
   "source": [
    "# mer_df[mer_df.creationTime.astype(str).str.startswith('2018-09-07 02:2')][['creationTime','NG','NG5']]"
   ]
  },
  {
   "cell_type": "code",
   "execution_count": 23,
   "metadata": {},
   "outputs": [
    {
     "name": "stdout",
     "output_type": "stream",
     "text": [
      "qua_createtime_5 :  18883\n",
      "매칭되지 않은 라벨 건:  1179\n",
      "매칭된 않은 라벨 건:  17704\n"
     ]
    }
   ],
   "source": [
    "print('qua_createtime_5 : ',len(qua_createtime_5))\n",
    "print('매칭되지 않은 라벨 건: ',len(qua_createtime_5) - len(mer_df[mer_df.NG5 == 1]['creationTime'].unique()))\n",
    "print('매칭된 않은 라벨 건: ',len(mer_df[mer_df.NG5 == 1]['creationTime'].unique()))"
   ]
  },
  {
   "cell_type": "code",
   "execution_count": 24,
   "metadata": {},
   "outputs": [
    {
     "name": "stdout",
     "output_type": "stream",
     "text": [
      "총 데이터 건:  118793\n",
      "cycle 수:  124\n",
      "NG라벨 불량 건:  4879\n",
      "NG라벨 정상 건:  113914\n",
      "NG5라벨 불량 건:  17704\n",
      "NG5라벨 정상 건:  101089\n"
     ]
    }
   ],
   "source": [
    "print('총 데이터 건: ',mer_df.shape[0])\n",
    "print('cycle 수: ',mer_df['CycleNum'].unique().shape[0])\n",
    "print('NG라벨 불량 건: ',mer_df[mer_df.NG == 1].shape[0])\n",
    "print('NG라벨 정상 건: ',mer_df[mer_df.NG != 1].shape[0])\n",
    "print('NG5라벨 불량 건: ',mer_df[mer_df.NG5 == 1].shape[0])\n",
    "print('NG5라벨 정상 건: ',mer_df[mer_df.NG5 != 1].shape[0])"
   ]
  },
  {
   "cell_type": "code",
   "execution_count": 25,
   "metadata": {},
   "outputs": [],
   "source": [
    "mer_df.to_csv('./data/machine_NG_inter.csv',index = False)"
   ]
  },
  {
   "cell_type": "markdown",
   "metadata": {},
   "source": [
    "### 원본(isee_machine)에 NG, NG5 붙이기\n",
    "- NG : 0정상, 1이상\n",
    "- NG5 : 0정상, 1이상\n",
    "##### ***관련 없는 (Qua_Match_YN == 1) 부분도 정상으로 됨"
   ]
  },
  {
   "cell_type": "code",
   "execution_count": 26,
   "metadata": {},
   "outputs": [],
   "source": [
    "isee_machine_inter['NG'] = 0\n",
    "isee_machine_inter['NG'].iloc[mer_df.index] = mer_df['NG']"
   ]
  },
  {
   "cell_type": "code",
   "execution_count": 27,
   "metadata": {},
   "outputs": [],
   "source": [
    "isee_machine_inter['NG5'] = 0\n",
    "isee_machine_inter['NG5'].loc[mer_df.index] = mer_df['NG5']"
   ]
  },
  {
   "cell_type": "code",
   "execution_count": 28,
   "metadata": {},
   "outputs": [
    {
     "name": "stdout",
     "output_type": "stream",
     "text": [
      "총 데이터 건:  147890\n",
      "cycle 수:  160\n",
      "NG라벨 불량 건:  4879\n",
      "NG라벨 정상 건:  143011\n",
      "NG5라벨 불량 건:  17704\n",
      "NG5라벨 정상 건:  130186\n"
     ]
    }
   ],
   "source": [
    "print('총 데이터 건: ',isee_machine_inter.shape[0])\n",
    "print('cycle 수: ',isee_machine_inter['CycleNum'].unique().shape[0])\n",
    "print('NG라벨 불량 건: ',isee_machine_inter[isee_machine_inter.NG == 1].shape[0])\n",
    "print('NG라벨 정상 건: ',isee_machine_inter[isee_machine_inter.NG == 0].shape[0])\n",
    "print('NG5라벨 불량 건: ',isee_machine_inter[isee_machine_inter.NG5 == 1].shape[0])\n",
    "print('NG5라벨 정상 건: ',isee_machine_inter[isee_machine_inter.NG5 == 0].shape[0])"
   ]
  },
  {
   "cell_type": "code",
   "execution_count": 29,
   "metadata": {},
   "outputs": [],
   "source": [
    "isee_machine_inter.to_csv('./data/isee_machine_NG_inter.csv',index = False)"
   ]
  },
  {
   "cell_type": "markdown",
   "metadata": {},
   "source": [
    "### 불량 cycle check"
   ]
  },
  {
   "cell_type": "code",
   "execution_count": 30,
   "metadata": {},
   "outputs": [],
   "source": [
    "# y_cycle_num = list(mer_df[mer_df.NG == 1]['CycleNum'].unique())\n",
    "\n",
    "# for num in y_cycle_num:\n",
    "#     date = list(mer_df[(mer_df.NG == 1) & (mer_df.CycleNum == num)]['creationDate'].unique())\n",
    "#     print('Cycle {} : {}'.format(num,date))"
   ]
  },
  {
   "cell_type": "code",
   "execution_count": 31,
   "metadata": {},
   "outputs": [],
   "source": [
    "# cycle별 시작 시간과 끝난 시간\n",
    "\n",
    "# isee_machine_inter = pd.read_csv('./data/isee_machine_NG.csv')\n",
    "# isee_machine_inter['creationTime'] = pd.to_datetime(isee_machine_inter['creationTime'])\n",
    "\n",
    "fl_dic = {}\n",
    "for i in np.unique(isee_machine_inter['CycleNum']):\n",
    "    df = isee_machine_inter[isee_machine_inter['CycleNum']==i]\n",
    "    df = df.reset_index(drop=True)\n",
    "    firsttime = df.loc[0]['creationTime']\n",
    "    lasttime = df.loc[len(df)-1]['creationTime']\n",
    "    fl_dic[i] = (firsttime, lasttime)\n",
    "\n",
    "time_df = pd.DataFrame(fl_dic).T\n",
    "time_df = time_df.reset_index()\n",
    "time_df.columns = ['CycleNum','start','finish']\n",
    "\n",
    "time_df['s_date'] = time_df.start.dt.strftime('%Y-%m-%d').astype(str)\n",
    "time_df['s_year'] = time_df.start.dt.strftime('%Y').astype(str)\n",
    "time_df['s_month'] = time_df.start.dt.strftime('%m').astype(str)\n",
    "time_df['s_day'] = time_df.start.dt.strftime('%d').astype(str)\n",
    "time_df['s_hour'] = time_df.start.dt.strftime('%H').astype(str)\n",
    "time_df['s_miniute'] = time_df.start.dt.strftime('%M').astype(str)\n",
    "\n",
    "time_df['f_date'] = time_df.finish.dt.strftime('%Y-%m-%d').astype(str)\n",
    "time_df['f_year'] = time_df.finish.dt.strftime('%Y').astype(str)\n",
    "time_df['f_month'] = time_df.finish.dt.strftime('%m').astype(str)\n",
    "time_df['f_day'] = time_df.finish.dt.strftime('%d').astype(str)\n",
    "time_df['f_hour'] = time_df.finish.dt.strftime('%H').astype(str)\n",
    "time_df['f_miniute'] = time_df.finish.dt.strftime('%M').astype(str)\n",
    "time_df['time_diff_sec'] =(time_df.finish - time_df.start).dt.total_seconds().astype(int)\n",
    "\n",
    "time_df.drop(['start','finish'],axis=1).to_csv('./result/isee_machine/cycle_start_end_inter.csv',\n",
    "                                              index = False)"
   ]
  },
  {
   "cell_type": "code",
   "execution_count": null,
   "metadata": {},
   "outputs": [],
   "source": []
  }
 ],
 "metadata": {
  "kernelspec": {
   "display_name": "Python 3",
   "language": "python",
   "name": "python3"
  },
  "language_info": {
   "codemirror_mode": {
    "name": "ipython",
    "version": 3
   },
   "file_extension": ".py",
   "mimetype": "text/x-python",
   "name": "python",
   "nbconvert_exporter": "python",
   "pygments_lexer": "ipython3",
   "version": "3.6.8"
  }
 },
 "nbformat": 4,
 "nbformat_minor": 2
}
