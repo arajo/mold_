{
 "cells": [
  {
   "cell_type": "code",
   "execution_count": 1,
   "metadata": {},
   "outputs": [
    {
     "name": "stderr",
     "output_type": "stream",
     "text": [
      "Using TensorFlow backend.\n"
     ]
    },
    {
     "name": "stdout",
     "output_type": "stream",
     "text": [
      "importing Jupyter notebook from isee_def.ipynb\n"
     ]
    }
   ],
   "source": [
    "import numpy as np\n",
    "import pandas as pd\n",
    "from keras.layers import Dense, LSTM, BatchNormalization, MaxPool1D\n",
    "from keras.models import Sequential\n",
    "from keras.preprocessing import sequence\n",
    "from keras.layers.convolutional import Conv1D\n",
    "\n",
    "from sklearn.preprocessing import RobustScaler\n",
    "import import_ipynb\n",
    "import isee_def"
   ]
  },
  {
   "cell_type": "code",
   "execution_count": 2,
   "metadata": {},
   "outputs": [],
   "source": [
    "####################################\n",
    "# train 데이터 load\n",
    "####################################\n",
    "\n",
    "isee_machine = pd.read_csv('./data/isee_machine_middle_NG_inter_MapNorm_combined_label.csv')\n",
    "prod_list = isee_machine.ProductNum.unique()\n",
    "isee_machine = isee_machine[isee_machine.ProductNum == prod_list[0]]\n",
    "\n",
    "###### prod_list[0] 제품에 대해서만 분석\n",
    "\n",
    "analy_col = ['CycleTime', 'VpPosition', 'VpTime',\n",
    "        'VpPressure', 'MaxInjectionPressure', 'InjectionEndPosition',\n",
    "        'PlasticizingTime', 'PlasticsEndPosotion', 'ClampingTime',\n",
    "        'MouldOpeningTime', 'HotOilContoller', 'TankTemp', 'NozzleTemp',\n",
    "        'Zone1', 'Zone2', 'Zone3', 'Zone4'] \n",
    "isee_machine['NG_Label'] = isee_machine['NG'] + isee_machine['NG5']"
   ]
  },
  {
   "cell_type": "code",
   "execution_count": 3,
   "metadata": {},
   "outputs": [],
   "source": [
    "feature = isee_machine[analy_col]\n",
    "y_label = isee_machine[['combined_label','CycleNum','NG_Label']]\n",
    "scaled_X = pd.DataFrame(RobustScaler().fit_transform(feature), columns=feature.columns, index=isee_machine.index)\n",
    "scaled_df = pd.concat([scaled_X, y_label], axis=1)"
   ]
  },
  {
   "cell_type": "markdown",
   "metadata": {},
   "source": [
    "- X: train data set 생성\n",
    "- label: train data set에 해당하는 라벨(sequence의 마지막 값을 라벨로 지정)"
   ]
  },
  {
   "cell_type": "code",
   "execution_count": null,
   "metadata": {},
   "outputs": [],
   "source": [
    "w=20    # window size\n",
    "s=4     # stride\n",
    "X = np.zeros((w, len(feature.columns)))\n",
    "label = []\n",
    "for c in scaled_df['CycleNum'].unique():\n",
    "    df = scaled_df[scaled_df['CycleNum']==c]\n",
    "    df = df.reset_index(drop=True)\n",
    "    for i in range(int((len(df)-w)/s)):\n",
    "        X = np.concatenate((X, df.loc[s*i:s*i+w-1][feature.columns].values)) \n",
    "        label.append(df.loc[s*i+w]['combined_label'])"
   ]
  },
  {
   "cell_type": "code",
   "execution_count": null,
   "metadata": {},
   "outputs": [],
   "source": [
    "# y가 0,1,2일 때\n",
    "# y = pd.get_dummies(label).values\n",
    "\n",
    "# yy: binary로만 보고싶을때\n",
    "y = [0 if x == 0 else 1 for x in label]  "
   ]
  },
  {
   "cell_type": "code",
   "execution_count": 21,
   "metadata": {},
   "outputs": [],
   "source": [
    "X = X.reshape(-1,w, len(feature.columns))\n",
    "X = X[1:]"
   ]
  },
  {
   "cell_type": "code",
   "execution_count": 40,
   "metadata": {
    "scrolled": true
   },
   "outputs": [
    {
     "name": "stdout",
     "output_type": "stream",
     "text": [
      "Epoch 1/20\n",
      "14157/14157 [==============================] - 22s 2ms/step - loss: 0.2650 - acc: 0.9145: 0s - loss: 0.2655 - acc: 0.91\n",
      "Epoch 2/20\n",
      "14157/14157 [==============================] - 17s 1ms/step - loss: 0.2358 - acc: 0.9248\n",
      "Epoch 3/20\n",
      "14157/14157 [==============================] - 16s 1ms/step - loss: 0.2251 - acc: 0.9289\n",
      "Epoch 4/20\n",
      "14157/14157 [==============================] - 19s 1ms/step - loss: 0.2222 - acc: 0.9294: 0s - loss: 0.2225 - acc:\n",
      "Epoch 5/20\n",
      "14157/14157 [==============================] - 20s 1ms/step - loss: 0.2171 - acc: 0.9308\n",
      "Epoch 6/20\n",
      "14157/14157 [==============================] - 20s 1ms/step - loss: 0.2169 - acc: 0.9303\n",
      "Epoch 7/20\n",
      "14157/14157 [==============================] - 20s 1ms/step - loss: 0.2118 - acc: 0.9332\n",
      "Epoch 8/20\n",
      "14157/14157 [==============================] - 17s 1ms/step - loss: 0.2086 - acc: 0.9341\n",
      "Epoch 9/20\n",
      "14157/14157 [==============================] - 16s 1ms/step - loss: 0.2068 - acc: 0.9354\n",
      "Epoch 10/20\n",
      "14157/14157 [==============================] - 16s 1ms/step - loss: 0.2040 - acc: 0.9366\n",
      "Epoch 11/20\n",
      "14157/14157 [==============================] - 17s 1ms/step - loss: 0.2009 - acc: 0.9370\n",
      "Epoch 12/20\n",
      "14157/14157 [==============================] - 15s 1ms/step - loss: 0.1993 - acc: 0.9375\n",
      "Epoch 13/20\n",
      "14157/14157 [==============================] - 15s 1ms/step - loss: 0.1976 - acc: 0.9394\n",
      "Epoch 14/20\n",
      "14157/14157 [==============================] - 17s 1ms/step - loss: 0.1949 - acc: 0.9400\n",
      "Epoch 15/20\n",
      "14157/14157 [==============================] - 15s 1ms/step - loss: 0.1920 - acc: 0.9409\n",
      "Epoch 16/20\n",
      "14157/14157 [==============================] - 16s 1ms/step - loss: 0.1904 - acc: 0.9416\n",
      "Epoch 17/20\n",
      "14157/14157 [==============================] - 19s 1ms/step - loss: 0.1891 - acc: 0.9412\n",
      "Epoch 18/20\n",
      "14157/14157 [==============================] - 18s 1ms/step - loss: 0.1874 - acc: 0.9414\n",
      "Epoch 19/20\n",
      "14157/14157 [==============================] - 16s 1ms/step - loss: 0.1836 - acc: 0.9422\n",
      "Epoch 20/20\n",
      "14157/14157 [==============================] - 17s 1ms/step - loss: 0.1829 - acc: 0.9438\n"
     ]
    },
    {
     "data": {
      "text/plain": [
       "<keras.callbacks.History at 0x25c229d0400>"
      ]
     },
     "execution_count": 40,
     "metadata": {},
     "output_type": "execute_result"
    }
   ],
   "source": [
    "#############################\n",
    "# create the model\n",
    "#############################\n",
    "model = Sequential()\n",
    "#model.add(Conv1D(filters= 64, kernel_size=3, padding='same', activation='relu'))\n",
    "#model.add(BatchNormalization())\n",
    "model.add(LSTM(100, activation = 'tanh', return_sequences= True, input_shape=(w, len(feature.columns))))\n",
    "model.add(LSTM(50, activation = 'tanh'))\n",
    "model.add(Dense(1, activation='sigmoid'))\n",
    "model.compile(loss='binary_crossentropy', optimizer='adam', metrics=['accuracy'])\n",
    "model.fit(X, y, epochs=50, batch_size=32)\n",
    "\n",
    "#print(model.summary())"
   ]
  },
  {
   "cell_type": "code",
   "execution_count": 41,
   "metadata": {},
   "outputs": [],
   "source": [
    "####################################\n",
    "# test 데이터 load\n",
    "####################################\n",
    "#ori_test = pd.read_csv('./data/test_FD0001_true5.csv',encoding= 'cp949')"
   ]
  },
  {
   "cell_type": "code",
   "execution_count": 42,
   "metadata": {
    "scrolled": true
   },
   "outputs": [
    {
     "name": "stdout",
     "output_type": "stream",
     "text": [
      "14157/14157 [==============================] - 6s 415us/step\n"
     ]
    },
    {
     "data": {
      "text/plain": [
       "[0.17622725329728328, 0.9451861270043088]"
      ]
     },
     "execution_count": 42,
     "metadata": {},
     "output_type": "execute_result"
    }
   ],
   "source": [
    "####################################\n",
    "# model 평가\n",
    "####################################\n",
    "scores = model.evaluate(X, y)\n",
    "scores"
   ]
  },
  {
   "cell_type": "code",
   "execution_count": 43,
   "metadata": {},
   "outputs": [
    {
     "data": {
      "text/plain": [
       "array([0, 1])"
      ]
     },
     "execution_count": 43,
     "metadata": {},
     "output_type": "execute_result"
    }
   ],
   "source": [
    "y_pre = model.predict_classes(X)\n",
    "np.unique(y_pre)"
   ]
  },
  {
   "cell_type": "code",
   "execution_count": 44,
   "metadata": {},
   "outputs": [
    {
     "data": {
      "text/plain": [
       "<matplotlib.axes._subplots.AxesSubplot at 0x25c2267ea90>"
      ]
     },
     "execution_count": 44,
     "metadata": {},
     "output_type": "execute_result"
    },
    {
     "data": {
      "image/png": "[encoded data removed]",
      "text/plain": [
       "<Figure size 432x288 with 2 Axes>"
      ]
     },
     "metadata": {
      "needs_background": "light"
     },
     "output_type": "display_data"
    }
   ],
   "source": [
    "### plot confusion matrix\n",
    "from sklearn.metrics import confusion_matrix, classification_report\n",
    "import matplotlib.pyplot as plt\n",
    "import seaborn as sn\n",
    "%matplotlib inline\n",
    "\n",
    "df_cm = pd.DataFrame(confusion_matrix(label, y_pre))\n",
    "plt.figure()\n",
    "sn.heatmap(df_cm, annot=True, fmt='d')"
   ]
  },
  {
   "cell_type": "code",
   "execution_count": 45,
   "metadata": {},
   "outputs": [
    {
     "name": "stdout",
     "output_type": "stream",
     "text": [
      "              precision    recall  f1-score   support\n",
      "\n",
      "         0.0       0.95      0.99      0.97     11933\n",
      "         1.0       0.33      0.47      0.39      1165\n",
      "         2.0       0.00      0.00      0.00       633\n",
      "         3.0       0.00      0.00      0.00       224\n",
      "         4.0       0.00      0.00      0.00       185\n",
      "         5.0       0.00      0.00      0.00        17\n",
      "\n",
      "   micro avg       0.87      0.87      0.87     14157\n",
      "   macro avg       0.21      0.24      0.23     14157\n",
      "weighted avg       0.82      0.87      0.85     14157\n",
      "\n"
     ]
    },
    {
     "name": "stderr",
     "output_type": "stream",
     "text": [
      "C:\\Users\\ARA\\Anaconda3\\envs\\tensorflow\\lib\\site-packages\\sklearn\\metrics\\classification.py:1143: UndefinedMetricWarning: Precision and F-score are ill-defined and being set to 0.0 in labels with no predicted samples.\n",
      "  'precision', 'predicted', average, warn_for)\n",
      "C:\\Users\\ARA\\Anaconda3\\envs\\tensorflow\\lib\\site-packages\\sklearn\\metrics\\classification.py:1143: UndefinedMetricWarning: Precision and F-score are ill-defined and being set to 0.0 in labels with no predicted samples.\n",
      "  'precision', 'predicted', average, warn_for)\n",
      "C:\\Users\\ARA\\Anaconda3\\envs\\tensorflow\\lib\\site-packages\\sklearn\\metrics\\classification.py:1143: UndefinedMetricWarning: Precision and F-score are ill-defined and being set to 0.0 in labels with no predicted samples.\n",
      "  'precision', 'predicted', average, warn_for)\n"
     ]
    }
   ],
   "source": [
    "print(classification_report(label, y_pre))"
   ]
  }
 ],
 "metadata": {
  "kernelspec": {
   "display_name": "Python 3",
   "language": "python",
   "name": "python3"
  },
  "language_info": {
   "codemirror_mode": {
    "name": "ipython",
    "version": 3
   },
   "file_extension": ".py",
   "mimetype": "text/x-python",
   "name": "python",
   "nbconvert_exporter": "python",
   "pygments_lexer": "ipython3",
   "version": "3.6.8"
  }
 },
 "nbformat": 4,
 "nbformat_minor": 4
}
