{
 "cells": [
  {
   "cell_type": "code",
   "execution_count": 2,
   "metadata": {},
   "outputs": [],
   "source": [
    "import pandas as pd\n",
    "import numpy as np\n",
    "import datetime\n",
    "from sklearn.manifold import TSNE\n",
    "\n",
    "import matplotlib.pyplot as plt\n",
    "%matplotlib inline\n",
    "import altair as alt"
   ]
  },
  {
   "cell_type": "code",
   "execution_count": 3,
   "metadata": {},
   "outputs": [],
   "source": [
    "def draw_tsne(matrix, label, randIdx):\n",
    "    \n",
    "    df = pd.DataFrame(matrix)\n",
    "    df['label'] =label\n",
    "    \n",
    "    rand_df = df.loc[randIdx]\n",
    "    \n",
    "    matrix = rand_df.drop(['label'], axis=1)\n",
    "    label = rand_df['label'].values\n",
    "    \n",
    "    # perplexity 조정에 따른 결과 변화\n",
    "    plots = []\n",
    "    tsne_result = {}\n",
    "    for perplexity in [10,20, 30 ,50]: #  \n",
    "        tsne_result[perplexity] = TSNE(n_components=2, perplexity=perplexity, learning_rate=100, init='pca').fit_transform(matrix)\n",
    "        df_tsne_result = (pd.DataFrame(tsne_result[perplexity], columns=['v0','v1']).assign())\n",
    "        df_tsne_result['label']= label\n",
    "        \n",
    "        base = alt.Chart(df_tsne_result).encode(x='v0:Q',y='v1:Q', color='label:N').properties(width=400, height=200, title='perplexity = {:.2f}'.format(perplexity))    \n",
    "        mark = base.mark_point()\n",
    "        #ine = base.mark_line().encode(order=alt.Order(\"Index\", sort=\"ascending\"))\n",
    "        \n",
    "        chart = mark \n",
    "        \n",
    "        plots.append(chart)\n",
    "        # alt.vconcat(plots[0], plots[1], plots[2], plots[3])    \n",
    "    return tsne_result, plots"
   ]
  },
  {
   "cell_type": "code",
   "execution_count": 4,
   "metadata": {},
   "outputs": [],
   "source": [
    "def plot_cycle(scaled_df, drawcol_list, CycleNum_col):\n",
    "    for col in drawcol_list:\n",
    "        plt.figure()\n",
    "        plt.rcParams[\"figure.figsize\"] = (14,270)\n",
    "        miny = scaled_df[col].min()\n",
    "        maxy = scaled_df[col].max()\n",
    "\n",
    "        plt.subplots_adjust(hspace = 1, wspace = 0.3)\n",
    "\n",
    "        uniq_cycle = scaled_df[CycleNum_col].unique()\n",
    "        num_cycle = len(uniq_cycle)\n",
    "        w= 1 # subplot 가로 개수\n",
    "        h = np.ceil(num_cycle/w)  # subplot 세로 개수\n",
    "        i=1\n",
    "\n",
    "        for cycle in uniq_cycle:     \n",
    "            df = scaled_df[scaled_df[CycleNum_col]==cycle]\n",
    "            plt.subplot(h,w,i)\n",
    "            plt.plot(df[col])\n",
    "            plt.ylim([miny*0.9, maxy*1.1])\n",
    "            plt.title('cycle: '+str(int(cycle)) + ', num of data: '+ str(int(len(df)))+ ', dates: '+ str(np.unique(df['creationDate'])))\n",
    "            i+=1\n",
    "        plt.show()\n",
    "        break\n",
    "        #plt.savefig('./output/column_graphs/'+str(col)+'.png')\n",
    "        print(col, ' 완료!!!!!!')"
   ]
  },
  {
   "cell_type": "code",
   "execution_count": 5,
   "metadata": {},
   "outputs": [],
   "source": [
    "def plot_1column(data_df, col_name, idx_list, p=0):      \n",
    "    col = col_name  # 보고싶은 컬럼\n",
    "    fig = plt.figure(figsize=(20,60))\n",
    "    plt.subplots_adjust(hspace = 0.5, wspace = 0.3)\n",
    "    x = len(idx_list)-1  \n",
    "        \n",
    "    for n in range(x):\n",
    "        v = 5   #가로 갯수\n",
    "        ax =fig.add_subplot(np.ceil(x/v), v, n+1)\n",
    "        df = data_df.loc[idx_list[n]:idx_list[n+1]]\n",
    "        miny = df[col].min()\n",
    "        maxy = df[col].max()\n",
    "        \n",
    "        ax.set_ylim([0.9*miny, 1.1*maxy])\n",
    "        \n",
    "        if len(df) < 50 : continue\n",
    "        ax.plot(df[col])\n",
    "        ax.set_title(df['creationDate'][idx_list[n]]+' :'+str(idx_list[n+1]-idx_list[n])+' :'+ str(n))"
   ]
  },
  {
   "cell_type": "code",
   "execution_count": 7,
   "metadata": {},
   "outputs": [],
   "source": [
    "def get_analy_df(isee_machine):\n",
    "    feature = isee_machine[[ 'CycleTime', 'VpPosition', 'VpTime',\n",
    "       'VpPressure', 'MaxInjectionPressure', 'InjectionEndPosition',\n",
    "       'PlasticizingTime', 'PlasticsEndPosotion', 'ClampingTime',\n",
    "       'MouldOpeningTime', 'HotOilContoller', 'TankTemp', 'NozzleTemp',\n",
    "       'Zone1', 'Zone2', 'Zone3', 'Zone4']]  # , 'encoding'\n",
    "    return feature"
   ]
  },
  {
   "cell_type": "code",
   "execution_count": 2,
   "metadata": {},
   "outputs": [],
   "source": [
    "def get_analy_enc_df(isee_machine):\n",
    "    feature = isee_machine[[ 'CycleTime', 'VpPosition', 'VpTime',\n",
    "       'VpPressure', 'MaxInjectionPressure', 'InjectionEndPosition',\n",
    "       'PlasticizingTime', 'PlasticsEndPosotion', 'ClampingTime',\n",
    "       'MouldOpeningTime', 'HotOilContoller', 'TankTemp', 'NozzleTemp',\n",
    "       'Zone1', 'Zone2', 'Zone3', 'Zone4', 'encoding']]   \n",
    "    return feature"
   ]
  }
 ],
 "metadata": {
  "kernelspec": {
   "display_name": "Python 3",
   "language": "python",
   "name": "python3"
  },
  "language_info": {
   "codemirror_mode": {
    "name": "ipython",
    "version": 3
   },
   "file_extension": ".py",
   "mimetype": "text/x-python",
   "name": "python",
   "nbconvert_exporter": "python",
   "pygments_lexer": "ipython3",
   "version": "3.7.0"
  }
 },
 "nbformat": 4,
 "nbformat_minor": 4
}
