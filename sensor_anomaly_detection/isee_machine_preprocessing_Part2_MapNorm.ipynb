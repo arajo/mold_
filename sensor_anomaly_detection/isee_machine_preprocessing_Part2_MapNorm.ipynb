{
 "cells": [
  {
   "cell_type": "markdown",
   "metadata": {},
   "source": [
    "# isee_machine & cycle_product\n",
    "- isee_machine_NG + cycle-product\n",
    "- 제품구분 통합\n",
    "- 필요없는 row, cols 제거"
   ]
  },
  {
   "cell_type": "code",
   "execution_count": 15,
   "metadata": {},
   "outputs": [],
   "source": [
    "import pandas as pd\n",
    "import warnings\n",
    "warnings.filterwarnings(action='ignore')"
   ]
  },
  {
   "cell_type": "markdown",
   "metadata": {},
   "source": [
    "## Merge"
   ]
  },
  {
   "cell_type": "code",
   "execution_count": 16,
   "metadata": {},
   "outputs": [],
   "source": [
    "machine = pd.read_csv('./data/isee_machine_NG.csv')\n",
    "product = pd.read_csv('./data/cycle-product.csv')\n",
    "\n",
    "# 시간 type 변경\n",
    "machine['creationTime'] = pd.to_datetime(machine['creationTime'],format = '%Y-%m-%d %H:%M')"
   ]
  },
  {
   "cell_type": "code",
   "execution_count": 17,
   "metadata": {},
   "outputs": [],
   "source": [
    "mer_df = pd.merge(machine,product, how= 'left', left_on = 'CycleNum', right_on ='CycleNum')\n",
    "mer_df.to_csv('./data/isee_match_NG.csv',index = False)"
   ]
  },
  {
   "cell_type": "code",
   "execution_count": 18,
   "metadata": {},
   "outputs": [],
   "source": [
    "match_df = mer_df[(mer_df.Qua_Match_YN == 1) & (~mer_df.ProductNum.isnull())]"
   ]
  },
  {
   "cell_type": "markdown",
   "metadata": {},
   "source": [
    "## Map data to a normal distribution"
   ]
  },
  {
   "cell_type": "code",
   "execution_count": 19,
   "metadata": {},
   "outputs": [],
   "source": [
    "from sklearn.preprocessing import QuantileTransformer"
   ]
  },
  {
   "cell_type": "code",
   "execution_count": 20,
   "metadata": {},
   "outputs": [],
   "source": [
    "analy_cols = ['CycleTime', 'VpPosition', 'VpTime','VpPressure', 'MaxInjectionPressure', 'InjectionEndPosition',\n",
    "              'PlasticizingTime', 'PlasticsEndPosotion', 'ClampingTime', 'MouldOpeningTime', 'HotOilContoller', 'TankTemp', 'NozzleTemp',\n",
    "              'Zone1', 'Zone2', 'Zone3', 'Zone4']\n",
    "\n",
    "map_nomal_df = mer_df[analy_cols]\n",
    "\n",
    "qt = QuantileTransformer(output_distribution='normal', random_state=2019)\n",
    "map_nomal_df = qt.fit_transform(map_nomal_df)\n",
    "mer_df[analy_cols] = map_nomal_df\n"
   ]
  },
  {
   "cell_type": "code",
   "execution_count": 21,
   "metadata": {},
   "outputs": [],
   "source": [
    "# 정규화 한 후 전체 : 236696건\n",
    "mer_df.to_csv('./data/isee_match_NG_MapNorm.csv',index = False)"
   ]
  },
  {
   "cell_type": "code",
   "execution_count": 22,
   "metadata": {},
   "outputs": [],
   "source": [
    "#match_df.groupby(['ProductNum']).describe().T.to_excel('./result/isee_machine/describe_productNum_MapNorm.xlsx')"
   ]
  },
  {
   "cell_type": "markdown",
   "metadata": {},
   "source": [
    "### cycle 처음과 끝의 시간차이가 1시간 미만 제거\n",
    "- 초기, 중기, 말기가 모두 있는 cycle만 대상으로 하려고"
   ]
  },
  {
   "cell_type": "code",
   "execution_count": 23,
   "metadata": {},
   "outputs": [],
   "source": [
    "isee_machine_operation = pd.DataFrame()\n",
    "\n",
    "for c in match_df['CycleNum'].unique().tolist() :\n",
    "    data = match_df[match_df.CycleNum == c].reset_index(drop = True)\n",
    "    start_time = data['creationTime'][0]\n",
    "    last_time = data['creationTime'][len(data)-1]\n",
    "    if (last_time - start_time).total_seconds() <= 3600 : continue\n",
    "    isee_machine_operation = pd.concat([isee_machine_operation,data],axis = 0, ignore_index = True)"
   ]
  },
  {
   "cell_type": "code",
   "execution_count": 24,
   "metadata": {},
   "outputs": [
    {
     "name": "stdout",
     "output_type": "stream",
     "text": [
      "총 데이터 건:  185086\n",
      "cycle 수:  109\n",
      "NG라벨 불량 건:  7540\n",
      "NG5라벨 불량 건:  27452\n"
     ]
    }
   ],
   "source": [
    "print('총 데이터 건: ',isee_machine_operation.shape[0])\n",
    "print('cycle 수: ',isee_machine_operation['CycleNum'].unique().shape[0])\n",
    "print('NG라벨 불량 건: ',isee_machine_operation[isee_machine_operation.NG == 1].shape[0])\n",
    "print('NG5라벨 불량 건: ',isee_machine_operation[isee_machine_operation.NG5 == 1].shape[0])"
   ]
  },
  {
   "cell_type": "markdown",
   "metadata": {},
   "source": [
    "### 초기, 말기 데이터 삭제"
   ]
  },
  {
   "cell_type": "code",
   "execution_count": 25,
   "metadata": {},
   "outputs": [],
   "source": [
    "isee_machine_operation = isee_machine_operation[isee_machine_operation.Operation_label == 1].reset_index(drop=True)"
   ]
  },
  {
   "cell_type": "code",
   "execution_count": 26,
   "metadata": {},
   "outputs": [
    {
     "name": "stdout",
     "output_type": "stream",
     "text": [
      "총 데이터 건:  183201\n",
      "cycle 수:  109\n",
      "NG라벨 불량 건:  7416\n",
      "NG5라벨 불량 건:  27102\n"
     ]
    }
   ],
   "source": [
    "print('총 데이터 건: ',isee_machine_operation.shape[0])\n",
    "print('cycle 수: ',isee_machine_operation['CycleNum'].unique().shape[0])\n",
    "print('NG라벨 불량 건: ',isee_machine_operation[isee_machine_operation.NG == 1].shape[0])\n",
    "print('NG5라벨 불량 건: ',isee_machine_operation[isee_machine_operation.NG5 == 1].shape[0])"
   ]
  },
  {
   "cell_type": "code",
   "execution_count": 27,
   "metadata": {},
   "outputs": [],
   "source": [
    "isee_machine_operation.to_csv('./data/isee_machine_middle_NG_MapNorm.csv',index = False)"
   ]
  },
  {
   "cell_type": "markdown",
   "metadata": {},
   "source": [
    "### 분산이 크거나 min_max 차이가 큰 컬럼 제외\n",
    "- 직접 엑셀로 보기바람\n",
    "- 'VpPosition','VpTime','InjectionEndPosition','PlasticsEndPosotion','TankTemp','NozzleTemp','Zone1','Zone2','Zone3','Zone4','CycleNum', 'Operation_label', 'True_label'"
   ]
  },
  {
   "cell_type": "code",
   "execution_count": null,
   "metadata": {},
   "outputs": [],
   "source": [
    "describe = isee_machine_operation.describe().T"
   ]
  },
  {
   "cell_type": "code",
   "execution_count": null,
   "metadata": {},
   "outputs": [],
   "source": [
    "describe['min_max_diff'] = [ describe['max'][i] - describe['min'][i] for i in range(len(describe))]"
   ]
  },
  {
   "cell_type": "code",
   "execution_count": null,
   "metadata": {},
   "outputs": [],
   "source": [
    "mer_df.describe().T.to_csv('./result/isee_machine/all_describe_MapNorm.csv')"
   ]
  },
  {
   "cell_type": "markdown",
   "metadata": {},
   "source": [
    "###  프로파일링 후 작성함"
   ]
  },
  {
   "cell_type": "code",
   "execution_count": null,
   "metadata": {},
   "outputs": [],
   "source": [
    "# isee_machine_operation = isee_machine_operation[['VpPosition','VpTime','InjectionEndPosition','PlasticsEndPosotion','TankTemp','NozzleTemp'\n",
    "#                                                 ,'Zone1','Zone2','Zone3','Zone4','CycleNum', 'Operation_label', 'NG','NG5',\n",
    "#                                                 'OrderNum', 'ProductNum', 'ProductName', 'ModelNum']]\n",
    "\n",
    "# isee_machine_operation.to_csv('./data/isee_machine_middle_removeclos_NG_MapNorm.csv',index = False)\n",
    "\n",
    "# isee_machine_operation[isee_machine_operation.NG == 1].shape\n",
    "\n",
    "# isee_machine_operation[isee_machine_operation.NG == 0].shape"
   ]
  },
  {
   "cell_type": "markdown",
   "metadata": {},
   "source": [
    "### DB Insert\n",
    "- 완성 부분 아님\n",
    "#####  isee_machine, mer_df, isee_machine_operation 중 어떤것을 넣을지 잘생각해보기\n",
    "- mer_df :  machine과 quality 통합시 통합되는 부분만 \n",
    "- isee_machine : 원본에 생성컬럼 추가\n",
    "- isee_machine_operation : 불필요한 row 제거"
   ]
  },
  {
   "cell_type": "code",
   "execution_count": null,
   "metadata": {},
   "outputs": [],
   "source": [
    "# mer_df_tp = mer_df[['creationTime','YM','CycleNum','Operation_label','True_label','True_label5']].reset_index(drop = True)\n",
    "\n",
    "# mer_df_tp['creationTime'] = mer_df_tp['creationTime'].astype(str)\n",
    "\n",
    "# import pandas as pd\n",
    "# import numpy as np\n",
    "# import os\n",
    "# import re\n",
    "# import pymysql\n",
    "# pymysql.converters.encoders[np.float64] = pymysql.converters.escape_float\n",
    "# pymysql.converters.encoders[np.int64] = pymysql.converters.escape_int\n",
    "# pymysql.converters.conversions = pymysql.converters.encoders.copy()\n",
    "# pymysql.converters.conversions.update(pymysql.converters.decoders)\n",
    "\n",
    "# conn = pymysql.connect(host='13.125.68.125',\n",
    "#                          port=3306,\n",
    "#                          user='rflow',\n",
    "#                          passwd='agile~!@3',\n",
    "#                          db='isee',\n",
    "#                          charset='utf8',\n",
    "#                          autocommit=True)\n",
    "\n",
    "# with conn.cursor() as cursor:\n",
    "#     try:\n",
    "#         for idx in range(0,mer_df.shape[0]):\n",
    "#             sql = \"\"\"INSERT INTO isee.M_MACHINE_NewLabel (creationTime,\n",
    "#                                                             YM,\n",
    "#                                                             CycleNum,\n",
    "#                                                             Operation_label,\n",
    "#                                                             True_label,\n",
    "#                                                             True_label5\n",
    "#                                                             ) VALUES (%s, %s,%s, %s, %s,%s)\"\"\"\n",
    "\n",
    "#             cursor.execute(sql, (mer_df_tp['creationTime'][idx],\n",
    "#                                 mer_df_tp['YM'][idx],\n",
    "#                                 mer_df_tp['CycleNum'][idx],\n",
    "#                                  mer_df_tp['Operation_label'][idx],\n",
    "#                                 mer_df_tp['True_label'][idx],\n",
    "#                                 mer_df_tp['True_label5'][idx]))\n",
    "#         conn.commit()\n",
    "#         print(cursor.lastrowid)\n",
    "#     except Exception as e :\n",
    "#         conn.rollback() \n",
    "#         print(str(e))\n",
    "#         print(\" M_MACHINE_NewLabel db 저장 에러\")\n",
    "# conn.close()"
   ]
  },
  {
   "cell_type": "code",
   "execution_count": null,
   "metadata": {},
   "outputs": [],
   "source": []
  }
 ],
 "metadata": {
  "kernelspec": {
   "display_name": "Python 3",
   "language": "python",
   "name": "python3"
  },
  "language_info": {
   "codemirror_mode": {
    "name": "ipython",
    "version": 3
   },
   "file_extension": ".py",
   "mimetype": "text/x-python",
   "name": "python",
   "nbconvert_exporter": "python",
   "pygments_lexer": "ipython3",
   "version": "3.7.0"
  }
 },
 "nbformat": 4,
 "nbformat_minor": 4
}
